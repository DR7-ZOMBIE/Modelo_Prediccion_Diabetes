{
 "cells": [
  {
   "cell_type": "markdown",
   "id": "8be3aeab",
   "metadata": {},
   "source": [
    "# 1) Comprensión del negocio\n",
    "\n",
    "# Diagnóstico temprano de diabetes mediante regresión logística\n",
    "\n",
    "**Contexto clínico**  \n",
    "En la práctica endocrinológica es crucial identificar a los pacientes con *prediabetes* (riesgo inminente) y *diabetes* establecida.  \n",
    "Un diagnóstico precoz posibilita intervenciones de estilo de vida y farmacológicas que reducen la incidencia de complicaciones micro- y macrovasculares, disminuyen costos en el largo plazo y mejoran la calidad de vida.\n",
    "\n",
    "**Objetivo analítico**  \n",
    "Construir y validar un modelo de clasificación multinomial que estime la variable  \n",
    "`Diabetes_012` ∈ {0 (no diabético), 1 (prediabético), 2 (diabético)} a partir de 20 indicadores clínico-conductuales, aplicando la metodología **CRISP-DM** de extremo a extremo.\n"
   ]
  },
  {
   "cell_type": "markdown",
   "id": "25933015",
   "metadata": {},
   "source": [
    "## 1.1) Importación de librerias"
   ]
  },
  {
   "cell_type": "code",
   "execution_count": 15,
   "id": "a7f75f2f",
   "metadata": {},
   "outputs": [],
   "source": [
    "# Install imbalanced-learn if not already installed\n",
    "from sklearn.utils import resample\n",
    "from imblearn.under_sampling import RandomUnderSampler\n",
    "import pandas as pd\n",
    "import numpy as np\n",
    "from pathlib import Path\n",
    "import matplotlib.pyplot as plt\n",
    "import seaborn as sns\n",
    "from sklearn.calibration import calibration_curve\n",
    "from sklearn.metrics import confusion_matrix\n",
    "import pandas as pd\n",
    "import numpy as np\n",
    "from sklearn.metrics import roc_curve\n",
    "from sklearn.calibration import calibration_curve\n",
    "import plotly.graph_objects as go\n",
    "from sklearn.metrics import confusion_matrix, roc_curve, roc_auc_score, precision_recall_curve, average_precision_score\n",
    "\n",
    "from sklearn.compose import ColumnTransformer\n",
    "from sklearn.preprocessing import StandardScaler\n",
    "from sklearn.pipeline import Pipeline\n",
    "from sklearn.linear_model import LogisticRegression\n",
    "from sklearn.model_selection import train_test_split, cross_val_score, StratifiedKFold\n",
    "from sklearn.metrics import (\n",
    "    accuracy_score, f1_score, confusion_matrix,\n",
    "    classification_report, roc_auc_score, roc_curve\n",
    ")\n",
    "\n",
    "from imblearn.combine import SMOTETomek\n",
    "from imblearn.pipeline import Pipeline as ImbPipeline\n",
    "import joblib\n",
    "\n",
    "RANDOM_STATE = 42\n",
    "DATA_PATH = Path(\"../data/datos_clasificacion.csv\")\n",
    "TARGET = \"Diabetes_012\"\n"
   ]
  },
  {
   "cell_type": "markdown",
   "id": "f16af8e0",
   "metadata": {},
   "source": [
    "# 2) Comprensión de los datos"
   ]
  },
  {
   "cell_type": "markdown",
   "id": "b49cca98",
   "metadata": {},
   "source": [
    "## 2.1) Carga y vista preliminar de los datos"
   ]
  },
  {
   "cell_type": "code",
   "execution_count": 2,
   "id": "941caeef",
   "metadata": {},
   "outputs": [
    {
     "name": "stdout",
     "output_type": "stream",
     "text": [
      "Shape original: (253680, 22)\n",
      "Shape sin prediabetes: (249049, 22)\n"
     ]
    },
    {
     "data": {
      "text/html": [
       "<div>\n",
       "<style scoped>\n",
       "    .dataframe tbody tr th:only-of-type {\n",
       "        vertical-align: middle;\n",
       "    }\n",
       "\n",
       "    .dataframe tbody tr th {\n",
       "        vertical-align: top;\n",
       "    }\n",
       "\n",
       "    .dataframe thead th {\n",
       "        text-align: right;\n",
       "    }\n",
       "</style>\n",
       "<table border=\"1\" class=\"dataframe\">\n",
       "  <thead>\n",
       "    <tr style=\"text-align: right;\">\n",
       "      <th></th>\n",
       "      <th>Diabetes_012</th>\n",
       "      <th>HighBP</th>\n",
       "      <th>HighChol</th>\n",
       "      <th>CholCheck</th>\n",
       "      <th>BMI</th>\n",
       "      <th>Smoker</th>\n",
       "      <th>Stroke</th>\n",
       "      <th>HeartDiseaseorAttack</th>\n",
       "      <th>PhysActivity</th>\n",
       "      <th>Fruits</th>\n",
       "      <th>...</th>\n",
       "      <th>AnyHealthcare</th>\n",
       "      <th>NoDocbcCost</th>\n",
       "      <th>GenHlth</th>\n",
       "      <th>MentHlth</th>\n",
       "      <th>PhysHlth</th>\n",
       "      <th>DiffWalk</th>\n",
       "      <th>Sex</th>\n",
       "      <th>Age</th>\n",
       "      <th>Education</th>\n",
       "      <th>Income</th>\n",
       "    </tr>\n",
       "  </thead>\n",
       "  <tbody>\n",
       "    <tr>\n",
       "      <th>0</th>\n",
       "      <td>0</td>\n",
       "      <td>1.0</td>\n",
       "      <td>1.0</td>\n",
       "      <td>1.0</td>\n",
       "      <td>40.0</td>\n",
       "      <td>1.0</td>\n",
       "      <td>0.0</td>\n",
       "      <td>0.0</td>\n",
       "      <td>0.0</td>\n",
       "      <td>0.0</td>\n",
       "      <td>...</td>\n",
       "      <td>1.0</td>\n",
       "      <td>0.0</td>\n",
       "      <td>5.0</td>\n",
       "      <td>18.0</td>\n",
       "      <td>15.0</td>\n",
       "      <td>1.0</td>\n",
       "      <td>0.0</td>\n",
       "      <td>9.0</td>\n",
       "      <td>4.0</td>\n",
       "      <td>3.0</td>\n",
       "    </tr>\n",
       "    <tr>\n",
       "      <th>1</th>\n",
       "      <td>0</td>\n",
       "      <td>0.0</td>\n",
       "      <td>0.0</td>\n",
       "      <td>0.0</td>\n",
       "      <td>25.0</td>\n",
       "      <td>1.0</td>\n",
       "      <td>0.0</td>\n",
       "      <td>0.0</td>\n",
       "      <td>1.0</td>\n",
       "      <td>0.0</td>\n",
       "      <td>...</td>\n",
       "      <td>0.0</td>\n",
       "      <td>1.0</td>\n",
       "      <td>3.0</td>\n",
       "      <td>0.0</td>\n",
       "      <td>0.0</td>\n",
       "      <td>0.0</td>\n",
       "      <td>0.0</td>\n",
       "      <td>7.0</td>\n",
       "      <td>6.0</td>\n",
       "      <td>1.0</td>\n",
       "    </tr>\n",
       "    <tr>\n",
       "      <th>2</th>\n",
       "      <td>0</td>\n",
       "      <td>1.0</td>\n",
       "      <td>1.0</td>\n",
       "      <td>1.0</td>\n",
       "      <td>28.0</td>\n",
       "      <td>0.0</td>\n",
       "      <td>0.0</td>\n",
       "      <td>0.0</td>\n",
       "      <td>0.0</td>\n",
       "      <td>1.0</td>\n",
       "      <td>...</td>\n",
       "      <td>1.0</td>\n",
       "      <td>1.0</td>\n",
       "      <td>5.0</td>\n",
       "      <td>30.0</td>\n",
       "      <td>30.0</td>\n",
       "      <td>1.0</td>\n",
       "      <td>0.0</td>\n",
       "      <td>9.0</td>\n",
       "      <td>4.0</td>\n",
       "      <td>8.0</td>\n",
       "    </tr>\n",
       "    <tr>\n",
       "      <th>3</th>\n",
       "      <td>0</td>\n",
       "      <td>1.0</td>\n",
       "      <td>0.0</td>\n",
       "      <td>1.0</td>\n",
       "      <td>27.0</td>\n",
       "      <td>0.0</td>\n",
       "      <td>0.0</td>\n",
       "      <td>0.0</td>\n",
       "      <td>1.0</td>\n",
       "      <td>1.0</td>\n",
       "      <td>...</td>\n",
       "      <td>1.0</td>\n",
       "      <td>0.0</td>\n",
       "      <td>2.0</td>\n",
       "      <td>0.0</td>\n",
       "      <td>0.0</td>\n",
       "      <td>0.0</td>\n",
       "      <td>0.0</td>\n",
       "      <td>11.0</td>\n",
       "      <td>3.0</td>\n",
       "      <td>6.0</td>\n",
       "    </tr>\n",
       "    <tr>\n",
       "      <th>4</th>\n",
       "      <td>0</td>\n",
       "      <td>1.0</td>\n",
       "      <td>1.0</td>\n",
       "      <td>1.0</td>\n",
       "      <td>24.0</td>\n",
       "      <td>0.0</td>\n",
       "      <td>0.0</td>\n",
       "      <td>0.0</td>\n",
       "      <td>1.0</td>\n",
       "      <td>1.0</td>\n",
       "      <td>...</td>\n",
       "      <td>1.0</td>\n",
       "      <td>0.0</td>\n",
       "      <td>2.0</td>\n",
       "      <td>3.0</td>\n",
       "      <td>0.0</td>\n",
       "      <td>0.0</td>\n",
       "      <td>0.0</td>\n",
       "      <td>11.0</td>\n",
       "      <td>5.0</td>\n",
       "      <td>4.0</td>\n",
       "    </tr>\n",
       "  </tbody>\n",
       "</table>\n",
       "<p>5 rows × 22 columns</p>\n",
       "</div>"
      ],
      "text/plain": [
       "   Diabetes_012  HighBP  HighChol  CholCheck   BMI  Smoker  Stroke  \\\n",
       "0             0     1.0       1.0        1.0  40.0     1.0     0.0   \n",
       "1             0     0.0       0.0        0.0  25.0     1.0     0.0   \n",
       "2             0     1.0       1.0        1.0  28.0     0.0     0.0   \n",
       "3             0     1.0       0.0        1.0  27.0     0.0     0.0   \n",
       "4             0     1.0       1.0        1.0  24.0     0.0     0.0   \n",
       "\n",
       "   HeartDiseaseorAttack  PhysActivity  Fruits  ...  AnyHealthcare  \\\n",
       "0                   0.0           0.0     0.0  ...            1.0   \n",
       "1                   0.0           1.0     0.0  ...            0.0   \n",
       "2                   0.0           0.0     1.0  ...            1.0   \n",
       "3                   0.0           1.0     1.0  ...            1.0   \n",
       "4                   0.0           1.0     1.0  ...            1.0   \n",
       "\n",
       "   NoDocbcCost  GenHlth  MentHlth  PhysHlth  DiffWalk  Sex   Age  Education  \\\n",
       "0          0.0      5.0      18.0      15.0       1.0  0.0   9.0        4.0   \n",
       "1          1.0      3.0       0.0       0.0       0.0  0.0   7.0        6.0   \n",
       "2          1.0      5.0      30.0      30.0       1.0  0.0   9.0        4.0   \n",
       "3          0.0      2.0       0.0       0.0       0.0  0.0  11.0        3.0   \n",
       "4          0.0      2.0       3.0       0.0       0.0  0.0  11.0        5.0   \n",
       "\n",
       "   Income  \n",
       "0     3.0  \n",
       "1     1.0  \n",
       "2     8.0  \n",
       "3     6.0  \n",
       "4     4.0  \n",
       "\n",
       "[5 rows x 22 columns]"
      ]
     },
     "execution_count": 2,
     "metadata": {},
     "output_type": "execute_result"
    }
   ],
   "source": [
    "df = pd.read_csv(DATA_PATH)\n",
    "print(\"Shape original:\", df.shape)\n",
    "\n",
    "# Eliminar registros con clase 1 (prediabetes)\n",
    "df = df[df[TARGET] != 1]\n",
    "print(\"Shape sin prediabetes:\", df.shape)\n",
    "\n",
    "# Re-codificar: 0 → 0 , 2 → 1  (binario)\n",
    "df[TARGET] = (df[TARGET] == 2).astype(\"int8\")   # 1 = diabético\n",
    "\n",
    "df.head()"
   ]
  },
  {
   "cell_type": "code",
   "execution_count": 3,
   "id": "e26d3736",
   "metadata": {},
   "outputs": [
    {
     "name": "stdout",
     "output_type": "stream",
     "text": [
      "<class 'pandas.core.frame.DataFrame'>\n",
      "Index: 249049 entries, 0 to 253679\n",
      "Data columns (total 22 columns):\n",
      " #   Column                Non-Null Count   Dtype  \n",
      "---  ------                --------------   -----  \n",
      " 0   Diabetes_012          249049 non-null  int8   \n",
      " 1   HighBP                249049 non-null  float64\n",
      " 2   HighChol              249049 non-null  float64\n",
      " 3   CholCheck             249049 non-null  float64\n",
      " 4   BMI                   249049 non-null  float64\n",
      " 5   Smoker                249049 non-null  float64\n",
      " 6   Stroke                249049 non-null  float64\n",
      " 7   HeartDiseaseorAttack  249049 non-null  float64\n",
      " 8   PhysActivity          249049 non-null  float64\n",
      " 9   Fruits                249049 non-null  float64\n",
      " 10  Veggies               249049 non-null  float64\n",
      " 11  HvyAlcoholConsump     249049 non-null  float64\n",
      " 12  AnyHealthcare         249049 non-null  float64\n",
      " 13  NoDocbcCost           249049 non-null  float64\n",
      " 14  GenHlth               249049 non-null  float64\n",
      " 15  MentHlth              249049 non-null  float64\n",
      " 16  PhysHlth              249049 non-null  float64\n",
      " 17  DiffWalk              249049 non-null  float64\n",
      " 18  Sex                   249049 non-null  float64\n",
      " 19  Age                   249049 non-null  float64\n",
      " 20  Education             249049 non-null  float64\n",
      " 21  Income                249049 non-null  float64\n",
      "dtypes: float64(21), int8(1)\n",
      "memory usage: 42.0 MB\n"
     ]
    }
   ],
   "source": [
    "df.info()"
   ]
  },
  {
   "cell_type": "markdown",
   "id": "b6538108",
   "metadata": {},
   "source": [
    "No se identifican datos faltantes."
   ]
  },
  {
   "cell_type": "markdown",
   "id": "5a480284",
   "metadata": {},
   "source": [
    "## 2.2) Revisión de nulidad de los datos"
   ]
  },
  {
   "cell_type": "code",
   "execution_count": 4,
   "id": "9a7b19e0",
   "metadata": {},
   "outputs": [
    {
     "data": {
      "text/plain": [
       "Diabetes_012    0\n",
       "HighBP          0\n",
       "HighChol        0\n",
       "CholCheck       0\n",
       "BMI             0\n",
       "dtype: int64"
      ]
     },
     "metadata": {},
     "output_type": "display_data"
    }
   ],
   "source": [
    "# Celda 4 – Nulos\n",
    "nulls = df.isna().sum().sort_values(ascending=False)\n",
    "display(nulls.head())\n",
    "assert nulls.max() == 0, \"Se encontraron valores nulos inesperados\""
   ]
  },
  {
   "cell_type": "markdown",
   "id": "8c431fd4",
   "metadata": {},
   "source": [
    "## 2.3) Distribución de variable objetivo"
   ]
  },
  {
   "cell_type": "code",
   "execution_count": 5,
   "id": "3a7c784b",
   "metadata": {},
   "outputs": [
    {
     "name": "stdout",
     "output_type": "stream",
     "text": [
      "Diabetes_012\n",
      "No diabético    50.00%\n",
      "Diabético       50.00%\n",
      "Name: proportion, dtype: object\n"
     ]
    },
    {
     "data": {
      "image/png": "[encoded data removed]",
      "text/plain": [
       "<Figure size 640x480 with 1 Axes>"
      ]
     },
     "metadata": {},
     "output_type": "display_data"
    }
   ],
   "source": [
    "# Separar clases\n",
    "df_majority = df[df[TARGET] == 0]\n",
    "df_minority = df[df[TARGET] == 1]\n",
    "\n",
    "# Reducción aleatoria de la clase mayoritaria al tamaño de la minoritaria\n",
    "df_majority_downsampled = resample(\n",
    "    df_majority,\n",
    "    replace=False,\n",
    "    n_samples=len(df_minority),  # igualar tamaño\n",
    "    random_state=42\n",
    ")\n",
    "\n",
    "# Combinar clases balanceadas\n",
    "df_balanced = pd.concat([df_majority_downsampled, df_minority])\n",
    "\n",
    "# Verificar distribución\n",
    "print(df_balanced[TARGET].value_counts(normalize=True).rename({0: \"No diabético\", 1: \"Diabético\"}).map(\"{:.2%}\".format))\n",
    "\n",
    "# (Opcional) Nuevo gráfico\n",
    "import matplotlib.pyplot as plt\n",
    "import seaborn as sns\n",
    "\n",
    "fig, ax = plt.subplots()\n",
    "sns.countplot(x=TARGET, data=df_balanced, ax=ax)\n",
    "ax.set_title(\"Distribución tras el balanceo\")\n",
    "for p in ax.patches:\n",
    "    ax.annotate(f\"{p.get_height():,}\", (p.get_x()+p.get_width()/2, p.get_height()),\n",
    "                ha=\"center\", va=\"bottom\")\n",
    "plt.show()"
   ]
  },
  {
   "cell_type": "markdown",
   "id": "b6dadb5e",
   "metadata": {},
   "source": [
    "## 2.4) Matriz de correlación"
   ]
  },
  {
   "cell_type": "code",
   "execution_count": 6,
   "id": "cee1c1b5",
   "metadata": {},
   "outputs": [
    {
     "data": {
      "image/png": "[encoded data removed]",
      "text/plain": [
       "<Figure size 1200x1000 with 2 Axes>"
      ]
     },
     "metadata": {},
     "output_type": "display_data"
    }
   ],
   "source": [
    "plt.figure(figsize=(12,10))\n",
    "sns.heatmap(df.corr(numeric_only=True), cmap=\"coolwarm\", center=0, linewidths=.5)\n",
    "plt.title(\"Heatmap de correlaciones\")\n",
    "plt.show()\n"
   ]
  },
  {
   "cell_type": "markdown",
   "id": "04647bc5",
   "metadata": {},
   "source": [
    "# 3) Preparación de datos"
   ]
  },
  {
   "cell_type": "markdown",
   "id": "6f07c96f",
   "metadata": {},
   "source": [
    "## 3.1) Balanceo de la variable objetivo"
   ]
  },
  {
   "cell_type": "code",
   "execution_count": 7,
   "id": "84213a5e",
   "metadata": {},
   "outputs": [],
   "source": [
    "# Celda 7 bis  (inmediatamente después de la preparación de datos)\n",
    "feature_cols = [c for c in df_balanced.columns if c != TARGET]\n",
    "X, y = df_balanced[feature_cols].astype(\"float32\"), df_balanced[TARGET]\n",
    "\n",
    "X_train, X_test, y_train, y_test = train_test_split(\n",
    "    X, y, test_size=0.20, stratify=y, random_state=RANDOM_STATE\n",
    ")\n",
    "\n",
    "preprocessor = ColumnTransformer(\n",
    "    transformers=[(\"num\", StandardScaler(), feature_cols)],\n",
    "    verbose_feature_names_out=False\n",
    ")\n",
    "\n",
    "# 1️⃣  Under-sampling sobre la clase mayoritaria\n",
    "resampler = RandomUnderSampler(\n",
    "    sampling_strategy=\"majority\",  # reducir la clase mayoritaria\n",
    "    random_state=RANDOM_STATE\n",
    ")\n",
    "\n",
    "# 2️⃣  Escalado\n",
    "preprocessor = ColumnTransformer(\n",
    "    transformers=[(\"num\", StandardScaler(), feature_cols)],\n",
    "    verbose_feature_names_out=False\n",
    ")\n",
    "\n",
    "# 3️⃣  Clasificador\n",
    "clf = LogisticRegression(\n",
    "    solver=\"lbfgs\",\n",
    "    max_iter=200,\n",
    "    n_jobs=-1,\n",
    "    random_state=RANDOM_STATE\n",
    ")\n",
    "\n",
    "# 4️⃣  Pipeline\n",
    "pipeline = ImbPipeline([\n",
    "    (\"resample\", resampler),       # primero equilibramos\n",
    "    (\"prep\", preprocessor),        # luego escalamos\n",
    "    (\"clf\", clf),\n",
    "])"
   ]
  },
  {
   "cell_type": "code",
   "execution_count": 8,
   "id": "854cc81d",
   "metadata": {},
   "outputs": [
    {
     "name": "stdout",
     "output_type": "stream",
     "text": [
      "Accuracy : 0.7480\n",
      "F1-score : 0.7522\n",
      "\n",
      "              precision    recall  f1-score   support\n",
      "\n",
      "No diabético       0.76      0.73      0.74      7070\n",
      "   Diabético       0.74      0.76      0.75      7069\n",
      "\n",
      "    accuracy                           0.75     14139\n",
      "   macro avg       0.75      0.75      0.75     14139\n",
      "weighted avg       0.75      0.75      0.75     14139\n",
      "\n"
     ]
    },
    {
     "data": {
      "image/png": "[encoded data removed]",
      "text/plain": [
       "<Figure size 640x480 with 2 Axes>"
      ]
     },
     "metadata": {},
     "output_type": "display_data"
    }
   ],
   "source": [
    "pipeline.fit(X_train, y_train)\n",
    "y_pred = pipeline.predict(X_test)\n",
    "\n",
    "acc = accuracy_score(y_test, y_pred)\n",
    "f1  = f1_score(y_test, y_pred)           # binaria ⇒ default = “binary”\n",
    "print(f\"Accuracy : {acc:.4f}\")\n",
    "print(f\"F1-score : {f1:.4f}\\n\")\n",
    "print(classification_report(y_test, y_pred,\n",
    "                             target_names=[\"No diabético\",\"Diabético\"]))\n",
    "\n",
    "cm = confusion_matrix(y_test, y_pred)\n",
    "sns.heatmap(cm, annot=True, fmt=\"d\", cmap=\"Blues\",\n",
    "            xticklabels=[\"No diabético\",\"Diabético\"],\n",
    "            yticklabels=[\"No diabético\",\"Diabético\"])\n",
    "plt.xlabel(\"Predicho\"); plt.ylabel(\"Real\"); plt.title(\"Matriz de confusión\")\n",
    "plt.show()"
   ]
  },
  {
   "cell_type": "code",
   "execution_count": 9,
   "id": "40645893",
   "metadata": {},
   "outputs": [
    {
     "name": "stdout",
     "output_type": "stream",
     "text": [
      "F1-macro CV (5 folds): [0.7446 0.7546 0.7489 0.7524 0.7498]\n",
      "Media ± desv.: 0.7501 ± 0.0034\n"
     ]
    }
   ],
   "source": [
    "# Celda 10\n",
    "cv = StratifiedKFold(n_splits=5, shuffle=True, random_state=RANDOM_STATE)\n",
    "cv_scores = cross_val_score(\n",
    "    pipeline, X, y, cv=cv, scoring=\"f1_macro\", n_jobs=-1\n",
    ")\n",
    "print(\"F1-macro CV (5 folds):\", cv_scores.round(4))\n",
    "print(\"Media ± desv.:\", f\"{cv_scores.mean():.4f} ± {cv_scores.std():.4f}\")\n"
   ]
  },
  {
   "cell_type": "code",
   "execution_count": null,
   "id": "ff88e01f",
   "metadata": {},
   "outputs": [],
   "source": [
    "# Métricas de calibración\n",
    "\n",
    "def graficar_metricas(y_test, y_pred, y_proba):\n",
    "    labels = [\"No diabético\", \"Diabético\"]\n",
    "\n",
    "    # ── Matriz de Confusión ──\n",
    "    cm = confusion_matrix(y_test, y_pred)\n",
    "    fig_cm = go.Figure(data=go.Heatmap(\n",
    "        z=cm,\n",
    "        x=labels,\n",
    "        y=labels,\n",
    "        colorscale=\"Blues\",\n",
    "        showscale=True\n",
    "    ))\n",
    "    fig_cm.update_layout(\n",
    "        title=\"Matriz de Confusión\",\n",
    "        xaxis_title=\"Predicho\",\n",
    "        yaxis_title=\"Real\"\n",
    "    )\n",
    "    fig_cm.show()\n",
    "\n",
    "    # ── Curva ROC ──\n",
    "    fpr, tpr, _ = roc_curve(y_test, y_proba)\n",
    "    auc = roc_auc_score(y_test, y_proba)\n",
    "    fig_roc = go.Figure()\n",
    "    fig_roc.add_trace(go.Scatter(x=fpr, y=tpr, mode='lines', name=f\"AUC = {auc:.3f}\"))\n",
    "    fig_roc.add_trace(go.Scatter(x=[0, 1], y=[0, 1], mode='lines', name='Random', line=dict(dash='dash')))\n",
    "    fig_roc.update_layout(\n",
    "        title=\"Curva ROC\",\n",
    "        xaxis_title=\"Tasa de Falsos Positivos (FPR)\",\n",
    "        yaxis_title=\"Tasa de Verdaderos Positivos (TPR)\",\n",
    "        showlegend=True\n",
    "    )\n",
    "    fig_roc.show()\n",
    "\n",
    "    # ── Curva Precision-Recall ──\n",
    "    precision, recall, _ = precision_recall_curve(y_test, y_proba)\n",
    "    ap = average_precision_score(y_test, y_proba)\n",
    "    fig_pr = go.Figure()\n",
    "    fig_pr.add_trace(go.Scatter(x=recall, y=precision, mode='lines', name=f\"AP = {ap:.3f}\"))\n",
    "    fig_pr.add_trace(go.Scatter(x=[0, 1], y=[1, 0], mode='lines', name='Referencia', line=dict(dash='dash')))\n",
    "    fig_pr.update_layout(\n",
    "        title=\"Curva Precision-Recall\",\n",
    "        xaxis_title=\"Recall\",\n",
    "        yaxis_title=\"Precision\",\n",
    "        showlegend=True\n",
    "    )\n",
    "    fig_pr.show()"
   ]
  },
  {
   "cell_type": "code",
   "execution_count": 12,
   "id": "41b9bd2f",
   "metadata": {},
   "outputs": [
    {
     "data": {
      "application/vnd.plotly.v1+json": {
       "config": {
        "plotlyServerURL": "https://plot.ly"
       },
       "data": [
        {
         "colorscale": [
          [
           0,
           "rgb(247,251,255)"
          ],
          [
           0.125,
           "rgb(222,235,247)"
          ],
          [
           0.25,
           "rgb(198,219,239)"
          ],
          [
           0.375,
           "rgb(158,202,225)"
          ],
          [
           0.5,
           "rgb(107,174,214)"
          ],
          [
           0.625,
           "rgb(66,146,198)"
          ],
          [
           0.75,
           "rgb(33,113,181)"
          ],
          [
           0.875,
           "rgb(8,81,156)"
          ],
          [
           1,
           "rgb(8,48,107)"
          ]
         ],
         "showscale": true,
         "type": "heatmap",
         "x": [
          "No diabético",
          "Diabético"
         ],
         "y": [
          "No diabético",
          "Diabético"
         ],
         "z": {
          "bdata": "MRRtB34GHxU=",
          "dtype": "i2",
          "shape": "2, 2"
         }
        }
       ],
       "layout": {
        "template": {
         "data": {
          "bar": [
           {
            "error_x": {
             "color": "#2a3f5f"
            },
            "error_y": {
             "color": "#2a3f5f"
            },
            "marker": {
             "line": {
              "color": "#E5ECF6",
              "width": 0.5
             },
             "pattern": {
              "fillmode": "overlay",
              "size": 10,
              "solidity": 0.2
             }
            },
            "type": "bar"
           }
          ],
          "barpolar": [
           {
            "marker": {
             "line": {
              "color": "#E5ECF6",
              "width": 0.5
             },
             "pattern": {
              "fillmode": "overlay",
              "size": 10,
              "solidity": 0.2
             }
            },
            "type": "barpolar"
           }
          ],
          "carpet": [
           {
            "aaxis": {
             "endlinecolor": "#2a3f5f",
             "gridcolor": "white",
             "linecolor": "white",
             "minorgridcolor": "white",
             "startlinecolor": "#2a3f5f"
            },
            "baxis": {
             "endlinecolor": "#2a3f5f",
             "gridcolor": "white",
             "linecolor": "white",
             "minorgridcolor": "white",
             "startlinecolor": "#2a3f5f"
            },
            "type": "carpet"
           }
          ],
          "choropleth": [
           {
            "colorbar": {
             "outlinewidth": 0,
             "ticks": ""
            },
            "type": "choropleth"
           }
          ],
          "contour": [
           {
            "colorbar": {
             "outlinewidth": 0,
             "ticks": ""
            },
            "colorscale": [
             [
              0,
              "#0d0887"
             ],
             [
              0.1111111111111111,
              "#46039f"
             ],
             [
              0.2222222222222222,
              "#7201a8"
             ],
             [
              0.3333333333333333,
              "#9c179e"
             ],
             [
              0.4444444444444444,
              "#bd3786"
             ],
             [
              0.5555555555555556,
              "#d8576b"
             ],
             [
              0.6666666666666666,
              "#ed7953"
             ],
             [
              0.7777777777777778,
              "#fb9f3a"
             ],
             [
              0.8888888888888888,
              "#fdca26"
             ],
             [
              1,
              "#f0f921"
             ]
            ],
            "type": "contour"
           }
          ],
          "contourcarpet": [
           {
            "colorbar": {
             "outlinewidth": 0,
             "ticks": ""
            },
            "type": "contourcarpet"
           }
          ],
          "heatmap": [
           {
            "colorbar": {
             "outlinewidth": 0,
             "ticks": ""
            },
            "colorscale": [
             [
              0,
              "#0d0887"
             ],
             [
              0.1111111111111111,
              "#46039f"
             ],
             [
              0.2222222222222222,
              "#7201a8"
             ],
             [
              0.3333333333333333,
              "#9c179e"
             ],
             [
              0.4444444444444444,
              "#bd3786"
             ],
             [
              0.5555555555555556,
              "#d8576b"
             ],
             [
              0.6666666666666666,
              "#ed7953"
             ],
             [
              0.7777777777777778,
              "#fb9f3a"
             ],
             [
              0.8888888888888888,
              "#fdca26"
             ],
             [
              1,
              "#f0f921"
             ]
            ],
            "type": "heatmap"
           }
          ],
          "histogram": [
           {
            "marker": {
             "pattern": {
              "fillmode": "overlay",
              "size": 10,
              "solidity": 0.2
             }
            },
            "type": "histogram"
           }
          ],
          "histogram2d": [
           {
            "colorbar": {
             "outlinewidth": 0,
             "ticks": ""
            },
            "colorscale": [
             [
              0,
              "#0d0887"
             ],
             [
              0.1111111111111111,
              "#46039f"
             ],
             [
              0.2222222222222222,
              "#7201a8"
             ],
             [
              0.3333333333333333,
              "#9c179e"
             ],
             [
              0.4444444444444444,
              "#bd3786"
             ],
             [
              0.5555555555555556,
              "#d8576b"
             ],
             [
              0.6666666666666666,
              "#ed7953"
             ],
             [
              0.7777777777777778,
              "#fb9f3a"
             ],
             [
              0.8888888888888888,
              "#fdca26"
             ],
             [
              1,
              "#f0f921"
             ]
            ],
            "type": "histogram2d"
           }
          ],
          "histogram2dcontour": [
           {
            "colorbar": {
             "outlinewidth": 0,
             "ticks": ""
            },
            "colorscale": [
             [
              0,
              "#0d0887"
             ],
             [
              0.1111111111111111,
              "#46039f"
             ],
             [
              0.2222222222222222,
              "#7201a8"
             ],
             [
              0.3333333333333333,
              "#9c179e"
             ],
             [
              0.4444444444444444,
              "#bd3786"
             ],
             [
              0.5555555555555556,
              "#d8576b"
             ],
             [
              0.6666666666666666,
              "#ed7953"
             ],
             [
              0.7777777777777778,
              "#fb9f3a"
             ],
             [
              0.8888888888888888,
              "#fdca26"
             ],
             [
              1,
              "#f0f921"
             ]
            ],
            "type": "histogram2dcontour"
           }
          ],
          "mesh3d": [
           {
            "colorbar": {
             "outlinewidth": 0,
             "ticks": ""
            },
            "type": "mesh3d"
           }
          ],
          "parcoords": [
           {
            "line": {
             "colorbar": {
              "outlinewidth": 0,
              "ticks": ""
             }
            },
            "type": "parcoords"
           }
          ],
          "pie": [
           {
            "automargin": true,
            "type": "pie"
           }
          ],
          "scatter": [
           {
            "fillpattern": {
             "fillmode": "overlay",
             "size": 10,
             "solidity": 0.2
            },
            "type": "scatter"
           }
          ],
          "scatter3d": [
           {
            "line": {
             "colorbar": {
              "outlinewidth": 0,
              "ticks": ""
             }
            },
            "marker": {
             "colorbar": {
              "outlinewidth": 0,
              "ticks": ""
             }
            },
            "type": "scatter3d"
           }
          ],
          "scattercarpet": [
           {
            "marker": {
             "colorbar": {
              "outlinewidth": 0,
              "ticks": ""
             }
            },
            "type": "scattercarpet"
           }
          ],
          "scattergeo": [
           {
            "marker": {
             "colorbar": {
              "outlinewidth": 0,
              "ticks": ""
             }
            },
            "type": "scattergeo"
           }
          ],
          "scattergl": [
           {
            "marker": {
             "colorbar": {
              "outlinewidth": 0,
              "ticks": ""
             }
            },
            "type": "scattergl"
           }
          ],
          "scattermap": [
           {
            "marker": {
             "colorbar": {
              "outlinewidth": 0,
              "ticks": ""
             }
            },
            "type": "scattermap"
           }
          ],
          "scattermapbox": [
           {
            "marker": {
             "colorbar": {
              "outlinewidth": 0,
              "ticks": ""
             }
            },
            "type": "scattermapbox"
           }
          ],
          "scatterpolar": [
           {
            "marker": {
             "colorbar": {
              "outlinewidth": 0,
              "ticks": ""
             }
            },
            "type": "scatterpolar"
           }
          ],
          "scatterpolargl": [
           {
            "marker": {
             "colorbar": {
              "outlinewidth": 0,
              "ticks": ""
             }
            },
            "type": "scatterpolargl"
           }
          ],
          "scatterternary": [
           {
            "marker": {
             "colorbar": {
              "outlinewidth": 0,
              "ticks": ""
             }
            },
            "type": "scatterternary"
           }
          ],
          "surface": [
           {
            "colorbar": {
             "outlinewidth": 0,
             "ticks": ""
            },
            "colorscale": [
             [
              0,
              "#0d0887"
             ],
             [
              0.1111111111111111,
              "#46039f"
             ],
             [
              0.2222222222222222,
              "#7201a8"
             ],
             [
              0.3333333333333333,
              "#9c179e"
             ],
             [
              0.4444444444444444,
              "#bd3786"
             ],
             [
              0.5555555555555556,
              "#d8576b"
             ],
             [
              0.6666666666666666,
              "#ed7953"
             ],
             [
              0.7777777777777778,
              "#fb9f3a"
             ],
             [
              0.8888888888888888,
              "#fdca26"
             ],
             [
              1,
              "#f0f921"
             ]
            ],
            "type": "surface"
           }
          ],
          "table": [
           {
            "cells": {
             "fill": {
              "color": "#EBF0F8"
             },
             "line": {
              "color": "white"
             }
            },
            "header": {
             "fill": {
              "color": "#C8D4E3"
             },
             "line": {
              "color": "white"
             }
            },
            "type": "table"
           }
          ]
         },
         "layout": {
          "annotationdefaults": {
           "arrowcolor": "#2a3f5f",
           "arrowhead": 0,
           "arrowwidth": 1
          },
          "autotypenumbers": "strict",
          "coloraxis": {
           "colorbar": {
            "outlinewidth": 0,
            "ticks": ""
           }
          },
          "colorscale": {
           "diverging": [
            [
             0,
             "#8e0152"
            ],
            [
             0.1,
             "#c51b7d"
            ],
            [
             0.2,
             "#de77ae"
            ],
            [
             0.3,
             "#f1b6da"
            ],
            [
             0.4,
             "#fde0ef"
            ],
            [
             0.5,
             "#f7f7f7"
            ],
            [
             0.6,
             "#e6f5d0"
            ],
            [
             0.7,
             "#b8e186"
            ],
            [
             0.8,
             "#7fbc41"
            ],
            [
             0.9,
             "#4d9221"
            ],
            [
             1,
             "#276419"
            ]
           ],
           "sequential": [
            [
             0,
             "#0d0887"
            ],
            [
             0.1111111111111111,
             "#46039f"
            ],
            [
             0.2222222222222222,
             "#7201a8"
            ],
            [
             0.3333333333333333,
             "#9c179e"
            ],
            [
             0.4444444444444444,
             "#bd3786"
            ],
            [
             0.5555555555555556,
             "#d8576b"
            ],
            [
             0.6666666666666666,
             "#ed7953"
            ],
            [
             0.7777777777777778,
             "#fb9f3a"
            ],
            [
             0.8888888888888888,
             "#fdca26"
            ],
            [
             1,
             "#f0f921"
            ]
           ],
           "sequentialminus": [
            [
             0,
             "#0d0887"
            ],
            [
             0.1111111111111111,
             "#46039f"
            ],
            [
             0.2222222222222222,
             "#7201a8"
            ],
            [
             0.3333333333333333,
             "#9c179e"
            ],
            [
             0.4444444444444444,
             "#bd3786"
            ],
            [
             0.5555555555555556,
             "#d8576b"
            ],
            [
             0.6666666666666666,
             "#ed7953"
            ],
            [
             0.7777777777777778,
             "#fb9f3a"
            ],
            [
             0.8888888888888888,
             "#fdca26"
            ],
            [
             1,
             "#f0f921"
            ]
           ]
          },
          "colorway": [
           "#636efa",
           "#EF553B",
           "#00cc96",
           "#ab63fa",
           "#FFA15A",
           "#19d3f3",
           "#FF6692",
           "#B6E880",
           "#FF97FF",
           "#FECB52"
          ],
          "font": {
           "color": "#2a3f5f"
          },
          "geo": {
           "bgcolor": "white",
           "lakecolor": "white",
           "landcolor": "#E5ECF6",
           "showlakes": true,
           "showland": true,
           "subunitcolor": "white"
          },
          "hoverlabel": {
           "align": "left"
          },
          "hovermode": "closest",
          "mapbox": {
           "style": "light"
          },
          "paper_bgcolor": "white",
          "plot_bgcolor": "#E5ECF6",
          "polar": {
           "angularaxis": {
            "gridcolor": "white",
            "linecolor": "white",
            "ticks": ""
           },
           "bgcolor": "#E5ECF6",
           "radialaxis": {
            "gridcolor": "white",
            "linecolor": "white",
            "ticks": ""
           }
          },
          "scene": {
           "xaxis": {
            "backgroundcolor": "#E5ECF6",
            "gridcolor": "white",
            "gridwidth": 2,
            "linecolor": "white",
            "showbackground": true,
            "ticks": "",
            "zerolinecolor": "white"
           },
           "yaxis": {
            "backgroundcolor": "#E5ECF6",
            "gridcolor": "white",
            "gridwidth": 2,
            "linecolor": "white",
            "showbackground": true,
            "ticks": "",
            "zerolinecolor": "white"
           },
           "zaxis": {
            "backgroundcolor": "#E5ECF6",
            "gridcolor": "white",
            "gridwidth": 2,
            "linecolor": "white",
            "showbackground": true,
            "ticks": "",
            "zerolinecolor": "white"
           }
          },
          "shapedefaults": {
           "line": {
            "color": "#2a3f5f"
           }
          },
          "ternary": {
           "aaxis": {
            "gridcolor": "white",
            "linecolor": "white",
            "ticks": ""
           },
           "baxis": {
            "gridcolor": "white",
            "linecolor": "white",
            "ticks": ""
           },
           "bgcolor": "#E5ECF6",
           "caxis": {
            "gridcolor": "white",
            "linecolor": "white",
            "ticks": ""
           }
          },
          "title": {
           "x": 0.05
          },
          "xaxis": {
           "automargin": true,
           "gridcolor": "white",
           "linecolor": "white",
           "ticks": "",
           "title": {
            "standoff": 15
           },
           "zerolinecolor": "white",
           "zerolinewidth": 2
          },
          "yaxis": {
           "automargin": true,
           "gridcolor": "white",
           "linecolor": "white",
           "ticks": "",
           "title": {
            "standoff": 15
           },
           "zerolinecolor": "white",
           "zerolinewidth": 2
          }
         }
        },
        "title": {
         "text": "Matriz de Confusión"
        },
        "xaxis": {
         "title": {
          "text": "Predicho"
         }
        },
        "yaxis": {
         "title": {
          "text": "Real"
         }
        }
       }
      }
     },
     "metadata": {},
     "output_type": "display_data"
    },
    {
     "data": {
      "application/vnd.plotly.v1+json": {
       "config": {
        "plotlyServerURL": "https://plot.ly"
       },
       "data": [
        {
         "mode": "lines",
         "name": "AUC = 0.827",
         "type": "scatter",
         "x": {
          "bdata": "AAAAAAAAAAAAAAAAAAAAAAAAAAAAAAAAsi0nrQeKIj+yLSetB4oiP4vEuoMLzzs/i8S6gwvPOz8f+XCYiSxHPx/5cJiJLEc/i8S6gwvPSz+LxLqDC89LP/xHgrfGOFA//EeCt8Y4UD+yLSetB4pSP7ItJ60HilI/aRPMokjbVD9pE8yiSNtUPx/5cJiJLFc/H/lwmIksVz/V3hWOyn1ZP9XeFY7KfVk/i8S6gwvPWz+LxLqDC89bP/xHgrfGOGA//EeCt8Y4YD/XulQyZ2FhP9e6VDJnYWE/si0nrQeKYj+yLSetB4piP42g+SeosmM/jaD5J6iyYz9pE8yiSNtkP2kTzKJI22Q/RIaeHekDZj9Ehp4d6QNmPx/5cJiJLGc/H/lwmIksZz/6a0MTKlVoP/prQxMqVWg/1d4Vjsp9aT/V3hWOyn1pP7BR6Ahrpmo/sFHoCGumaj+LxLqDC89rP4vEuoMLz2s/ZjeN/qv3bD9mN43+q/dsP0KqX3lMIG4/QqpfeUwgbj8dHTL07EhvPx0dMvTsSG8//EeCt8Y4cD/8R4K3xjhwP2qB6/QWzXA/aoHr9BbNcD/XulQyZ2FxP9e6VDJnYXE/RfS9b7f1cT9F9L1vt/VxP7ItJ60HinI/si0nrQeKcj8gZ5DqVx5zPyBnkOpXHnM/jaD5J6iycz+NoPknqLJzP2kTzKJI23Q/aRPMokjbdD9Ehp4d6QN2P0SGnh3pA3Y/sb8HWzmYdj+xvwdbOZh2Px/5cJiJLHc/H/lwmIksdz+MMtrV2cB3P4wy2tXZwHc/+mtDEypVeD/6a0MTKlV4P2elrFB66Xg/Z6WsUHrpeD/V3hWOyn15P9XeFY7KfXk/Qxh/yxoSej9DGH/LGhJ6Px6LUUa7Ons/HotRRrs6ez+LxLqDC897P4vEuoMLz3s/+f0jwVtjfD/5/SPBW2N8P2Y3jf6r93w/ZjeN/qv3fD9Cql95TCB+P0KqX3lMIH4/r+PItpy0fj+v48i2nLR+Px0dMvTsSH8/HR0y9OxIfz+KVpsxPd1/P4pWmzE93X8//EeCt8Y4gD/8R4K3xjiAP7PkNtbugoA/s+Q21u6CgD9qgev0Fs2AP2qB6/QWzYA/17pUMmdhgT/XulQyZ2GBP45XCVGPq4E/jlcJUY+rgT9F9L1vt/WBP0X0vW+39YE/si0nrQeKgj+yLSetB4qCP2nK28sv1II/acrbyy/Ugj8gZ5DqVx6DPyBnkOpXHoM/1wNFCYBogz/XA0UJgGiDP42g+SeosoM/jaD5J6iygz9EPa5G0PyDP0Q9rkbQ/IM/snYXhCCRhD+ydheEIJGEP2kTzKJI24Q/aRPMokjbhD8fsIDBcCWFPx+wgMFwJYU/1kw14JhvhT/WTDXgmG+FP43p6f7AuYU/jenp/sC5hT9Ehp4d6QOGP0SGnh3pA4Y/sb8HWzmYhj+xvwdbOZiGP2hcvHlh4oY/aFy8eWHihj8f+XCYiSyHPx/5cJiJLIc/1pUlt7F2hz/WlSW3sXaHP4wy2tXZwIc/jDLa1dnAhz9Dz470AQuIP0PPjvQBC4g/+mtDEypViD/6a0MTKlWIP7EI+DFSn4g/sQj4MVKfiD9npaxQeumIP2elrFB66Yg/HkJhb6IziT8eQmFvojOJP9XeFY7KfYk/1d4Vjsp9iT+Me8qs8seJP4x7yqzyx4k/Qxh/yxoSij9DGH/LGhKKP/m0M+pCXIo/+bQz6kJcij+wUegIa6aKP7BR6Ahrpoo/Z+6cJ5Pwij9n7pwnk/CKPx6LUUa7Oos/HotRRrs6iz/VJwZl44SLP9UnBmXjhIs/i8S6gwvPiz+LxLqDC8+LP0Jhb6IzGYw/QmFvojMZjD/5/SPBW2OMP/n9I8FbY4w/sJrY34OtjD+wmtjfg62MP2Y3jf6r94w/ZjeN/qv3jD8d1EEd1EGNPx3UQR3UQY0/1HD2O/yLjT/UcPY7/IuNP4sNq1ok1o0/iw2rWiTWjT9Cql95TCCOP0KqX3lMII4/+EYUmHRqjj/4RhSYdGqOP6/jyLactI4/r+PItpy0jj9mgH3VxP6OP2aAfdXE/o4/HR0y9OxIjz8dHTL07EiPP9S55hIVk48/1LnmEhWTjz+KVpsxPd2PP4pWmzE93Y8/ofknqLITkD+h+SeoshOQP/xHgrfGOJA//EeCt8Y4kD9XltzG2l2QP1eW3MbaXZA/DjOR5QKokD8OM5HlAqiQP2qB6/QWzZA/aoHr9BbNkD/Fz0UEK/KQP8XPRQQr8pA/IB6gEz8XkT8gHqATPxeRP3xs+iJTPJE/fGz6IlM8kT/XulQyZ2GRP9e6VDJnYZE/jlcJUY+rkT+OVwlRj6uRP+mlY2Cj0JE/6aVjYKPQkT9F9L1vt/WRP0X0vW+39ZE/oEIYf8sakj+gQhh/yxqSP/uQco7fP5I/+5Byjt8/kj9X38yd82SSP1ffzJ3zZJI/si0nrQeKkj+yLSetB4qSPw58gbwbr5I/DnyBvBuvkj9pytvLL9SSP2nK28sv1JI/xBg220P5kj/EGDbbQ/mSPyBnkOpXHpM/IGeQ6lcekz97ter5a0OTP3u16vlrQ5M/1wNFCYBokz/XA0UJgGiTPzJSnxiUjZM/MlKfGJSNkz+NoPknqLKTP42g+SeospM/6e5TN7zXkz/p7lM3vNeTP0Q9rkbQ/JM/RD2uRtD8kz+giwhW5CGUP6CLCFbkIZQ/+9liZfhGlD/72WJl+EaUP1YovXQMbJQ/Vii9dAxslD+ydheEIJGUP7J2F4QgkZQ/DcVxkzS2lD8NxXGTNLaUP2kTzKJI25Q/aRPMokjblD/EYSayXACVP8RhJrJcAJU/H7CAwXAllT8fsIDBcCWVP9ZMNeCYb5U/1kw14JhvlT8xm4/vrJSVPzGbj++slJU/jenp/sC5lT+N6en+wLmVP+g3RA7V3pU/6DdEDtXelT9Ehp4d6QOWP0SGnh3pA5Y/n9T4LP0olj+f1Pgs/SiWP/oiUzwRTpY/+iJTPBFOlj+xvwdbOZiWP7G/B1s5mJY/DQ5iak29lj8NDmJqTb2WP2hcvHlh4pY/aFy8eWHilj8f+XCYiSyXPx/5cJiJLJc/ekfLp51Rlz96R8unnVGXP9aVJbexdpc/1pUlt7F2lz8x5H/GxZuXPzHkf8bFm5c/jDLa1dnAlz+MMtrV2cCXP+iANOXt5Zc/6IA05e3llz9Dz470AQuYP0PPjvQBC5g/nx3pAxYwmD+fHekDFjCYP/prQxMqVZg/+mtDEypVmD9Vup0iPnqYP1W6nSI+epg/DFdSQWbEmD8MV1JBZsSYP2elrFB66Zg/Z6WsUHrpmD/D8wZgjg6ZP8PzBmCODpk/HkJhb6IzmT8eQmFvojOZP3qQu362WJk/epC7frZYmT/V3hWOyn2ZP9XeFY7KfZk/MC1wnd6imT8wLXCd3qKZP4x7yqzyx5k/jHvKrPLHmT/nySS8Bu2ZP+fJJLwG7Zk/Qxh/yxoSmj9DGH/LGhKaP55m2douN5o/nmbZ2i43mj/5tDPqQlyaP/m0M+pCXJo/VQOO+VaBmj9VA475VoGaP7BR6Ahrppo/sFHoCGummj8MoEIYf8uaPwygQhh/y5o/Z+6cJ5Pwmj9n7pwnk/CaP8I89zanFZs/wjz3NqcVmz8ei1FGuzqbPx6LUUa7Ops/1ScGZeOEmz/VJwZl44SbPzB2YHT3qZs/MHZgdPepmz9CYW+iMxmcP0Jhb6IzGZw/nq/JsUc+nD+er8mxRz6cP/n9I8FbY5w/+f0jwVtjnD9UTH7Qb4icP1RMftBviJw/sJrY34OtnD+wmtjfg62cPwvpMu+X0pw/C+ky75fSnD/ChecNwBydP8KF5w3AHJ0/HdRBHdRBnT8d1EEd1EGdP3kinCzoZp0/eSKcLOhmnT/UcPY7/IudP9Rw9jv8i50/iw2rWiTWnT+LDataJNadP+ZbBWo4+50/5lsFajj7nT9Cql95TCCeP0KqX3lMIJ4/VJVup4iPnj9UlW6niI+eP6/jyLactJ4/r+PItpy0nj9mgH3VxP6eP2aAfdXE/p4/wc7X5Ngjnz/Bztfk2COfPx0dMvTsSJ8/HR0y9OxInz94a4wDAW6fP3hrjAMBbp8/LwhBIim4nz8vCEEiKbifP4pWmzE93Z8/ilabMT3dnz9z0nqgKAGgP3PSeqAoAaA/ofknqLIToD+h+SeoshOgP84g1a88JqA/ziDVrzwmoD/8R4K3xjigP/xHgrfGOKA/Km8vv1BLoD8qby+/UEugP1eW3MbaXaA/V5bcxtpdoD+FvYnOZHCgP4W9ic5kcKA/s+Q21u6CoD+z5DbW7oKgP+AL5N14laA/4Avk3XiVoD8OM5HlAqigPw4zkeUCqKA/aoHr9BbNoD9qgev0Fs2gP8XPRQQr8qA/xc9FBCvyoD/z9vILtQShP/P28gu1BKE/IB6gEz8XoT8gHqATPxehP05FTRvJKaE/TkVNG8kpoT98bPoiUzyhP3xs+iJTPKE/qZOnKt1OoT+pk6cq3U6hP9e6VDJnYaE/17pUMmdhoT8F4gE68XOhPwXiATrxc6E/YDBcSQWZoT9gMFxJBZmhP45XCVGPq6E/jlcJUY+roT/ppWNgo9ChP+mlY2Cj0KE/F80QaC3joT8XzRBoLeOhP3Iba3dBCKI/chtrd0EIoj+gQhh/yxqiP6BCGH/LGqI/zmnFhlUtoj/OacWGVS2iP/uQco7fP6I/+5Byjt8/oj9X38yd82SiP1ffzJ3zZKI/4FTUtJGcoj/gVNS0kZyiPw58gbwbr6I/DnyBvBuvoj87oy7EpcGiPzujLsSlwaI/acrbyy/Uoj9pytvLL9SiP5fxiNO55qI/l/GI07nmoj/EGDbbQ/miP8QYNttD+aI/IGeQ6lceoz8gZ5DqVx6jP3u16vlrQ6M/e7Xq+WtDoz+p3JcB9lWjP6nclwH2VaM/BCvyEAp7oz8EK/IQCnujPzJSnxiUjaM/MlKfGJSNoz9geUwgHqCjP2B5TCAeoKM/jaD5J6iyoz+NoPknqLKjP7vHpi8yxaM/u8emLzLFoz8WFgE/RuqjPxYWAT9G6qM/RD2uRtD8oz9EPa5G0PyjP3JkW05aD6Q/cmRbTloPpD+giwhW5CGkP6CLCFbkIaQ/zbK1XW40pD/NsrVdbjSkP/vZYmX4RqQ/+9liZfhGpD8pARBtglmkPykBEG2CWaQ/Vii9dAxspD9WKL10DGykP4RPanyWfqQ/hE9qfJZ+pD8NxXGTNLakPw3FcZM0tqQ/O+wem77IpD877B6bvsikP2kTzKJI26Q/aRPMokjbpD+WOnmq0u2kP5Y6earS7aQ/xGEmslwApT/EYSayXAClP/KI07nmEqU/8ojTueYSpT8fsIDBcCWlPx+wgMFwJaU/Tdctyfo3pT9N1y3J+jelP3v+2tCESqU/e/7a0IRKpT+oJYjYDl2lP6gliNgOXaU/MZuP76yUpT8xm4/vrJSlP43p6f7AuaU/jenp/sC5pT+7EJcGS8ylP7sQlwZLzKU/6DdEDtXepT/oN0QO1d6lP0SGnh3pA6Y/RIaeHekDpj+f1Pgs/SimP5/U+Cz9KKY/zfulNIc7pj/N+6U0hzumP/oiUzwRTqY/+iJTPBFOpj8oSgBEm2CmPyhKAESbYKY/VnGtSyVzpj9Wca1LJXOmP4SYWlOvhaY/hJhaU6+Fpj+xvwdbOZimP7G/B1s5mKY/3+a0YsOqpj/f5rRiw6qmPzo1D3LXz6Y/OjUPctfPpj+Wg2mB6/SmP5aDaYHr9KY/w6oWiXUHpz/DqhaJdQenP/HRw5D/Gac/8dHDkP8Zpz8f+XCYiSynPx/5cJiJLKc/TCAeoBM/pz9MIB6gEz+nP3pHy6edUac/ekfLp51Rpz+obnivJ2SnP6hueK8nZKc/1pUlt7F2pz/WlSW3sXanPwO90r47iac/A73SvjuJpz8x5H/GxZunPzHkf8bFm6c/Xwstzk+upz9fCy3OT66nP4wy2tXZwKc/jDLa1dnApz+6WYfdY9OnP7pZh91j06c/Fajh7Hf4pz8VqOHsd/inP3H2O/yLHag/cfY7/IsdqD+fHekDFjCoP58d6QMWMKg/zESWC6BCqD/MRJYLoEKoP/prQxMqVag/+mtDEypVqD8ok/AatGeoPyiT8Bq0Z6g/VbqdIj56qD9Vup0iPnqoP4PhSirIjKg/g+FKKsiMqD/eL6U53LGoP94vpTncsag/On7/SPDWqD86fv9I8NaoP2elrFB66ag/Z6WsUHrpqD+VzFlYBPyoP5XMWVgE/Kg/w/MGYI4OqT/D8wZgjg6pP/EatGcYIak/8Rq0ZxghqT8eQmFvojOpPx5CYW+iM6k/epC7frZYqT96kLt+tlipP6e3aIZAa6k/p7dohkBrqT/V3hWOyn2pP9XeFY7Kfak/AwbDlVSQqT8DBsOVVJCpPzAtcJ3eoqk/MC1wnd6iqT9eVB2laLWpP15UHaVotak/jHvKrPLHqT+Me8qs8sepP7qid7R82qk/uqJ3tHzaqT/nySS8Bu2pP+fJJLwG7ak/Qxh/yxoSqj9DGH/LGhKqP8yNhuK4Sao/zI2G4rhJqj8n3ODxzG6qPyfc4PHMbqo/VQOO+VaBqj9VA475VoGqP4IqOwHhk6o/gio7AeGTqj85x+8fCd6qPznH7x8J3qo/Z+6cJ5Pwqj9n7pwnk/CqP5UVSi8dA6s/lRVKLx0Dqz/CPPc2pxWrP8I89zanFas/HotRRrs6qz8ei1FGuzqrP0uy/k1FTas/S7L+TUVNqz+nAFldWXKrP6cAWV1Zcqs/1ScGZeOEqz/VJwZl44SrP16dDXyBvKs/Xp0NfIG8qz+LxLqDC8+rP4vEuoMLz6s/uetni5Xhqz+562eLleGrP+cSFZMf9Ks/5xIVkx/0qz8UOsKaqQasPxQ6wpqpBqw/QmFvojMZrD9CYW+iMxmsP3CIHKq9K6w/cIgcqr0rrD+er8mxRz6sP56vybFHPqw/+f0jwVtjrD/5/SPBW2OsPycl0cjldaw/JyXRyOV1rD9UTH7Qb4isP1RMftBviKw/gnMr2PmarD+CcyvY+ZqsP7Ca2N+Draw/sJrY34OtrD8L6TLvl9KsPwvpMu+X0qw/ORDg9iHlrD85EOD2IeWsP5ReOgY2Cq0/lF46BjYKrT/ChecNwBytP8KF5w3AHK0/HdRBHdRBrT8d1EEd1EGtP0v77iReVK0/S/vuJF5UrT95Ipws6GatP3kinCzoZq0/pklJNHJ5rT+mSUk0cnmtP9Rw9jv8i60/1HD2O/yLrT8CmKNDhp6tPwKYo0OGnq0/Xeb9UprDrT9d5v1SmsOtP7k0WGKu6K0/uTRYYq7orT/mWwVqOPutP+ZbBWo4+60/QqpfeUwgrj9Cql95TCCuP8sfZ5DqV64/yx9nkOpXrj/4RhSYdGquP/hGFJh0aq4/Jm7Bn/58rj8mbsGf/nyuP1SVbqeIj64/VJVup4iPrj+v48i2nLSuP6/jyLactK4/CzIjxrDZrj8LMiPGsNmuPzhZ0M067K4/OFnQzTrsrj9mgH3VxP6uP2aAfdXE/q4/lKcq3U4Rrz+UpyrdThGvP8HO1+TYI68/wc7X5Ngjrz/v9YTsYjavP+/1hOxiNq8/eGuMAwFurz94a4wDAW6vP9S55hIVk68/1LnmEhWTrz8B4ZMan6WvPwHhkxqfpa8/AeGTGp+lrz8B4ZMan6WvPy8IQSIpuK8/LwhBIim4rz+4fUg5x++vP7h9SDnH768/c9J6oCgBsD9z0nqgKAGwPwpmUaRtCrA/CmZRpG0KsD+h+SeoshOwP6H5J6iyE7A/N43+q/ccsD83jf6r9xywP84g1a88JrA/ziDVrzwmsD9ltKuzgS+wP2W0q7OBL7A/Km8vv1BLsD8qby+/UEuwP4W9ic5kcLA/hb2JzmRwsD8cUWDSqXmwPxxRYNKpebA/s+Q21u6CsD+z5DbW7oKwP0p4DdozjLA/SngN2jOMsD/gC+TdeJWwP+AL5N14lbA/d5+64b2esD93n7rhvZ6wPw4zkeUCqLA/DjOR5QKosD88Wj7tjLqwPzxaPu2MurA/aoHr9BbNsD9qgev0Fs2wPwAVwvhb1rA/ABXC+FvWsD+XqJj8oN+wP5eomPyg37A/LjxvAObosD8uPG8A5uiwP8XPRQQr8rA/xc9FBCvysD9cYxwIcPuwP1xjHAhw+7A/8/byC7UEsT/z9vILtQSxP4mKyQ/6DbE/iYrJD/oNsT8gHqATPxexPyAeoBM/F7E/t7F2F4QgsT+3sXYXhCCxP05FTRvJKbE/TkVNG8kpsT/l2CMfDjOxP+XYIx8OM7E/qZOnKt1OsT+pk6cq3U6xP0Anfi4iWLE/QCd+LiJYsT/XulQyZ2GxP9e6VDJnYbE/bk4rNqxqsT9uTis2rGqxPwXiATrxc7E/BeIBOvFzsT+cddg9Nn2xP5x12D02fbE/MgmvQXuGsT8yCa9Be4axP8mchUXAj7E/yZyFRcCPsT9gMFxJBZmxP2AwXEkFmbE/98MyTUqisT/3wzJNSqKxPyXr31TUtLE/JevfVNS0sT+8frZYGb6xP7x+tlgZvrE/UhKNXF7HsT9SEo1cXsexP+mlY2Cj0LE/6aVjYKPQsT8XzRBoLeOxPxfNEGgt47E/rmDna3LssT+uYOdrcuyxP0X0vW+39bE/RfS9b7f1sT9yG2t3QQiyP3Iba3dBCLI/Ca9Be4YRsj8Jr0F7hhGyPzfW7oIQJLI/N9bughAksj/OacWGVS2yP85pxYZVLbI/Zf2bipo2sj/7kHKO3z+yP/uQco7fP7I/kiRJkiRJsj+SJEmSJEmyP8BL9pmuW7I/wEv2ma5bsj9X38yd82SyP1ffzJ3zZLI/7nKjoThusj/ucqOhOG6yP4UGeqV9d7I/hQZ6pX13sj+yLSetB4qyP7ItJ60HirI/ScH9sEyTsj9Jwf2wTJOyP+BU1LSRnLI/4FTUtJGcsj936Kq41qWyP3foqrjWpbI/pA9YwGC4sj+kD1jAYLiyP9I2BcjqyrI/0jYFyOrKsj9pytvLL9SyP2nK28sv1LI/l/GI07nmsj+X8YjTueayPy6FX9f+77I/LoVf1/7vsj+J07nmEhWzP4nTueYSFbM/IGeQ6lcesz8gZ5DqVx6zP02OPfLhMLM/TY498uEwsz/kIRT2JjqzP+QhFPYmOrM/EknB/bBMsz8SScH9sEyzP6nclwH2VbM/qdyXAfZVsz9AcG4FO1+zP0BwbgU7X7M/1wNFCYBosz/XA0UJgGizP22XGw3FcbM/bZcbDcVxsz8EK/IQCnuzPwQr8hAKe7M/m77IFE+Esz+bvsgUT4SzP2B5TCAeoLM/YHlMIB6gsz+NoPknqLKzP42g+SeosrM/JDTQK+27sz8kNNAr7buzP7vHpi8yxbM/u8emLzLFsz9SW30zd86zP1JbfTN3zrM/6e5TN7zXsz/p7lM3vNezP4CCKjsB4bM/gIIqOwHhsz8WFgE/RuqzPxYWAT9G6rM/ranXQovzsz+tqddCi/OzP0Q9rkbQ/LM/RD2uRtD8sz/b0IRKFQa0P9vQhEoVBrQ/CfgxUp8YtD8J+DFSnxi0P6CLCFbkIbQ/oIsIVuQhtD/NsrVdbjS0P82ytV1uNLQ/ZEaMYbM9tD9kRoxhsz20P/vZYmX4RrQ/+9liZfhGtD+SbTlpPVC0P5JtOWk9ULQ/KQEQbYJZtD8pARBtglm0P7+U5nDHYrQ/v5TmcMditD+ET2p8ln60P4RPanyWfrQ/snYXhCCRtD+ydheEIJG0P9+dxIuqo7Q/353Ei6qjtD8NxXGTNLa0Pw3FcZM0trQ/pFhIl3m/tD+kWEiXeb+0P/+moqaN5LQ//6aipo3ktD+WOnmq0u20P5Y6earS7bQ/Lc5Prhf3tD8tzk+uF/e0P8RhJrJcALU/xGEmslwAtT9b9fy1oQm1P1v1/LWhCbU/8ojTueYStT/yiNO55hK1Px+wgMFwJbU/H7CAwXAltT+2Q1fFtS61P7ZDV8W1LrU/Tdctyfo3tT9N1y3J+je1P+RqBM0/QbU/5GoEzT9BtT8SkrHUyVO1PxKSsdTJU7U/qCWI2A5dtT+oJYjYDl21Pz+5XtxTZrU/P7le3FNmtT/WTDXgmG+1P9ZMNeCYb7U/beAL5N14tT9t4Avk3Xi1PwR04ucigrU/BHTi5yKCtT+bB7nrZ4u1P5sHuetni7U/MZuP76yUtT8xm4/vrJS1P1/CPPc2p7U/X8I89zantT/2VRP7e7C1P/ZVE/t7sLU/jenp/sC5tT+N6en+wLm1PyR9wAIGw7U/JH3AAgbDtT+7EJcGS8y1P7sQlwZLzLU/UaRtCpDVtT9RpG0KkNW1P+g3RA7V3rU/6DdEDtXetT9/yxoSGui1P3/LGhIa6LU/Fl/xFV/xtT8WX/EVX/G1P63yxxmk+rU/rfLHGaT6tT/aGXUhLg22P9oZdSEuDbY/CEEiKbgftj8IQSIpuB+2P5/U+Cz9KLY/n9T4LP0otj82aM8wQjK2PzZozzBCMrY/zfulNIc7tj/N+6U0hzu2P2SPfDjMRLY/ZI98OMxEtj/6IlM8EU62P/oiUzwRTrY/kbYpQFZXtj+RtilAVle2PyhKAESbYLY/KEoARJtgtj+/3dZH4Gm2P7/d1kfgabY/VnGtSyVztj9Wca1LJXO2P+0EhE9qfLY/hJhaU6+Ftj8aLDFX9I62PxosMVf0jrY/SFPeXn6htj9IU95efqG2P9/mtGLDqrY/3+a0YsOqtj92eotmCLS2P3Z6i2YItLY/DQ5iak29tj8NDmJqTb22P6OhOG6SxrY/o6E4bpLGtj/RyOV1HNm2P9HI5XUc2bY/aFy8eWHitj9oXLx5YeK2P//vkn2m67Y//++Sfabrtj+Wg2mB6/S2P5aDaYHr9LY/LRdAhTD+tj8tF0CFMP62P8OqFol1B7c/w6oWiXUHtz9aPu2MuhC3P1o+7Yy6ELc/8dHDkP8Ztz/x0cOQ/xm3P4hlmpREI7c/iGWalEQjtz8f+XCYiSy3Px/5cJiJLLc/toxHnM41tz+2jEeczjW3P+Oz9KNYSLc/47P0o1hItz8R26Gr4lq3PxHboaviWrc/PwJPs2xttz8/Ak+zbG23P9aVJbexdrc/1pUlt7F2tz/WlSW3sXa3P9aVJbexdrc/bCn8uvZ/tz9sKfy69n+3PwO90r47ibc/A73SvjuJtz+aUKnCgJK3P5pQqcKAkrc/MeR/xsWbtz8x5H/GxZu3P/WeA9KUt7c/9Z4D0pS3tz+MMtrV2cC3P4wy2tXZwLc/I8aw2R7Ktz8jxrDZHsq3P+iANOXt5bc/6IA05e3ltz9/FAvpMu+3P38UC+ky77c/Fajh7Hf4tz8VqOHsd/i3P0PPjvQBC7g/Q8+O9AELuD8IihIA0Sa4PwiKEgDRJrg/nx3pAxYwuD+fHekDFjC4P8xElgugQrg/zESWC6BCuD9j2GwP5Uu4P2PYbA/lS7g/kf8ZF29euD+R/xkXb164PyiT8Bq0Z7g/KJPwGrRnuD++Jsce+XC4P74mxx75cLg/VbqdIj56uD9Vup0iPnq4P7EI+DFSn7g/sQj4MVKfuD9InM41l6i4P0iczjWXqLg/3i+lOdyxuD/eL6U53LG4P3XDez0hu7g/dcN7PSG7uD+j6ihFq824P6PqKEWrzbg/On7/SPDWuD86fv9I8Na4P9ER1kw14Lg/0RHWTDXguD9npaxQeum4P2elrFB66bg/LGAwXEkFuT8sYDBcSQW5P8PzBmCODrk/w/MGYI4OuT9ah91j0xe5P1qH3WPTF7k/8Rq0ZxghuT/xGrRnGCG5P4euimtdKrk/h66Ka10quT+11Tdz5zy5P7XVN3PnPLk/epC7frZYuT96kLt+tli5PxEkkoL7Ybk/ESSSgvthuT+nt2iGQGu5P6e3aIZAa7k/Pks/ioV0uT/V3hWOyn25P9XeFY7Kfbk/x8BGoSOsuT/HwEahI6y5P15UHaVotbk/XlQdpWi1uT+Me8qs8se5P4x7yqzyx7k/uqJ3tHzauT+6one0fNq5P1A2TrjB47k/UDZOuMHjuT9QNk64weO5P+fJJLwG7bk/58kkvAbtuT9+Xfu/S/a5P35d+79L9rk/rISox9UIuj+shKjH1Qi6P0MYf8saEro/Qxh/yxoSuj/Zq1XPXxu6P9mrVc9fG7o/B9MC1+ktuj8H0wLX6S26P2MhXeb9Uro/YyFd5v1Suj+QSAruh2W6P5BICu6HZbo/vm+39RF4uj++b7f1EXi6P1UDjvlWgbo/VQOO+VaBuj/slmT9m4q6P+yWZP2biro/gio7AeGTuj+CKjsB4ZO6P0flvgywr7o/R+W+DLCvuj/eeJUQ9bi6P954lRD1uLo/dQxsFDrCuj91DGwUOsK6PwygQhh/y7o/DKBCGH/Luj+iMxkcxNS6P6IzGRzE1Lo/0FrGI07nuj/QWsYjTue6P/6BcyvY+bo//oFzK9j5uj+VFUovHQO7P5UVSi8dA7s/wjz3NqcVuz/CPPc2pxW7P1nQzTrsHrs/WdDNOuweuz/wY6Q+MSi7P/BjpD4xKLs/h/d6QnYxuz+H93pCdjG7Px6LUUa7Ors/HotRRrs6uz+1HihKAES7P7UeKEoARLs/S7L+TUVNuz9Lsv5NRU27P+JF1VGKVrs/4kXVUYpWuz952atVz1+7P3nZq1XPX7s/EG2CWRRpuz8QbYJZFGm7Pz6UL2Gee7s/PpQvYZ57uz/VJwZl44S7P9UnBmXjhLs/a7vcaCiOuz9ru9xoKI67PwJPs2xtl7s/Ak+zbG2Xuz8wdmB096m7PzB2YHT3qbs/xwk3eDyzuz/HCTd4PLO7P16dDXyBvLs/Xp0NfIG8uz/0MOR/xsW7P/Qw5H/Gxbs/i8S6gwvPuz+LxLqDC8+7PyJYkYdQ2Ls/IliRh1DYuz+562eLleG7P7nrZ4uV4bs/UH8+j9rquz9Qfz6P2uq7P+cSFZMf9Ls/5xIVkx/0uz9+puuWZP27P36m65Zk/bs/FDrCmqkGvD8UOsKaqQa8P6vNmJ7uD7w/q82Ynu4PvD/Z9EWmeCK8P9n0RaZ4Irw/cIgcqr0rvD9wiByqvSu8P56vybFHPrw/nq/JsUc+vD80Q6C1jEe8PzRDoLWMR7w/y9Z2udFQvD/L1na50VC8P2JqTb0WWrw/YmpNvRZavD/5/SPBW2O8P/n9I8FbY7w/kJH6xKBsvD+QkfrEoGy8Pycl0cjldbw/JyXRyOV1vD+9uKfMKn+8P724p8wqf7w/VEx+0G+IvD9UTH7Qb4i8P4JzK9j5mrw/gnMr2PmavD8ZBwLcPqS8PxkHAtw+pLw/sJrY34OtvD+wmtjfg628P93BhecNwLw/3cGF5w3AvD90VVzrUsm8P3RVXOtSybw/onwJ89zbvD+ifAnz3Nu8P9Cjtvpm7rw/0KO2+mbuvD/9ymMC8QC9P/3KYwLxAL0/K/IQCnsTvT8r8hAKexO9P8KF5w3AHL0/woXnDcAcvT9ZGb4RBSa9P1kZvhEFJr0/8KyUFUovvT/wrJQVSi+9Px3UQR3UQb0/HdRBHdRBvT9L++4kXlS9P0v77iReVL0/4o7FKKNdvT/ijsUoo129P3kinCzoZr0/eSKcLOhmvT8PtnIwLXC9Pw+2cjAtcL0/pklJNHJ5vT+mSUk0cnm9Pz3dHzi3gr0/Pd0fOLeCvT/UcPY7/Iu9P9Rw9jv8i70/mSt6R8unvT+ZK3pHy6e9Py+/UEsQsb0/L79QSxCxvT/GUidPVbq9P8ZSJ09Vur0/Xeb9UprDvT9d5v1SmsO9P4sNq1ok1r0/iw2rWiTWvT8ioYFead+9PyKhgV5p370/T8guZvPxvT9PyC5m8/G9P+ZbBWo4+70/5lsFajj7vT9979ttfQS+P33v2219BL4/FIOyccINvj8Ug7Jxwg2+P6sWiXUHF74/qxaJdQcXvj9Cql95TCC+P0KqX3lMIL4/2D02fZEpvj9v0QyB1jK+P2/RDIHWMr4/nfi5iGBFvj+d+LmIYEW+PzSMkIylTr4/NIyQjKVOvj/LH2eQ6le+P8sfZ5DqV74/YrM9lC9hvj9isz2UL2G+P4/a6pu5c74/j9rqm7lzvj8mbsGf/ny+PyZuwZ/+fL4/vQGYo0OGvj+9AZijQ4a+P1SVbqeIj74/VJVup4iPvj/dCna+Jse+P90Kdr4mx74/CzIjxrDZvj8LMiPGsNm+P6HF+cn14r4/ocX5yfXivj84WdDNOuy+PzhZ0M067L4/z+ym0X/1vj/P7KbRf/W+P2aAfdXE/r4/ZoB91cT+vj/9E1TZCQi/P/0TVNkJCL8/lKcq3U4Rvz+UpyrdThG/P8HO1+TYI78/wc7X5Ngjvz9YYq7oHS2/P1hirugdLb8/7/WE7GI2vz/v9YTsYja/Px0dMvTsSL8/HR0y9OxIvz+0sAj4MVK/P7SwCPgxUr8/4de1/7tkvz/h17X/u2S/P6aSOQuLgL8/ppI5C4uAvz89JhAP0Im/Pz0mEA/Qib8/1LnmEhWTvz/UueYSFZO/PwHhkxqfpb8/AeGTGp+lvz/GmxcmbsG/P8abFyZuwb8/88LELfjTvz/zwsQt+NO/P4pWmzE93b8/ilabMT3dvz8h6nE1gua/PyHqcTWC5r8/c9J6oCgBwD9z0nqgKAHAPz4cZiLLBcA/PhxmIssFwD8KZlGkbQrAPwpmUaRtCsA/ofknqLITwD+h+SeoshPAP2xDEypVGMA/bEMTKlUYwD8D1+ktmiHAPwPX6S2aIcA/ziDVrzwmwD/OINWvPCbAP5pqwDHfKsA/mmrAMd8qwD9ltKuzgS/AP2W0q7OBL8A/Mf6WNSQ0wD8x/pY1JDTAP/xHgrfGOMA//EeCt8Y4wD+T21i7C0LAP5PbWLsLQsA/Km8vv1BLwD8qby+/UEvAP8ACBsOVVMA/wAIGw5VUwD+MTPFEOFnAP4xM8UQ4WcA/V5bcxtpdwD9XltzG2l3APyPgx0h9YsA/I+DHSH1iwD/uKbPKH2fAP+4ps8ofZ8A/hb2JzmRwwD+FvYnOZHDAP1AHdVAHdcA/UAd1UAd1wD8cUWDSqXnAPxxRYNKpecA/55pLVEx+wD/nmktUTH7AP7PkNtbugsA/s+Q21u6CwD9KeA3aM4zAP0p4DdozjMA/FcL4W9aQwD8Vwvhb1pDAP6xVz18bmsA/rFXPXxuawD9D6aVjYKPAP0PppWNgo8A/2nx8Z6WswD/afHxnpazAP6XGZ+lHscA/pcZn6UexwD9wEFNr6rXAP3AQU2vqtcA/B6Qpby+/wD8HpClvL7/AP543AHN0yMA/njcAc3TIwD9qgev0Fs3AP2qB6/QWzcA/NcvWdrnRwD81y9Z2udHAPwAVwvhb1sA/ABXC+FvWwD+XqJj8oN/AP5eomPyg38A/Y/KDfkPkwD9j8oN+Q+TAPy48bwDm6MA/LjxvAObowD/5hVqCiO3AP/mFWoKI7cA/xc9FBCvywD/Fz0UEK/LAP5AZMYbN9sA/kBkxhs32wD9cYxwIcPvAP1xjHAhw+8A/J60HihIAwT8nrQeKEgDBP/P28gu1BME/8/byC7UEwT++QN6NVwnBP75A3o1XCcE/iYrJD/oNwT+JiskP+g3BP+xni5XhG8E/7GeLleEbwT+D+2GZJiXBP4P7YZkmJcE/GY84nWsuwT8Zjziday7BP+XYIx8OM8E/5dgjHw4zwT98bPoiUzzBP3xs+iJTPME/R7blpPVAwT9HtuWk9UDBPxMA0SaYRcE/EwDRJphFwT/eSbyoOkrBP95JvKg6SsE/qZOnKt1OwT+pk6cq3U7BP3Xdkqx/U8E/dd2SrH9TwT913ZKsf1PBP0Anfi4iWME/QCd+LiJYwT8McWmwxFzBPwxxabDEXME/owRAtAlmwT+jBEC0CWbBPwXiATrxc8E/BeIBOvFzwT8yCa9Be4bBPzIJr0F7hsE//lKawx2LwT/+UprDHYvBP5XmcMdilME/leZwx2KUwT/3wzJNSqLBP/fDMk1KosE/JevfVNS0wT8l699U1LTBP7x+tlgZvsE/vH62WBm+wT+HyKHau8LBP4fIodq7wsE/UhKNXF7HwT9SEo1cXsfBPx5ceN4AzME/Hlx43gDMwT+1707iRdXBP7XvTuJF1cE/gDk6ZOjZwT+AOTpk6NnBP0yDJeaK3sE/TIMl5orewT8XzRBoLePBPxfNEGgt48E/4hb86c/nwT/iFvzpz+fBP65g52ty7ME/rmDna3LswT95qtLtFPHBP3mq0u0U8cE/RfS9b7f1wT9F9L1vt/XBP6fRf/WeA8I/p9F/9Z4Dwj9yG2t3QQjCP3Iba3dBCMI/PmVW+eMMwj8+ZVb54wzCPz5lVvnjDMI/1fgs/SgWwj/V+Cz9KBbCP6BCGH/LGsI/oEIYf8sawj8CINoEsyjCPwIg2gSzKMI/zmnFhlUtwj/OacWGVS3CP5mzsAj4McI/mbOwCPgxwj9l/ZuKmjbCP2X9m4qaNsI/MEeHDD07wj8wR4cMPTvCP/uQco7fP8I/+5Byjt8/wj8puB+WaVLCPym4H5ZpUsI/wEv2ma5bwj/AS/aZrlvCP4uV4RtRYMI/i5XhG1Fgwj9X38yd82TCP1ffzJ3zZMI/Iim4H5Zpwj8iKbgflmnCP+5yo6E4bsI/7nKjoThuwj+5vI4j23LCP7m8jiPbcsI/hQZ6pX13wj+FBnqlfXfCP1BQZScgfMI/UFBlJyB8wj/n4zsrZYXCP+fjOytlhcI/FAvpMu+Xwj8UC+ky75fCP6uevzY0ocI/q56/NjShwj936Kq41qXCP3foqrjWpcI/QjKWOnmqwj9CMpY6earCPw58gbwbr8I/DnyBvBuvwj8OfIG8G6/CPw58gbwbr8I/pA9YwGC4wj+kD1jAYLjCPzujLsSlwcI/O6MuxKXBwj/SNgXI6srCP9I2BcjqysI/noDwSY3Pwj+egPBJjc/CP2nK28sv1MI/acrbyy/Uwj8AXrLPdN3CPwBess903cI/y6edURfiwj/Lp51RF+LCP5fxiNO55sI/l/GI07nmwj9iO3RVXOvCP2I7dFVc68I/LoVf1/7vwj8uhV/X/u/CP/nOSlmh9MI/+c5KWaH0wj/EGDbbQ/nCP8QYNttD+cI/J/b3YCsHwz8n9vdgKwfDP76JzmRwEMM/vonOZHAQwz9UHaVotRnDP1QdpWi1GcM/IGeQ6lcewz8gZ5DqVx7DP+uwe2z6IsM/67B7bPoiwz+3+mbunCfDP7f6Zu6cJ8M/gkRScD8swz+CRFJwPyzDPxnYKHSENcM/GdgodIQ1wz/kIRT2JjrDP+QhFPYmOsM/sGv/d8k+wz+wa/93yT7DP3u16vlrQ8M/e7Xq+WtDwz9H/9V7DkjDP0f/1XsOSMM/EknB/bBMwz8SScH9sEzDP92SrH9TUcM/3ZKsf1NRwz90JoODmFrDP3Qmg4OYWsM/QHBuBTtfwz9AcG4FO1/DPwu6WYfdY8M/C7pZh91jwz/XA0UJgGjDP9cDRQmAaMM/ok0wiyJtwz+iTTCLIm3DPwQr8hAKe8M/BCvyEAp7wz/QdN2SrH/DP9B03ZKsf8M/m77IFE+Ewz+bvsgUT4TDPzJSnxiUjcM/MlKfGJSNwz/9m4qaNpLDP5QvYZ57m8M/lC9hnnubwz9geUwgHqDDP2B5TCAeoMM/jaD5J6iywz+NoPknqLLDP1nq5KlKt8M/WerkqUq3wz+7x6YvMsXDP7vHpi8yxcM/hhGSsdTJwz+GEZKx1MnDP1JbfTN3zsM/Ult9M3fOwz+0OD+5XtzDP7Q4P7le3MM/gIIqOwHhwz+Agio7AeHDP0vMFb2j5cM/S8wVvaPlwz8WFgE/RurDPxYWAT9G6sM/4l/swOjuwz/iX+zA6O7DP62p10KL88M/ranXQovzwz9588LELfjDP3nzwsQt+MM/RD2uRtD8wz9EPa5G0PzDP9vQhEoVBsQ/29CEShUGxD+mGnDMtwrEP6YacMy3CsQ/Pa5G0PwTxD89rkbQ/BPEP9RBHdRBHcQ/1EEd1EEdxD82H99ZKSvEPzYf31kpK8Q/AmnK28svxD8Cacrbyy/EP82ytV1uNMQ/zbK1XW40xD9kRoxhsz3EP2RGjGGzPcQ/MJB341VCxD8wkHfjVULEP5JtOWk9UMQ/km05aT1QxD9dtyTr31TEP123JOvfVMQ/KQEQbYJZxD8pARBtglnEP/RK++4kXsQ/9Er77iRexD+/lOZwx2LEP7+U5nDHYsQ/i97R8mlnxD+L3tHyaWfEP1YovXQMbMQ/Vii9dAxsxD8icqj2rnDEPyJyqPaucMQ/uQV/+vN5xD+5BX/683nEPxvjQIDbh8Q/G+NAgNuHxD/mLCwCfozEP+YsLAJ+jMQ/snYXhCCRxD+ydheEIJHEP33AAgbDlcQ/fcACBsOVxD9JCu6HZZrEP0kK7odlmsQ/353Ei6qjxD/fncSLqqPEP0J7hhGSscQ/QnuGEZKxxD+kWEiXeb/EP6RYSJd5v8Q/O+wem77IxD877B6bvsjEPwY2Ch1hzcQ/BjYKHWHNxD/Sf/WeA9LEP9J/9Z4D0sQ/ncngIKbWxD+dyeAgptbEP2kTzKJI28Q/aRPMokjbxD80Xbck69/EPzRdtyTr38Q//6aipo3kxD//pqKmjeTEP5Y6earS7cQ/ljp5qtLtxD9ihGQsdfLEP2KEZCx18sQ/Lc5Prhf3xD8tzk+uF/fEP8RhJrJcAMU/xGEmslwAxT+PqxE0/wTFP4+rETT/BMU/Jj/oN0QOxT8mP+g3RA7FP1RmlT/OIMU/VGaVP84gxT/r+WtDEyrFP+v5a0MTKsU/go1CR1gzxT+CjUJHWDPFP03XLcn6N8U/Tdctyfo3xT8YIRlLnTzFPxghGUudPMU/r7TvTuJFxT+vtO9O4kXFP3v+2tCESsU/e/7a0IRKxT8SkrHUyVPFPxKSsdTJU8U/3ducVmxYxT/d25xWbFjFP6gliNgOXcU/qCWI2A5dxT90b3NasWHFP3Rvc1qxYcU/P7le3FNmxT8/uV7cU2bFPwsDSl72asU/CwNKXvZqxT/WTDXgmG/FP9ZMNeCYb8U/beAL5N14xT9t4Avk3XjFPzgq92WAfcU/OCr3ZYB9xT8EdOLnIoLFPwR04ucigsU/z73NacWGxT/Pvc1pxYbFP5sHuetni8U/mwe562eLxT9mUaRtCpDFP2ZRpG0KkMU/MZuP76yUxT8xm4/vrJTFP8guZvPxncU/yC5m8/GdxT+UeFF1lKLFP5R4UXWUosU/X8I89zanxT9fwjz3NqfFPysMKHnZq8U/KwwoedmrxT/2VRP7e7DFP/ZVE/t7sMU/wZ/+fB61xT/Bn/58HrXFP1gz1YBjvsU/WDPVgGO+xT8kfcACBsPFPyR9wAIGw8U/uxCXBkvMxT+7EJcGS8zFP1GkbQqQ1cU/UaRtCpDVxT8d7liMMtrFPx3uWIwy2sU/6DdEDtXexT/oN0QO1d7FP3/LGhIa6MU/f8saEhroxT9LFQaUvOzFP0sVBpS87MU/Fl/xFV/xxT8WX/EVX/HFP+Go3JcB9sU/4ajclwH2xT+t8scZpPrFP63yxxmk+sU/eDyzm0b/xT94PLObRv/FPw/QiZ+LCMY/D9CJn4sIxj/aGXUhLg3GP9oZdSEuDcY/pmNgo9ARxj+mY2Cj0BHGP3GtSyVzFsY/ca1LJXMWxj899zanFRvGPz33NqcVG8Y/CEEiKbgfxj8IQSIpuB/GP5/U+Cz9KMY/n9T4LP0oxj82aM8wQjLGPzZozzBCMsY/AbK6suQ2xj8Bsrqy5DbGP5hFkbYpQMY/mEWRtilAxj9kj3w4zETGP2SPfDjMRMY/L9lnum5Jxj8v2We6bknGP/oiUzwRTsY/+iJTPBFOxj+RtilAVlfGP5G2KUBWV8Y/KEoARJtgxj8oSgBEm2DGP/ST68U9ZcY/9JPrxT1lxj+/3dZH4GnGP7/d1kfgacY/iifCyYJuxj+KJ8LJgm7GP1ZxrUslc8Y/VnGtSyVzxj/tBIRPanzGP+0EhE9qfMY/uE5v0QyBxj+4Tm/RDIHGP4SYWlOvhcY/hJhaU6+Fxj9P4kXVUYrGP0/iRdVRisY/GiwxV/SOxj8aLDFX9I7GP+Z1HNmWk8Y/5nUc2ZaTxj+xvwdbOZjGP7G/B1s5mMY/fQnz3Nucxj99CfPc25zGP0hT3l5+ocY/SFPeXn6hxj8TncngIKbGPxOdyeAgpsY/qjCg5GWvxj+qMKDkZa/GP3Z6i2YItMY/dnqLZgi0xj8NDmJqTb3GPw0OYmpNvcY/2FdN7O/Bxj/YV03s78HGP6OhOG6SxsY/o6E4bpLGxj9v6yPwNMvGP2/rI/A0y8Y/OjUPctfPxj86NQ9y18/GPwZ/+vN51MY/Bn/683nUxj9oXLx5YeLGP2hcvHlh4sY//++Sfabrxj//75J9puvGP8o5fv9I8MY/yjl+/0jwxj+Wg2mB6/TGP5aDaYHr9MY/Yc1UA475xj9hzVQDjvnGP/hgKwfTAsc/+GArB9MCxz/DqhaJdQfHP8OqFol1B8c/j/QBCxgMxz+P9AELGAzHPyaI2A5dFcc/JojYDl0Vxz+IZZqURCPHP4hlmpREI8c/U6+FFucnxz9Tr4UW5yfHPx/5cJiJLMc/H/lwmIksxz/qQlwaLDHHP+pCXBosMcc/gdYyHnE6xz+B1jIecTrHP0wgHqATP8c/TCAeoBM/xz8YagkitkPHPxhqCSK2Q8c/r/3fJftMxz+v/d8l+0zHPxHboaviWsc/Eduhq+Jaxz+obnivJ2THP6hueK8nZMc/c7hjMcpoxz9zuGMxymjHPz8CT7Nsbcc/PwJPs2xtxz8KTDo1D3LHPwpMOjUPcsc/od8QOVR7xz+h3xA5VHvHP2wp/Lr2f8c/bCn8uvZ/xz84c+c8mYTHPzhz5zyZhMc/A73SvjuJxz8DvdK+O4nHP88GvkDejcc/zwa+QN6Nxz9mmpREI5fHP2aalEQjl8c/MeR/xsWbxz8x5H/GxZvHP/wta0hooMc//C1rSGigxz/Id1bKCqXHP8h3VsoKpcc/k8FBTK2pxz+TwUFMranHP18LLc5Prsc/Xwstzk+uxz8qVRhQ8rLHPypVGFDyssc/jDLa1dnAxz+MMtrV2cDHP1h8xVd8xcc/WHzFV3zFxz/vD5xbwc7HP+8PnFvBzsc/haNyXwbYxz+Fo3JfBtjHP+iANOXt5cc/6IA05e3lxz+zyh9nkOrHP7PKH2eQ6sc/fxQL6TLvxz9/FAvpMu/HPxWo4ex3+Mc/Fajh7Hf4xz94haNyXwbIP3iFo3JfBsg/Q8+O9AELyD9Dz470AQvIP9piZfhGFMg/2mJl+EYUyD+lrFB66RjIP6WsUHrpGMg/PEAnfi4iyD88QCd+LiLIPwiKEgDRJsg/CIoSANEmyD9qZ9SFuDTIP2pn1IW4NMg/NbG/B1s5yD81sb8HWznIPwH7qon9Pcg/Afuqif09yD9j2GwP5UvIP2PYbA/lS8g/LiJYkYdQyD8uIliRh1DIP8W1LpXMWcg/xbUulcxZyD+R/xkXb17IP5H/GRdvXsg/KJPwGrRnyD8ok/AatGfIP/Pc25xWbMg/89zbnFZsyD++Jsce+XDIP74mxx75cMg/inCyoJt1yD+KcLKgm3XIPyEEiaTgfsg/IQSJpOB+yD+4l1+oJYjIP7iXX6gliMg/g+FKKsiMyD+D4UoqyIzIPxp1IS4Nlsg/GnUhLg2WyD/lvgywr5rIP+W+DLCvmsg/fFLjs/SjyD98UuOz9KPIP0iczjWXqMg/SJzONZeoyD/eL6U53LHIP94vpTncscg/qnmQu362yD+qeZC7frbIPwxXUkFmxMg/DFdSQWbEyD+j6ihFq83IP6PqKEWrzcg/BcjqypLbyD8FyOrKktvIP9ER1kw14Mg/0RHWTDXgyD+cW8HO1+TIP5xbwc7X5Mg/Z6WsUHrpyD9npaxQeunIPzPvl9Ic7sg/M++X0hzuyD/+OINUv/LIP/44g1S/8sg/yoJu1mH3yD/Kgm7WYffIPyxgMFxJBck/LGAwXEkFyT/3qRve6wnJP/epG97rCck/w/MGYI4OyT/D8wZgjg7JP4498uEwE8k/jj3y4TATyT9ah91j0xfJP1qH3WPTF8k/vGSf6bolyT+8ZJ/puiXJP4euimtdKsk/h66Ka10qyT8eQmFvojPJPx5CYW+iM8k/tdU3c+c8yT+11Tdz5zzJP0xpDncsRsk/TGkOdyxGyT96kLt+tljJP3qQu362WMk/ESSSgvthyT8RJJKC+2HJP9xtfQSeZsk/3G19BJ5myT+nt2iGQGvJP6e3aIZAa8k/Pks/ioV0yT8+Sz+KhXTJPwqVKgwoeck/CpUqDCh5yT/V3hWOyn3JP9XeFY7Kfck/N7zXE7KLyT83vNcTsovJPwMGw5VUkMk/AwbDlVSQyT/OT64X95TJP85Prhf3lMk/mpmZmZmZyT+amZmZmZnJP2XjhBs8nsk/ZeOEGzyeyT8wLXCd3qLJPzAtcJ3eosk//HZbH4GnyT/8dlsfgafJP15UHaVotck/XlQdpWi1yT8qnggnC7rJPyqeCCcLusk/wDHfKlDDyT/AMd8qUMPJP+5YjDLa1ck/7liMMtrVyT+6one0fNrJP7qid7R82sk/HIA5OmToyT8cgDk6ZOjJP+fJJLwG7ck/58kkvAbtyT9+Xfu/S/bJP35d+79L9sk/SqfmQe76yT9Kp+ZB7vrJPxXx0cOQ/8k/FfHRw5D/yT/gOr1FMwTKP+A6vUUzBMo/rISox9UIyj+shKjH1QjKP3fOk0l4Dco/d86TSXgNyj8OYmpNvRbKPw5iak29Fso/2atVz18byj/Zq1XPXxvKP6X1QFECIMo/pfVAUQIgyj88iRdVRynKPzyJF1VHKco/0xzuWIwyyj/THO5YjDLKPzX6r95zQMo/Nfqv3nNAyj8ARJtgFkXKPwBEm2AWRco/l9dxZFtOyj+X13FkW07KPy5rSGigV8o/LmtIaKBXyj+QSAruh2XKP5BICu6HZco/8yXMc29zyj/zJcxzb3PKP75vt/UReMo/vm+39RF4yj+JuaJ3tHzKP4m5one0fMo/VQOO+VaByj9VA475VoHKPyBNeXv5hco/IE15e/mFyj+CKjsB4ZPKP4IqOwHhk8o/TnQmg4OYyj9OdCaDg5jKPxm+EQUmnco/Gb4RBSadyj/lB/2GyKHKP+UH/YbIoco/fJvTig2ryj98m9OKDavKP6nCgJKXvco/qcKAkpe9yj+iMxkcxNTKP6IzGRzE1Mo/bn0EnmbZyj9ufQSeZtnKPznH7x8J3so/OcfvHwneyj+cpLGl8OvKP5yksaXw68o//oFzK9j5yj/+gXMr2PnKP5UVSi8dA8s/lRVKLx0Dyz9gXzWxvwfLP2BfNbG/B8s/9/ILtQQRyz/38gu1BBHLP8I89zanFcs/wjz3NqcVyz9Z0M067B7LP1nQzTrsHss/JRq5vI4jyz8lGrm8jiPLP7utj8DTLMs/u62PwNMsyz/p1DzIXT/LP+nUPMhdP8s/tR4oSgBEyz+1HihKAETLP4BoE8yiSMs/gGgTzKJIyz9Lsv5NRU3LP0uy/k1FTcs/4kXVUYpWyz/iRdVRilbLP66PwNMsW8s/ro/A0yxbyz9ySkTf+3bLP3JKRN/7dss/Cd4a40CAyz8J3hrjQIDLPwJPs2xtl8s/Ak+zbG2Xyz/OmJ7uD5zLP86Ynu4PnMs/meKJcLKgyz+Z4olwsqDLPzB2YHT3qcs/MHZgdPepyz/HCTd4PLPLP8cJN3g8s8s/Xp0NfIG8yz8p5/j9I8HLP/Qw5H/Gxcs/9DDkf8bFyz/Aes8BacrLP8B6zwFpyss/i8S6gwvPyz+LxLqDC8/LP1cOpgWu08s/Vw6mBa7Tyz8iWJGHUNjLPyJYkYdQ2Ms/7qF8CfPcyz/uoXwJ89zLP1B/Po/a6ss/UH8+j9rqyz8bySkRfe/LPxvJKRF978s/5xIVkx/0yz/nEhWTH/TLP36m65Zk/cs/fqbrlmT9yz9J8NYYBwLMP0nw1hgHAsw/FDrCmqkGzD8UOsKaqQbMP6vNmJ7uD8w/q82Ynu4PzD93F4QgkRTMP3cXhCCRFMw/DqtaJNYdzD8Oq1ok1h3MPzvSByxgMMw/O9IHLGAwzD8HHPOtAjXMPwcc860CNcw/0mXeL6U5zD/SZd4vpTnMP56vybFHPsw/nq/JsUc+zD9p+bQz6kLMP2n5tDPqQsw/NEOgtYxHzD80Q6C1jEfMPwCNizcvTMw/AI2LNy9MzD+XIGI7dFXMP5cgYjt0Vcw/JyXRyOV1zD8nJdHI5XXMP724p8wqf8w/vbinzCp/zD+JApNOzYPMP4kCk07Ng8w/VEx+0G+IzD9UTH7Qb4jMPyCWaVISjcw/IJZpUhKNzD/r31TUtJHMP+vfVNS0kcw/tylAVleWzD+3KUBWV5bMP4JzK9j5msw/gnMr2PmazD9NvRZanJ/MP029Flqcn8w/GQcC3D6kzD8ZBwLcPqTMP+RQ7V3hqMw/5FDtXeGozD9HLq/jyLbMP0cur+PItsw/EniaZWu7zD8SeJpla7vMP3RVXOtSycw/dFVc61LJzD/XMh5xOtfMP9cyHnE618w/bcb0dH/gzD9txvR0f+DMP5vtoXwJ88w/m+2hfAnzzD9mN43+q/fMP2Y3jf6r98w/MoF4gE78zD8ygXiATvzMP/3KYwLxAM0//cpjAvEAzT+UXjoGNgrNP5ReOgY2Cs0/YKgliNgOzT9gqCWI2A7NP1kZvhEFJs0/WRm+EQUmzT/wrJQVSi/NP/CslBVKL80/u/Z/l+wzzT+79n+X7DPNP4ZAaxmPOM0/hkBrGY84zT9SilabMT3NP1KKVpsxPc0/6R0tn3ZGzT/pHS2fdkbNP7RnGCEZS80/tGcYIRlLzT+AsQOju0/NP4CxA6O7T80/S/vuJF5UzT9L++4kXlTNPxZF2qYAWc0/FkXapgBZzT/ijsUoo13NP+KOxSijXc0/eSKcLOhmzT95Ipws6GbNPw+2cjAtcM0/D7ZyMC1wzT9ykzS2FH7NP3KTNLYUfs0/CScLulmHzT8JJwu6WYfNP9Rw9jv8i80/1HD2O/yLzT+fuuG9npDNP5+64b2ekM0/awTNP0GVzT9rBM0/QZXNPwKYo0OGns0/ApijQ4aezT8vv1BLELHNPy+/UEsQsc0/kpwS0fe+zT+SnBLR977NP13m/VKaw80/Xeb9UprDzT+LDataJNbNP4sNq1ok1s0/VleW3MbazT9WV5bcxtrNPyKhgV5p380/IqGBXmnfzT/t6mzgC+TNP+3qbOAL5M0/uTRYYq7ozT+5NFhirujNP4R+Q+RQ7c0/GxIa6JX2zT8bEhrolfbNP+ZbBWo4+80/5lsFajj7zT9979ttfQTOP33v2219BM4/SDnH7x8Jzj9IOcfvHwnOPxSDsnHCDc4/FIOyccINzj/fzJ3zZBLOP9/MnfNkEs4/qxaJdQcXzj+rFol1BxfOP3ZgdPepG84/dmB096kbzj+khyH/My7OP6SHIf8zLs4/Oxv4Ank3zj87G/gCeTfOPwZl44QbPM4/BmXjhBs8zj/Srs4GvkDOP9Kuzga+QM4/nfi5iGBFzj+d+LmIYEXOP2hCpQoDSs4/aEKlCgNKzj80jJCMpU7OPzSMkIylTs4//9V7DkhTzj//1XsOSFPOP8sfZ5DqV84/yx9nkOpXzj/4RhSYdGrOP/hGFJh0as4/xJD/GRdvzj/EkP8ZF2/OP4/a6pu5c84/j9rqm7lzzj9bJNYdXHjOP1sk1h1ceM4/Jm7Bn/58zj8mbsGf/nzOP4hLgyXmis4/iEuDJeaKzj9UlW6niI/OP1SVbqeIj84/H99ZKSuUzj8f31kpK5TOP4G8G68Sos4/gbwbrxKizj/kmd00+q/OP+SZ3TT6r84/r+PItpy0zj+v48i2nLTOP0Z3n7rhvc4/RnefuuG9zj/dCna+JsfOP90Kdr4mx84/dJ5MwmvQzj90nkzCa9DOP6HF+cn14s4/ocX5yfXizj84WdDNOuzOPzhZ0M067M4/z+ym0X/1zj/P7KbRf/XOP2aAfdXE/s4/ZoB91cT+zj8xymhXZwPPPzHKaFdnA88/yF0/W6wMzz/IXT9brAzPP1/xFV/xFc8/X/EVX/EVzz8rOwHhkxrPPys7AeGTGs8/wc7X5Ngjzz/Bztfk2CPPPySsmWrAMc8/JKyZasAxzz/v9YTsYjbPP+/1hOxiNs8/uj9wbgU7zz+6P3BuBTvPP4aJW/CnP88/holb8Kc/zz8dHTL07EjPPx0dMvTsSM8/6GYddo9Nzz/oZh12j03PP7SwCPgxUs8/tLAI+DFSzz94a4wDAW7PP3hrjAMBbs8/ppI5C4uAzz+mkjkLi4DPP3HcJI0thc8/cdwkjS2Fzz8IcPuQco7PPwhw+5Byjs8/1LnmEhWTzz/UueYSFZPPPwHhkxqfpc8/AeGTGp+lzz+YdGoe5K7PP5h0ah7krs8/+lEspMu8zz/6USyky7zPP8abFyZuwc8/xpsXJm7Bzz+R5QKoEMbPP5HlAqgQxs8/XS/uKbPKzz9dL+4ps8rPP/PCxC34088/88LELfjTzz+/DLCvmtjPP78MsK+a2M8/VqCGs9/hzz9WoIaz3+HPP7h9SDnH788/uH1IOcfvzz+DxzO7afTPP4PHM7tp9M8/c9J6oCgB0D9z0nqgKAHQP1l3cOF5A9A/WXdw4XkD0D8KZlGkbQrQPwpmUaRtCtA/1a88JhAP0D/VrzwmEA/QP6H5J6iyE9A/ofknqLIT0D9S6AhrphrQP1LoCGumGtA/N43+q/cc0D83jf6r9xzQPx0y9OxIH9A/HTL07Egf0D8D1+ktmiHQPwPX6S2aIdA/tMXK8I0o0D+0xcrwjSjQPzH+ljUkNNA/Mf6WNSQ00D8Wo4x2dTbQPxajjHZ1NtA//EeCt8Y40D/8R4K3xjjQP+Lsd/gXO9A/4ux3+Bc70D95gE78XETQP3mATvxcRNA/RMo5fv9I0D9Eyjl+/0jQPypvL79QS9A/Km8vv1BL0D8PFCUAok3QPw8UJQCiTdA/9bgaQfNP0D/1uBpB80/QP6an+wPnVtA/pqf7A+dW0D+MTPFEOFnQP4xM8UQ4WdA/cvHmhYlb0D9y8eaFiVvQPz070gcsYNA/PTvSByxg0D8Ihb2JzmTQPwiFvYnOZNA/7imzyh9n0D/uKbPKH2fQP7pznkzCa9A/unOeTMJr0D9QB3VQB3XQP1AHdVAHddA/NqxqkVh30D82rGqRWHfQPxxRYNKpedA/HFFg0ql50D8C9lUT+3vQPwL2VRP7e9A/zT9BlZ2A0D/NP0GVnYDQP34uIliRh9A/fi4iWJGH0D9k0xeZ4onQP2TTF5niidA/SngN2jOM0D9KeA3aM4zQPxXC+FvWkNA/FcL4W9aQ0D/7Zu6cJ5PQP/tm7pwnk9A/rFXPXxua0D+sVc9fG5rQP5L6xKBsnNA/kvrEoGyc0D93n7rhvZ7QP3efuuG9ntA/XUSwIg+h0D9dRLAiD6HQPyiOm6SxpdA/KI6bpLGl0D/afHxnpazQP9p8fGelrNA/vyFyqPau0D+/IXKo9q7QP6XGZ+lHsdA/pcZn6Uex0D88Wj7tjLrQPzxaPu2MutA/Iv8zLt680D8i/zMu3rzQP+1IH7CAwdA/7UgfsIDB0D+4kgoyI8bQP7iSCjIjxtA/njcAc3TI0D+eNwBzdMjQP2qB6/QWzdA/aoHr9BbN0D81y9Z2udHQPzXL1na50dA/G3DMtwrU0D8bcMy3CtTQPwAVwvhb1tA/ABXC+FvW0D+xA6O7T93QP7EDo7tP3dA/SJd5v5Tm0D9Il3m/lObQP/mFWoKI7dA/+YVagojt0D/Fz0UEK/LQP8XPRQQr8tA/q3Q7RXz00D+rdDtFfPTQP5AZMYbN9tA/kBkxhs320D9cYxwIcPvQP1xjHAhw+9A/QQgSScH90D9BCBJJwf3QPyetB4oSANE/J60HihIA0T/z9vILtQTRP/P28gu1BNE/2JvoTAYH0T/Ym+hMBgfRP4mKyQ/6DdE/iYrJD/oN0T9V1LSRnBLRP1XUtJGcEtE/BsOVVJAZ0T8Gw5VUkBnRP7exdheEINE/t7F2F4Qg0T+dVmxY1SLRP51WbFjVItE/aKBX2ncn0T9ooFfadyfRP05FTRvJKdE/TkVNG8kp0T8Zjziday7RPxmPOJ1rLtE//zMu3rww0T//My7evDDRP8t9GWBfNdE/y30ZYF810T9HtuWk9UDRP0e25aT1QNE/EwDRJphF0T8TANEmmEXRP/ikxmfpR9E/+KTGZ+lH0T/eSbyoOkrRP8TusemLTNE/xO6x6YtM0T+POJ1rLlHRP484nWsuUdE/dd2SrH9T0T913ZKsf1PRPwxxabDEXNE/DHFpsMRc0T+jBEC0CWbRP6MEQLQJZtE/iKk19Vpo0T+IqTX1WmjRPzmYFrhOb9E/OZgWuE5v0T8fPQz5n3HRPx89DPmfcdE/BeIBOvFz0T8F4gE68XPRP+qG93pCdtE/6ob3ekJ20T/QK+27k3jRP9Ar7buTeNE/TWS5ACqE0T9NZLkAKoTRP/5SmsMdi9E//lKawx2L0T/k948Eb43RP+T3jwRvjdE/leZwx2KU0T+V5nDHYpTRP3qLZgi0ltE/eotmCLSW0T9gMFxJBZnRP2AwXEkFmdE/RtVRilab0T9G1VGKVpvRPxEfPQz5n9E/ER89DPmf0T/CDR7P7KbRP8INHs/sptE/qLITED6p0T+oshMQPqnRP45XCVGPq9E/jlcJUY+r0T9ZofTSMbDRP1mh9NIxsNE/P0bqE4Oy0T8/RuoTg7LRP/A0y9Z2udE/8DTL1na50T/W2cAXyLvRP9bZwBfIu9E/vH62WBm+0T+8frZYGb7RP6EjrJlqwNE/oSOsmWrA0T9tbZcbDcXRP21tlxsNxdE/UhKNXF7H0T9SEo1cXsfRPzi3gp2vydE/OLeCna/J0T8eXHjeAMzRPx5ceN4AzNE/BAFuH1LO0T8EAW4fUs7RP+mlY2Cj0NE/6aVjYKPQ0T+1707iRdXRP7XvTuJF1dE/mpREI5fX0T+alEQjl9fRP4A5OmTo2dE/gDk6ZOjZ0T9m3i+lOdzRP2beL6U53NE/TIMl5ore0T9MgyXmit7RPzEoGyfc4NE/MSgbJ9zg0T/9cQapfuXRP8i78Soh6tE/rmDna3Ls0T+uYOdrcuzRPxA+qfFZ+tE/ED6p8Vn60T/ch5Rz/P7RP9yHlHP8/tE/chtrd0EI0j9yG2t3QQjSPz5lVvnjDNI/PmVW+eMM0j8jCkw6NQ/SPyMKTDo1D9I/Ca9Be4YR0j8Jr0F7hhHSP7qdIj56GNI/up0iPnoY0j+gQhh/yxrSP6BCGH/LGtI/a4wDAW4f0j9rjAMBbh/SP+jEz0UEK9I/6MTPRQQr0j/OacWGVS3SP85pxYZVLdI/sw67x6Yv0j+zDrvHpi/SP39YpklJNNI/f1imSUk00j9KopHL6zjSP0qikcvrONI/4TVozzBC0j/hNWjPMELSP61/U1HTRtI/rX9TUdNG0j9ebjQUx03SP15uNBTHTdI/D10V17pU0j8PXRXXulTSP/UBCxgMV9I/9QELGAxX0j/apgBZXVnSP9qmAFldWdI/wEv2ma5b0j/AS/aZrlvSP3E611yiYtI/cTrXXKJi0j9X38yd82TSP1ffzJ3zZNI/Iim4H5Zp0j8iKbgflmnSPwjOrWDna9I/CM6tYOdr0j9qq2/mznnSP2qrb+bOedI/UFBlJyB80j9QUGUnIHzSPwE/RuoTg9I/5+M7K2WF0j+yLSetB4rSP7ItJ60HitI/mNIc7liM0j+Y0hzuWIzSP2McCHD7kNI/YxwIcPuQ0j8UC+ky75fSPxQL6TLvl9I/4FTUtJGc0j/gVNS0kZzSP8b5yfXintI/xvnJ9eKe0j+RQ7V3haPSP5FDtXeFo9I/d+iquNal0j936Kq41qXSPw58gbwbr9I/DnyBvBuv0j/ZxWw+vrPSP9nFbD6+s9I/irRNAbK60j+KtE0BsrrSP3BZQ0IDvdI/cFlDQgO90j9W/jiDVL/SP1b+OINUv9I/O6MuxKXB0j87oy7EpcHSP9I2BcjqytI/0jYFyOrK0j+42/oIPM3SP7jb+gg8zdI/noDwSY3P0j+egPBJjc/SP2nK28sv1NI/acrbyy/U0j9Pb9EMgdbSP09v0QyB1tI/5gKoEMbf0j/mAqgQxt/SP3yWfhQL6dI/fJZ+FAvp0j9iO3RVXOvSP2I7dFVc69I/LoVf1/7v0j8uhV/X/u/SP/nOSlmh9NI/+c5KWaH00j/EGDbbQ/nSP8QYNttD+dI/qr0rHJX70j+qvSsclfvSP6q9KxyV+9I/kGIhXeb90j+QYiFd5v3SP0FRAiDaBNM/QVECINoE0z8Mm+2hfAnTPwyb7aF8CdM/8j/j4s0L0z/yP+PizQvTP9jk2CMfDtM/2OTYIx8O0z++ic5kcBDTP76JzmRwENM/oy7EpcES0z+jLsSlwRLTP4nTueYSFdM/idO55hIV0z9UHaVotRnTP1QdpWi1GdM/IGeQ6lce0z8gZ5DqVx7TP+uwe2z6ItM/67B7bPoi0z/RVXGtSyXTP9FVca1LJdM/t/pm7pwn0z+3+mbunCfTP2jpR7GQLtM/aOlHsZAu0z//fB611TfTP/98HrXVN9M/5CEU9iY60z/kIRT2JjrTP3u16vlrQ9M/e7Xq+WtD0z9H/9V7DkjTP0f/1XsOSNM/LKTLvF9K0z8spMu8X0rTP92SrH9TUdM/3ZKsf1NR0z/DN6LApFPTP8M3osCkU9M/qdyXAfZV0z+p3JcB9lXTP4+BjUJHWNM/j4GNQkdY0z/xXk/ILmbTP/FeT8guZtM/1wNFCYBo0z/XA0UJgGjTP6JNMIsibdM/ok0wiyJt0z9TPBFOFnTTP1M8EU4WdNM/OeEGj2d20z8EK/IQCnvTPwQr8hAKe9M/0HTdkqx/0z/QdN2SrH/TP5u+yBRPhNM/m77IFE+E0z9MranXQovTP0ytqddCi9M/GPeUWeWP0z8Y95RZ5Y/TP8nldRzZltM/yeV1HNmW0z+vimtdKpnTP6+Ka10qmdM/lC9hnnub0z+UL2Gee5vTP2B5TCAeoNM/YHlMIB6g0z9FHkJhb6LTP0UeQmFvotM/K8M3osCk0z8rwzeiwKTTPxFoLeMRp9M/EWgt4xGn0z/csRhltKvTP9yxGGW0q9M/wlYOpgWu0z/CVg6mBa7TPyQ00Cvtu9M/JDTQK+270z8K2cVsPr7TPwrZxWw+vtM/u8emLzLF0z+7x6YvMsXTP6FsnHCDx9M/oWyccIPH0z+GEZKx1MnTP4YRkrHUydM/Ult9M3fO0z9SW30zd87TPzgAc3TI0NM/OABzdMjQ0z8dpWi1GdPTPx2laLUZ09M/zpNJeA3a0z/Ok0l4DdrTP0vMFb2j5dM/S8wVvaPl0z8xcQv+9OfTPzFxC/7059M/FhYBP0bq0z8WFgE/RurTP+Jf7MDo7tM/4l/swOju0z/IBOIBOvHTP8gE4gE68dM/ranXQovz0z+tqddCi/PTP5NOzYPc9dM/k07Ng9z10z9588LELfjTP3nzwsQt+NM/Xpi4BX/60z9emLgFf/rTP/UrjwnEA9Q/9SuPCcQD1D+mGnDMtwrUP6YacMy3CtQ/cmRbTloP1D9yZFtOWg/UPz2uRtD8E9Q/Pa5G0PwT1D8jUzwRThbUPyNTPBFOFtQ/CfgxUp8Y1D8J+DFSnxjUP+6cJ5PwGtQ/7pwnk/Aa1D+65hIVkx/UP7rmEhWTH9Q/oIsIVuQh1D+giwhW5CHUP4Uw/pY1JNQ/hTD+ljUk1D9r1fPXhibUP2vV89eGJtQ/UXrpGNgo1D9ReukY2CjUPwJpytvLL9Q/AmnK28sv1D/oDcAcHTLUP+gNwBwdMtQ/s1ernr821D+zV6uevzbUP0rrgaIEQNQ/SuuBogRA1D+SbTlpPVDUP5JtOWk9UNQ/KQEQbYJZ1D8pARBtglnUP/RK++4kXtQ/9Er77iRe1D/a7/AvdmDUP9rv8C92YNQ/v5TmcMdi1D+/lOZwx2LUP6U53LEYZdQ/pTncsRhl1D+L3tHyaWfUP4ve0fJpZ9Q/cYPHM7tp1D9xg8czu2nUP1YovXQMbNQ/Vii9dAxs1D8icqj2rnDUPyJyqPaucNQ/02CJuaJ31D/TYIm5onfUP56qdDtFfNQ/nqp0O0V81D+ET2p8ln7UP4RPanyWftQ/NT5LP4qF1D81Pks/ioXUP8zRIUPPjtQ/zNEhQ8+O1D+XGw3FcZPUP5cbDcVxk9Q/FFTZCQif1D8UVNkJCJ/UP9+dxIuqo9Q/353Ei6qj1D/FQrrM+6XUP8VCusz7pdQ/XNaQ0ECv1D9c1pDQQK/UPycgfFLjs9Q/JyB8UuOz1D/zaWfUhbjUP/NpZ9SFuNQ/pFhIl3m/1D+kWEiXeb/UP2+iMxkcxNQ/b6IzGRzE1D8hkRTcD8vUPyGRFNwPy9Q/tyTr31TU1D+3JOvfVNTUP53J4CCm1tQ/ncngIKbW1D9pE8yiSNvUP2kTzKJI29Q/5UuY597m1D/lS5jn3ubUP5Y6earS7dQ/ljp5qtLt1D98327rI/DUP3zfbusj8NQ/Lc5Prhf31D8tzk+uF/fUPxNzRe9o+dQ/E3NF72j51D/evDBxC/7UP968MHEL/tQ/xGEmslwA1T/EYSayXADVP4+rETT/BNU/j6sRNP8E1T91UAd1UAfVP3VQB3VQB9U/W/X8taEJ1T9b9fy1oQnVPyY/6DdEDtU/Jj/oN0QO1T+90r47iRfVP73SvjuJF9U/VGaVP84g1T9UZpU/ziDVPzoLi4AfI9U/OguLgB8j1T8fsIDBcCXVPx+wgMFwJdU/BVV2AsIn1T8FVXYCwifVP2cyOIipNdU/ZzI4iKk11T9N1y3J+jfVP03XLcn6N9U/M3wjCkw61T8zfCMKTDrVP/7FDozuPtU//sUOjO4+1T9go9AR1kzVP2Cj0BHWTNU/EpKx1MlT1T8SkrHUyVPVP/c2pxUbVtU/9zanFRtW1T/d25xWbFjVP93bnFZsWNU/w4CSl71a1T/DgJKXvVrVP6gliNgOXdU/qCWI2A5d1T90b3NasWHVP3Rvc1qxYdU/WhRpmwJk1T9aFGmbAmTVPz+5XtxTZtU/P7le3FNm1T/WTDXgmG/VP9ZMNeCYb9U/hzsWo4x21T+HOxajjHbVP1OFASUve9U/U4UBJS971T8ez+ym0X/VPx7P7KbRf9U/BHTi5yKC1T8EdOLnIoLVP7Viw6oWidU/tWLDqhaJ1T+bB7nrZ4vVP5sHuetni9U/gKyuLLmN1T+ArK4suY3VP0z2ma5bktU/TPaZrluS1T8xm4/vrJTVPzGbj++slNU/F0CFMP6W1T8XQIUw/pbVP67TWzRDoNU/rtNbNEOg1T+UeFF1lKLVP5R4UXWUotU/RWcyOIip1T9FZzI4iKnVPysMKHnZq9U/Kwwoedmr1T8QsR26Kq7VPxCxHboqrtU/3PoIPM2y1T/c+gg8zbLVP6dE9L1vt9U/p0T0vW+31T+N6en+wLnVP43p6f7AudU/c47fPxK81T9zjt8/ErzVPz7YysG0wNU/PtjKwbTA1T8kfcACBsPVPyR9wAIGw9U/oLWMR5zO1T+gtYxHnM7VP4Zagojt0NU/hlqCiO3Q1T9s/3fJPtPVP2z/d8k+09U/UaRtCpDV1T9RpG0KkNXVPzdJY0vh19U/N0ljS+HX1T8Dk07Ng9zVPwOTTs2D3NU/6DdEDtXe1T/O3DlPJuHVP87cOU8m4dU/tIEvkHfj1T+0gS+Qd+PVP3/LGhIa6NU/f8saEhro1T9LFQaUvOzVP0sVBpS87NU/MLr71A3v1T8wuvvUDe/VPxZf8RVf8dU/Fl/xFV/x1T/HTdLYUvjVP8dN0thS+NU/rfLHGaT61T+t8scZpPrVP3g8s5tG/9U/eDyzm0b/1T9e4ajclwHWP17hqNyXAdY/KSuUXjoG1j8pK5ReOgbWP/V0f+DcCtY/9XR/4NwK1j/aGXUhLg3WP9oZdSEuDdY/wL5qYn8P1j/Avmpifw/WP6ZjYKPQEdY/pmNgo9AR1j9xrUslcxbWP3GtSyVzFtY/Pfc2pxUb1j899zanFRvWPwhBIim4H9Y/CEEiKbgf1j/Uig2rWiTWP9SKDataJNY/uS8D7Ksm1j+5LwPsqybWP1DD2e/wL9Y/UMPZ7/Av1j8cDcVxkzTWPxwNxXGTNNY/AbK6suQ21j8Bsrqy5DbWP7Kgm3XYPdY/sqCbddg91j+YRZG2KUDWP5hFkbYpQNY/ZI98OMxE1j9kj3w4zETWPy/ZZ7puSdY/L9lnum5J1j/6IlM8EU7WP/oiUzwRTtY/4MdIfWJQ1j/gx0h9YlDWP8ZsPr6zUtY/xmw+vrNS1j+sETT/BFXWP6wRNP8EVdY/XQAVwvhb1j9dABXC+FvWP/ST68U9ZdY/9JPrxT1l1j+/3dZH4GnWP7/d1kfgadY/cMy3CtRw1j9wzLcK1HDWPwdgjg4ZetY/B2CODhl61j+EmFpTr4XWP4SYWlOvhdY/aT1QlACI1j9pPVCUAIjWPzWHOxajjNY/NYc7FqOM1j8A0SaYRZHWPwDRJphFkdY/sb8HWzmY1j+xvwdbOZjWP2Ku6B0tn9Y/Yq7oHS2f1j9IU95efqHWP0hT3l5+odY/LvjTn8+j1j8u+NOfz6PWP/lBvyFyqNY/+UG/IXKo1j/Fi6qjFK3WP8WLqqMUrdY/qjCg5GWv1j+qMKDkZa/WP1sfgadZttY/Wx+Bp1m21j++/EItQcTWP778Qi1BxNY/iUYur+PI1j+JRi6v48jWP2/rI/A0y9Y/b+sj8DTL1j9VkBkxhs3WP1WQGTGGzdY/OjUPctfP1j86NQ9y18/WPyDaBLMo0tY/INoEsyjS1j/rI/A0y9bWP+sj8DTL1tY/t23btm3b1j+3bdu2bdvWP//vkn2m69Y//++Sfabr1j/KOX7/SPDWP8o5fv9I8NY/R3JKRN/71j9HckpE3/vWP/hgKwfTAtc/+GArB9MC1z/DqhaJdQfXP8OqFol1B9c/j/QBCxgM1z+P9AELGAzXP3WZ90tpDtc/dZn3S2kO1z9A4+LNCxPXP0Dj4s0LE9c/8dHDkP8Z1z/x0cOQ/xnXP9d2udFQHNc/13a50VAc1z8EnmbZ2i7XPwSeZtnaLtc/6kJcGiwx1z/qQlwaLDHXP7aMR5zONdc/toxHnM411z+B1jIecTrXP4HWMh5xOtc/Z3soX8I81z9neyhfwjzXPzLFE+FkQdc/MsUT4WRB1z/+Dv9iB0bXP/4O/2IHRtc/yVjq5KlK1z/JWOrkqUrXP6/93yX7TNc/r/3fJftM1z+UotVmTE/XP5Si1WZMT9c/Eduhq+Ja1z8R26Gr4lrXP/d/l+wzXdc/93+X7DNd1z+OE27weGbXP44TbvB4Ztc/c7hjMcpo1z9zuGMxymjXPz8CT7Nsbdc/PwJPs2xt1z/w8C92YHTXP9aVJbexdtc/od8QOVR71z+h3xA5VHvXP1LO8ftHgtc/Us7x+0eC1z8eGN196obXPx4Y3X3qhtc/A73SvjuJ1z8DvdK+O4nXP+lhyP+Mi9c/6WHI/4yL1z/PBr5A3o3XP88GvkDejdc/tKuzgS+Q1z+0q7OBL5DXP2aalEQjl9c/ZpqURCOX1z9LP4qFdJnXP0s/ioV0mdc/MeR/xsWb1z8x5H/GxZvXP3lmN43+q9c/eWY3jf6r1z9fCy3OT67XP18LLc5Prtc/RLAiD6Gw1z9EsCIPobDXPypVGFDystc/KlUYUPKy1z8Q+g2RQ7XXPxD6DZFDtdc/20P5Eua51z/bQ/kS5rnXP6eN5JSIvtc/p43klIi+1z9y188WK8PXP3LXzxYrw9c/CWumGnDM1z8Ja6YacMzXP1HtXeGo3Nc/Ue1d4ajc1z8cN0ljS+HXPxw3SWNL4dc/6IA05e3l1z/ogDTl7eXXP80lKiY/6Nc/zSUqJj/o1z+zyh9nkOrXP7PKH2eQ6tc/mW8VqOHs1z+ZbxWo4ezXP2S5ACqE8dc/ZLkAKoTx1z9KXvZq1fPXP0pe9mrV89c/+0zXLcn61z/7TNctyfrXP+HxzG4a/dc/4fHMbhr91z8PGXp2pA/YPw8ZenakD9g/2mJl+EYU2D/aYmX4RhTYP8AHWzmYFtg/wAdbOZgW2D+LUUa7OhvYP4tRRrs6G9g/V5sxPd0f2D9XmzE93R/YPyLlHL9/JNg/IuUcv38k2D8IihIA0SbYPwiKEgDRJtg/7S4IQSIp2D/tLghBIinYP7l488LELdg/uXjzwsQt2D81sb8HWznYPzWxvwdbOdg/G1a1SKw72D8bVrVIrDvYPwH7qon9Pdg/Afuqif092D+y6YtM8UTYP7Lpi0zxRNg/FMdN0thS2D8Ux03S2FLYPw045lsFatg/DTjmWwVq2D/z3NucVmzYP/Pc25xWbNg/pMu8X0pz2D+ky7xfSnPYP1W6nSI+etg/VbqdIj562D87X5Njj3zYPztfk2OPfNg/Bql+5TGB2D8GqX7lMYHYP+xNdCaDg9g/7E10JoOD2D+dPFXpdorYP508Vel2itg/g+FKKsiM2D+D4UoqyIzYP04rNqxqkdg/Tis2rGqR2D98UuOz9KPYP3xS47P0o9g/E+a5tzmt2D8T5rm3Oa3YP/mKr/iKr9g/+Yqv+Iqv2D/eL6U53LHYP94vpTncsdg/xNSaei202D/E1Jp6LbTYP3XDez0hu9g/dcN7PSG72D8mslwAFcLYPyayXAAVwtg/DFdSQWbE2D8MV1JBZsTYP71FMwRay9g/vUUzBFrL2D+Jjx6G/M/YP4mPHob8z9g/bjQUx03S2D9uNBTHTdLYPyAj9YlB2dg/ICP1iUHZ2D/rbOAL5N3YP+ts4Avk3dg/trbLjYbi2D+2tsuNhuLYP4IAtw8p59g/ggC3Dynn2D9NSqKRy+vYP01KopHL69g/M++X0hzu2D8z75fSHO7YPxmUjRNu8Ng/GZSNE27w2D/+OINUv/LYP/44g1S/8tg/5N14lRD12D/k3XiVEPXYP8qCbtZh99g/yoJu1mH32D+VzFlYBPzYP5XMWVgE/Ng/e3FPmVX+2D97cU+ZVf7YP2EWRdqmANk/YRZF2qYA2T8sYDBcSQXZPyxgMFxJBdk/96kb3usJ2T/3qRve6wnZP1qH3WPTF9k/WofdY9MX2T8/LNOkJBrZPz8s06QkGtk/C3a+Jsce2T8Ldr4mxx7ZP7xkn+m6Jdk/vGSf6bol2T+iCZUqDCjZP6IJlSoMKNk/OZ1rLlEx2T85nWsuUTHZPx5CYW+iM9k/HkJhb6Iz2T/qi0zxRDjZP+qLTPFEONk/zzBCMpY62T/PMEIyljrZP7XVN3PnPNk/tdU3c+c82T+bei20OD/ZP5t6LbQ4P9k//VfvOSBN2T/9V+85IE3ZP8mh2rvCUdk/yaHau8JR2T+U68U9ZVbZP5TrxT1lVtk/RdqmAFld2T9F2qYAWV3ZPxEkkoL7Ydk/ESSSgvth2T/CEnNF72jZP8ISc0XvaNk/cwFUCONv2T9zAVQI42/ZPwqVKgwoedk/CpUqDCh52T/V3hWOyn3ZP9XeFY7Kfdk/u4MLzxuA2T+7gwvPG4DZP4bN9lC+hNk/hs32UL6E2T9SF+LSYInZP1IX4tJgidk/N7zXE7KL2T83vNcTsovZPx1hzVQDjtk/HWHNVAOO2T/oqrjWpZLZP+iquNalktk/mpmZmZmZ2T+amZmZmZnZP/x2Wx+Bp9k//HZbH4Gn2T/HwEahI6zZP8fARqEjrNk/jHvKrPLH2T+Me8qs8sfZP1fFtS6VzNk/V8W1LpXM2T8CJS97terZPwIlL3u16tk/zW4a/Vfv2T/Nbhr9V+/ZP35d+79L9tk/fl37v0v22T+RKZ4IJwvaP5EpnggnC9o/Qxh/yxoS2j9DGH/LGhLaP9mrVc9fG9o/2atVz18b2j+LmjaSUyLaP3A/LNOkJNo/7Xf4Fzsw2j/td/gXOzDaPwBEm2AWRdo/AESbYBZF2j99fGelrFDaP318Z6WsUNo/YyFd5v1S2j9jIV3m/VLaPxQQPqnxWdo/FBA+qfFZ2j9ckvVvKmraP1yS9W8qato/8yXMc29z2j/zJcxzb3PaP9jKwbTAddo/2MrBtMB12j+kFK02Y3raP6QUrTZjeto/O6iDOqiD2j87qIM6qIPaPyBNeXv5hdo/IE15e/mF2j+CKjsB4ZPaP4IqOwHhk9o/aM8wQjKW2j9ozzBCMpbaP050JoODmNo/TnQmg4OY2j+W9t1JvKjaP5b23Um8qNo/fJvTig2r2j98m9OKDavaP2FAycterdo/YUDJy16t2j9H5b4MsK/aP0flvgywr9o/Ei+qjlK02j8SL6qOUrTaP49ndtPov9o/j2d20+i/2j8m+0zXLcnaPyb7TNctydo/8UQ4WdDN2j/xRDhZ0M3aP9fpLZoh0No/1+ktmiHQ2j+I2A5dFdfaP4jYDl0V19o/OcfvHwne2j85x+8fCd7aPwUR26Gr4to/BRHboavi2j+cpLGl8OvaP5yksaXw69o/gUmn5kHu2j+BSafmQe7aP69wVO7LANs/r3BU7ssA2z96uj9wbgXbP3q6P3BuBds/YF81sb8H2z9gXzWxvwfbPyypIDNiDNs/LKkgM2IM2z/WCJp/girbP9YImn+CKts/u62PwNMs2z+7rY/A0yzbP4f3ekJ2Mds/h/d6QnYx2z9SQWbEGDbbP1JBZsQYNts/HotRRrs62z8ei1FGuzrbP+nUPMhdP9s/6dQ8yF0/2z/PeTIJr0HbP895MgmvQds/tR4oSgBE2z+1HihKAETbP5rDHYtRRts/msMdi1FG2z9mDQkN9ErbP2YNCQ30Sts/MVf0jpZP2z8X/OnP51HbPxf86c/nUds/yOrKkttY2z/I6sqS21jbP66PwNMsW9s/ro/A0yxb2z952atVz1/bP3nZq1XPX9s/X36hliBi2z9ffqGWIGLbPyrIjBjDZts/KsiMGMNm2z9Y7zkgTXnbP1jvOSBNeds/PpQvYZ572z8+lC9hnnvbP++CECSSgts/74IQJJKC2z+6zPulNIfbP7rM+6U0h9s/NwXI6sqS2z83BcjqypLbP5niiXCyoNs/meKJcLKg2z9lLHXyVKXbP2UsdfJUpds/MHZgdPep2z8wdmB096nbP/u/S/aZrts/+79L9pmu2z+SUyL63rfbP5JTIvret9s/ePgXOzC62z94+Bc7MLrbP16dDXyBvNs/Xp0NfIG82z9DQgO90r7bP0NCA73Svts/Kef4/SPB2z8p5/j9I8HbP/Qw5H/Gxds/9DDkf8bF2z/Aes8BacrbP8B6zwFpyts/ph/FQrrM2z+mH8VCuszbP3FpsMRc0ds/cWmwxFzR2z9XDqYFrtPbP1cOpgWu09s/CP2GyKHa2z8I/YbIodrbP9NGckpE39s/00ZySkTf2z+562eLleHbP7nrZ4uV4ds/G8kpEX3v2z8bySkRfe/bP+cSFZMf9Ns/5xIVkx/02z/MtwrUcPbbP5gB9lUT+9s/fqbrlmT92z9+puuWZP3bP2NL4de1/9s/Y0vh17X/2z/63rfb+gjcP/ret9v6CNw/q82Ynu4P3D+rzZie7g/cP5Fyjt8/Etw/kXKO3z8S3D9cvHlh4hbcP1y8eWHiFtw/QmFvojMZ3D9CYW+iMxncPygGZeOEG9w/KAZl44Qb3D/Z9EWmeCLcP9n0RaZ4Itw/v5k758kk3D+/mTvnySTcP1YtEusOLtw/Vi0S6w4u3D/SZd4vpTncP9Jl3i+lOdw/afm0M+pC3D9p+bQz6kLcP0+eqnQ7Rdw/T56qdDtF3D8a6JX23UncPxrolfbdSdw/AI2LNy9M3D8AjYs3L0zcP+UxgXiATtw/5TGBeIBO3D/5/SPBW2PcP/n9I8FbY9w/xEcPQ/5n3D/ERw9D/mfcP1vb5UZDcdw/W9vlRkNx3D/ybrxKiHrcP/JuvEqIetw/b6eIjx6G3D9vp4iPHobcPzrxcxHBitw/OvFzEcGK3D8glmlSEo3cPyCWaVISjdw/699U1LSR3D/r31TUtJHcP9GEShUGlNw/0YRKFQaU3D+czjWXqJjcP5zONZeomNw/Tb0WWpyf3D9NvRZanJ/cPzNiDJvtodw/M2IMm+2h3D//q/cckKbcP/+r9xyQptw/yvXinjKr3D/K9eKeMqvcP3vkw2Emstw/e+TDYSay3D9An0dt9c3cP0CfR231zdw/JUQ9rkbQ3D8lRD2uRtDcPzkQ4PYh5dw/ORDg9iHl3D/Qo7b6Zu7cP9Cjtvpm7tw/m+2hfAnz3D+b7aF8CfPcP4GSl71a9dw/gZKXvVr13D9M3II//fncP0zcgj/9+dw/MoF4gE783D8ygXiATvzcPxgmbsGf/tw/GCZuwZ/+3D/9ymMC8QDdP/3KYwLxAN0/rrlExeQH3T+uuUTF5AfdP3oDMEeHDN0/egMwR4cM3T8RlwZLzBXdPxGXBkvMFd0/3ODxzG4a3T/c4PHMbhrdP8KF5w3AHN0/woXnDcAc3T+oKt1OER/dP6gq3U4RH90/Pr6zUlYo3T8+vrNSVijdPx3UQR3UQd0/HdRBHdRB3T8DeTdeJUTdPwN5N14lRN0/mgwOYmpN3T+aDA5iak3dPzGg5GWvVt0/MaDkZa9W3T/86c/nUVvdP/zpz+dRW90/yDO7afRf3T/IM7tp9F/dP0Rsh66Ka90/RGyHropr3T8PtnIwLXDdP6ZJSTRyed0/pklJNHJ53T9ykzS2FH7dP3KTNLYUft0/CScLulmH3T8JJwu6WYfdP5+64b2ekN0/n7rhvZ6Q3T8CmKNDhp7dPwKYo0OGnt0/5zyZhNeg3T/nPJmE16DdP7OGhAZ6pd0/s4aEBnql3T+ZK3pHy6fdP5krekfLp90/FWRGjGGz3T8VZEaMYbPdP+GtMQ4EuN0/4a0xDgS43T+s9xyQprzdP6z3HJCmvN0/KTDp1DzI3T8pMOnUPMjdP7/Dv9iB0d0/v8O/2IHR3T9WV5bcxtrdP1ZXltzG2t0/049iIV3m3T/Tj2IhXebdP57ZTaP/6t0/ntlNo//q3T8Btw8p5/jdPwG3Dynn+N0/zAD7qon93T/MAPuqif3dP2OU0a7OBt4/Y5TRrs4G3j/6J6iyExDeP/onqLITEN4/xXGTNLYU3j/FcZM0thTeP77iK77iK94/vuIrvuIr3j+khyH/My7eP6SHIf8zLt4/VXYCwic13j9VdgLCJzXePzsb+AJ5N94/Oxv4Ank33j8GZeOEGzzePwZl44QbPN4/t1PERw9D3j+3U8RHD0PeP2hCpQoDSt4/aEKlCgNK3j//1XsOSFPeP//Vew5IU94/R1gz1YBj3j9HWDPVgGPeP97rCdnFbN4/3usJ2cVs3j8mbsGf/nzePyZuwZ/+fN4/11yiYvKD3j/XXKJi8oPeP4hLgyXmit4/iEuDJeaK3j8FhE9qfJbePwWET2p8lt4/GFDysler3j8YUPKyV6veP2DSqXmQu94/YNKpeZC73j8sHJX7MsDePywclfsywN4/qFRhQMnL3j+oVGFAycveP475VoEazt4/jvlWgRrO3j9ZQ0IDvdLeP1lDQgO90t4/ocX5yfXi3j+hxfnJ9eLeP5s2klMi+t4/mzaSUyL63j9MJXMWFgHfP0wlcxYWAd8/F29emLgF3z8Xb16YuAXfP+O4SRpbCt8/47hJGlsK3z+UpyrdThHfP5SnKt1OEd8/KzsB4ZMa3z8rOwHhkxrfP/aE7GI2H98/9oTsYjYf3z/cKeKjhyHfP9wp4qOHId8/p3PNJSom3z+nc80lKibfP1hirugdLd8/WGKu6B0t3z8JUY+rETTfPwlRj6sRNN8/oORlr1Y93z+g5GWvVj3fP4aJW/CnP98/holb8Kc/3z8Cwic1PkvfPwLCJzU+S98/6GYddo9N3z/oZh12j03fP7SwCPgxUt8/tLAI+DFS3z9/+vN51FbfP3/683nUVt8/SkTf+3Zb3z9KRN/7dlvfP+HXtf+7ZN8/4de1/7tk3z/HfKtADWffP8d8q0ANZ98/ksaWwq9r3z+SxpbCr2vfP0S1d4Wjct8/RLV3haNy3z8P/2IHRnffPw//YgdGd98/2khOieh73z/aSE6J6HvfP3HcJI0thd8/cdwkjS2F3z9XgRrOfoffP1eBGs5+h98/IssFUCGM3z8iywVQIYzfP7le3FNmld8/uV7cU2aV3z8B4ZMan6XfPwHhkxqfpd8/mHRqHuSu3z+YdGoe5K7fP34ZYF81sd8/fhlgXzWx3z93ivjoYcjfP3eK+OhhyN8/2We6bknW3z/ZZ7puSdbfP4pWmzE93d8/ilabMT3d3z/tM123JOvfP+0zXbck698/uH1IOcfv3z+4fUg5x+/fP08RHz0M+d8/GlsKv6793z8aWwq/rv3fP0iCt8Y4EOA/SIK3xjgQ4D+Gnh3pAxbgP4aeHekDFuA/bEMTKlUY4D9sQxMqVRjgP98Vjsp9GeA/3xWOyn0Z4D/FuoMLzxvgP6pfeUwgHuA/HTL07Egf4D8dMvTsSB/gP5AEb41xIOA/kARvjXEg4D9bTloPFCXgP1tOWg8UJeA/ziDVrzwm4D/OINWvPCbgP7TFyvCNKOA/tMXK8I0o4D/y4TATWS7gP/LhMBNZLuA/Mf6WNSQ04D8x/pY1JDTgP6PQEdZMNeA/o9AR1kw14D+JdQcXnjfgP4l1BxeeN+A/bxr9V+854D9vGv1X7zngP+Lsd/gXO+A/4ux3+Bc74D95gE78XETgP3mATvxcROA/t5y0HihK4D+3nLQeKErgPypvL79QS+A/Km8vv1BL4D+cQapfeUzgP5xBql95TOA/pqf7A+dW4D+mp/sD51bgP1eW3MbaXeA/V5bcxtpd4D/KaFdnA1/gP8poV2cDX+A/lrJC6aVj4D+WskLppWPgP3tXOCr3ZeA/e1c4Kvdl4D+6c55MwmvgP7pznkzCa+A/nxiUjRNu4D+fGJSNE27gP/iPBG+NceA/+I8Eb41x4D9rYn8PtnLgP2tifw+2cuA/UAd1UAd14D9QB3VQB3XgPzasapFYd+A/NqxqkVh34D8cUWDSqXngPxxRYNKpeeA/dMjQsyN94D90yNCzI33gP0ASvDXGgeA/QBK8NcaB4D8mt7F2F4TgPya3sXYXhOA/ZNMXmeKJ4D9k0xeZ4ongP0p4DdozjOA/SngN2jOM4D+8Soh6XI3gP7xKiHpcjeA/ou99u62P4D+i7327rY/gP3efuuG9nuA/d5+64b2e4D/qcTWC5p/gP+pxNYLmn+A/0BYrwzei4D/QFivDN6LgP7a7IASJpOA/trsgBImk4D/afHxnpazgP9p8fGelrOA/vyFyqPau4D+/IXKo9q7gPzL07EgfsOA/GJniiXCy4D/+PdjKwbTgP/492MrBtOA/4+LNCxO34D/j4s0LE7fgP68suY21u+A/ryy5jbW74D8i/zMu3rzgPyL/My7evOA/lNGuzga+4D+U0a7OBr7gP3p2pA9YwOA/enakD1jA4D+eNwBzdMjgP543AHN0yOA/EQp7E53J4D8RCnsTncngP4Tc9bPFyuA/hNz1s8XK4D9PJuE1aM/gP08m4TVoz+A/c+c8mYTX4D9z5zyZhNfgP8xerXr+2uA/zF6tev7a4D8KexOdyeDgPwp7E53J4OA/SJd5v5Tm4D9Il3m/lObgP7tp9F+95+A/u2n0X73n4D+hDuqgDurgP6EO6qAO6uA/A+yrJvb34D8D7Ksm9vfgP3a+Jsce+eA/dr4mxx754D9cYxwIcPvgP1xjHAhw++A/QQgSScH94D9BCBJJwf3gPyetB4oSAOE/J60HihIA4T9lyW2s3QXhP2XJbazdBeE/vkDejVcJ4T++QN6NVwnhPzETWS6ACuE/MRNZLoAK4T87earS7RThPzt5qtLtFOE/RN/7dlsf4T9E3/t2Wx/hP7exdheEIOE/t7F2F4Qg4T8QKef4/SPhPxAp5/j9I+E/wRfIu/Eq4T/BF8i78SrhPzTqQlwaLOE/NOpCXBos4T+MYbM9lC/hP4xhsz2UL+E//zMu3rww4T//My7evDDhP5bHBOIBOuE/lscE4gE64T8Jmn+CKjvhPwmaf4IqO+E/R7blpPVA4T9HtuWk9UDhP1EcN0ljS+E/URw3SWNL4T+Znu4PnFvhP5me7g+cW+E/f0PkUO1d4T/xFV/xFV/hP9e6VDJnYeE/17pUMmdh4T8F4gE68XPhPwXiATrxc+E/eLR82hl14T94tHzaGXXhP0P+Z1y8eeE/Q/5nXLx54T8OSFPeXn7hPw5IU95efuE/Z7/Dv9iB4T9nv8O/2IHhPzIJr0F7huE/MgmvQXuG4T+LgB8j9YnhP4uAHyP1ieE/cSUVZEaM4T9xJRVkRozhP+T3jwRvjeE/5PePBG+N4T/tXeGo3JfhP+1d4ajcl+E/YDBcSQWZ4T9gMFxJBZnhPyx6R8unneE/LHpHy6ed4T+E8besIaHhP4Txt6whoeE/wg0ez+ym4T/CDR7P7KbhPzXgmG8VqOE/NeCYbxWo4T8/RuoTg7LhPz9G6hODsuE/YwdGd5+64T9jB0Z3n7rhP0msO7jwvOE/Saw7uPC84T+hI6yZasDhP6EjrJlqwOE/bW2XGw3F4T9tbZcbDcXhP5Eu834pzeE/kS7zfinN4T920+i/es/hP3bT6L96z+E/XHjeAMzR4T9ceN4AzNHhP7XvTuJF1eE/te9O4kXV4T8NZ7/Dv9jhPw1nv8O/2OE/8wu1BBHb4T/zC7UEEdvhP0yDJeaK3uE/TIMl5ore4T8xKBsn3ODhPzEoGyfc4OE/rmDna3Ls4T+uYOdrcuzhPwbYV03s7+E/BthXTezv4T95qtLtFPHhP3mq0u0U8eE/abUZ09P94T9ptRnT0/3hP05aDxQlAOI/TloPFCUA4j8apPqVxwTiPxqk+pXHBOI/5e3lF2oJ4j/l7eUXagniPyMKTDo1D+I/IwpMOjUP4j8Jr0F7hhHiPwmvQXuGEeI/71M3vNcT4j/vUze81xPiP0fLp51RF+I/R8unnVEX4j+6nSI+ehjiPxMVkx/0G+I/3l5+oZYg4j9RMflBvyHiP1Ex+UG/IeI/j01fZIon4j+PTV9kiifiP7MOu8emL+I/mbOwCPgx4j8W7HxNjj3iPxbsfE2OPeI/4TVozzBC4j/hNWjPMELiP1QI429ZQ+I/VAjjb1lD4j/H2l0QgkTiP8faXRCCROI/rX9TUdNG4j+tf1NR00biP5IkSZIkSeI/eMk+03VL4j+25aT1QFHiP7blpPVAUeI/nIqaNpJT4j+cipo2klPiPzMecTrXXOI/Mx5xOtdc4j/kDFL9ymPiP8qxRz4cZuI/Iim4H5Zp4j8iKbgflmniP+5yo6E4buI/7nKjoThu4j+px9UImn/iP45sy0nrgeI/AT9G6hOD4j8BP0bqE4PiP3QRwYo8hOI/dBHBijyE4j+Y0hzuWIziP5jSHO5YjOI/fncSL6qO4j9+dxIvqo7iP7yTeFF1lOI/vJN4UXWU4j+bqQYc863iP5upBhzzreI/gE78XESw4j+ATvxcRLDiP79qYn8PtuI/v2pifw+24j8X4tJgibniPxfi0mCJueI/cFlDQgO94j9wWUNCA73iPyFIJAX3w+I/IUgkBffD4j9fZIonwsniP19kiifCyeI/0jYFyOrK4j/SNgXI6sriP7jb+gg8zeI/wkFMranX4j/CQUytqdfiP6fmQe762eI/p+ZB7vrZ4j8kHw4zkeXiPyQfDjOR5eI/CsQDdOLn4j+7suQ21u7iP7uy5DbW7uI/oFfadyfx4j+gV9p3J/HiP99zQJry9uI/33NAmvL24j/EGDbbQ/niP8QYNttD+eI/dgcXnjcA4z/o2ZE+YAHjP85+h3+xA+M/zn6Hf7ED4z+jLsSlwRLjP6MuxKXBEuM/FgE/RuoT4z8WAT9G6hPjP4nTueYSFeM/idO55hIV4z86wpqpBhzjPzrCmqkGHOM/MzMzMzMz4z8zMzMzMzPjPz2ZhNegPeM/PZmE16A94z8jPnoY8j/jP5UQ9bgaQeM/LKTLvF9K4z8spMu8X0rjP592Rl2IS+M/n3ZGXYhL4z+FGzye2U3jP4UbPJ7ZTeM/wzeiwKRT4z/DN6LApFPjPxyvEqIeV+M/HK8Soh5X4z+PgY1CR1jjP3Qmg4OYWuM/dCaDg5ha4z/xXk/ILmbjP/FeT8guZuM/1wNFCYBo4z/XA0UJgGjjP0nWv6moaeM/Sda/qahp4z+iTTCLIm3jP6JNMIsibeM/FSCrK0tu4z8VIKsrS27jP1M8EU4WdOM/UzwRThZ04z/GDozuPnXjP8YOjO4+deM/OeEGj2d24z854QaPZ3bjP+rP51FbfeM/6s/nUVt94z9DR1gz1YDjP0NHWDPVgOM/2douNxqK4z/Z2i43GorjPzJSnxiUjeM/MlKfGJSN4z+LyQ/6DZHjP4vJD/oNkeM//ZuKmjaS4z/9m4qaNpLjP3BuBTtfk+M/cG4FO1+T4z/jQIDbh5TjP+NAgNuHlOM/VhP7e7CV4z9WE/t7sJXjP6+Ka10qmeM/r4prXSqZ4z/tptF/9Z7jP+2m0X/1nuM/YHlMIB6g4z9geUwgHqDjPyvDN6LApOM/K8M3osCk4z+elbJC6aXjP56VskLppeM/jaD5J6iy4z+NoPknqLLjPyQ00Cvtu+M/JDTQK+274z+XBkvMFb3jP5cGS8wVveM/1SKx7uDC4z/VIrHu4MLjP/njDFL9yuM/+eMMUv3K4z8dpWi1GdPjPx2laLUZ0+M/kHfjVULU4z+Qd+NVQtTjP86TSXgN2uM/zpNJeA3a4z+0OD+5XtzjP7Q4P7le3OM/DbCvmtjf4z8NsK+a2N/jP4CCKjsB4eM/gIIqOwHh4z/8uvZ/l+zjP/y69n+X7OM/IHxS47P04z8gfFLjs/TjP0Q9rkbQ/OM/RD2uRtD84z+3Dynn+P3jP7cPKef4/eM/KuKjhyH/4z8q4qOHIf/jP/UrjwnEA+Q/9SuPCcQD5D/BdXqLZgjkP8F1eotmCOQ/jL9lDQkN5D+Mv2UNCQ3kP1gJUY+rEeQ/WAlRj6sR5D/UQR3UQR3kP9RBHdRBHeQ/UXrpGNgo5D9ReukY2CjkPzYf31kpK+Q/Nh/fWSkr5D+Z/KDfEDnkP5n8oN8QOeQ/1xgHAtw+5D/XGAcC3D7kP729/EItQeQ/vb38Qi1B5D+iYvKDfkPkP6Ji8oN+Q+Q/rMhDKOxN5D+syEMo7E3kP9CJn4sIVuQ/0ImfiwhW5D9DXBosMVfkP0NcGiwxV+Q/GAxXUkFm5D8YDFdSQWbkP8n6NxU1beQ/yfo3FTVt5D8HF543AHPkPwcXnjcAc+Q/YI4OGXp25D9gjg4ZenbkP9Ngibmid+Q/02CJuaJ35D81Pks/ioXkPzU+Sz+KheQ/jrW7IASJ5D9zWrFhVYvkP8zRIUPPjuQ/zNEhQ8+O5D8/pJzj94/kPz+knOP3j+Q/Cu6HZZqU5D8K7odlmpTkP33AAgbDleQ/fcACBsOV5D8ur+PItpzkPy6v48i2nOQ/bctJ64Gi5D9ty0nrgaLkP9+dxIuqo+Q/353Ei6qj5D9ScD8s06TkP1JwPyzTpOQ/xUK6zPul5D/FQrrM+6XkPx66Kq51qeQ/HroqrnWp5D8NxXGTNLbkPw3FcZM0tuQ/2Q5dFde65D/ZDl0V17rkP76zUlYoveQ/vrNSVii95D8XK8M3osDkP/3PuHjzwuQ/b6IzGRzE5D9vojMZHMTkP+J0rrlExeQ/4nSuuUTF5D9FUnA/LNPkP53J4CCm1uQ/wYo8hMLe5D/BijyEwt7kP/+moqaN5OQ/5UuY597m5D/lS5jn3ubkP7CVg2mB6+Q/sJWDaYHr5D+WOnmq0u3kP5Y6earS7eQ/uvvUDe/15D+6+9QN7/XkPy3OT64X9+Q/Lc5Prhf35D9Rj6sRNP/kP1GPqxE0/+Q/qgYc860C5T+qBhzzrQLlPwJ+jNQnBuU/An6M1CcG5T/Ox3dWygrlP87Hd1bKCuU/s2xtlxsN5T+zbG2XGw3lPwzk3XiVEOU/DOTdeJUQ5T9kW05aDxTlP2RbTloPFOU/iByqvSsc5T+IHKq9KxzlP8c4EOD2IeU/xzgQ4PYh5T8FVXYCwiflPwVVdgLCJ+U/i/OT68U95T+L85PrxT3lP8oP+g2RQ+U/yg/6DZFD5T8ILGAwXEnlP+7QVXGtS+U/LO27k3hR5T8s7buTeFHlP5+/NjShUuU/n782NKFS5T9qCSK2Q1flP93bnFZsWOU/NlMNOOZb5T82Uw045lvlP47KfRlgX+U/jsp9GWBf5T/WTDXgmG/lP9ZMNeCYb+U/U4UBJS975T9ThQElL3vlP8VXfMVXfOU/xVd8xVd85T+r/HEGqX7lP6v8cQapfuU/Hs/sptF/5T8ez+ym0X/lP1zrUsmcheU/XOtSyZyF5T+1YsOqFonlP7Viw6oWieU/834pzeGO5T/zfinN4Y7lP/3kenFPmeU//eR6cU+Z5T8HS8wVvaPlPwdLzBW9o+U/aSiOm6Sx5T9pKI6bpLHlP9z6CDzNsuU/3PoIPM2y5T9/yxoSGujlP3/LGhIa6OU/VHtXOCr35T9Ue1c4KvflPzogTXl7+eU/OiBNeXv55T94PLObRv/lP3g8s5tG/+U/9XR/4NwK5j/1dH/g3ArmP3GtSyVzFuY/ca1LJXMW5j+f1Pgs/SjmP5/U+Cz9KOY/w5VUkBkx5j/DlVSQGTHmP2SPfDjMROY/ZI98OMxE5j/qLZoh0FrmP+otmiHQWuY/0NKPYiFd5j/Q0o9iIV3mPyhKAESbYOY/KEoARJtg5j8O7/WE7GLmPw7v9YTsYuY/iifCyYJu5j+KJ8LJgm7mP/35PGqrb+Y//fk8aqtv5j/JQyjsTXTmP8lDKOxNdOY/rugdLZ925j+u6B0tn3bmP3oyCa9Be+Y/ejIJr0F75j9g1/7vkn3mPxHG37KGhOY/EcbfsoaE5j+oWba2y43mP6hZtrbLjeY/Pu2MuhCX5j8+7Yy6EJfmP30J89zbnOY/fQnz3Nuc5j9sFDrCmqnmP8WLqqMUreY/dnqLZgi05j92eotmCLTmP7SW8YjTueY/tJbxiNO55j9LKsiMGMPmP0sqyIwYw+Y/vvxCLUHE5j++/EItQcTmP8dilNGuzuY/x2KU0a7O5j+TrH9TUdPmP5Osf1NR0+Y/XvZq1fPX5j9e9mrV89fmP04Bsrqy5OY/TgGyurLk5j+meCKcLOjmP6Z4Ipws6OY/GUudPFXp5j8ZS508VenmP//vkn2m6+Y//++Sfabr5j8jse7gwvPmPyOx7uDC8+Y/HCKHau8K5z8cIodq7wrnP80QaC3jEec/zRBoLeMR5z8f+XCYiSznPx/5cJiJLOc/ksvrOLIt5z+Sy+s4si3nP9DnUVt9M+c/0OdRW30z5z+2jEeczjXnP7aMR5zONec/47P0o1hI5z/js/SjWEjnPyLQWsYjTuc/ItBaxiNO5z/TvjuJF1XnP9O+O4kXVec/RpG2KUBW5z8rNqxqkVjnPys2rGqRWOc/jhNu8Hhm5z+OE27weGbnP1ldWXIba+c/WV1Zchtr5z9IaKBX2nfnP0hooFfad+c/vhEFJp2a5z++EQUmnZrnP+LSYIm5ouc/4tJgibmi5z/S3adueK/nP9Ldp254r+c/9Z4D0pS35z/bQ/kS5rnnP6D+fB611ec/oP58HrXV5z/eGuNAgNvnP94a40CA2+c/Ue1d4ajc5z+pZM7CIuDnP6lkzsIi4Oc/14t7yqzy5z/Xi3vKrPLnPyl0hDVTDeg/nEb/1XsO6D8Yf8saEhroPxh/yxoSGug//iPBW2Mc6D/+I8FbYxzoP5W3l1+oJeg/lbeXX6gl6D90zSUqJj/oP3TNJSomP+g/WXIba3dB6D+y6YtM8UToP5iOgY1CR+g/fTN3zpNJ6D99M3fOk0noP2PYbA/lS+g/SX1iUDZO6D8uIliRh1DoPy4iWJGHUOg/vibHHvlw6D++Jsce+XDoP+LnIoIVeeg/4ucighV56D87X5Njj3zoPztfk2OPfOg/3Fi7C0KQ6D/cWLsLQpDoP3LskQ+Hmeg/cuyRD4eZ6D/8YZkmJdHoP/xhmSYl0eg/Z6WsUHrp6D9NSqKRy+voP5XMWVgE/Og/lcxZWAT86D97cU+ZVf7oP3txT5lV/ug/nzKr/HEG6T/3qRve6wnpP/epG97rCek/LzcaiuMm6T8V3A/LNCnpP4EfI/WJQek/ZsQYNttD6T+KhXSZ90vpP4qFdJn3S+k//VfvOSBN6T/9V+85IE3pP1bPXxuaUOk/O3RVXOtS6T9PQPikxmfpP09A+KTGZ+k/jVxex5Ft6T+NXF7HkW3pP+85IE15e+k/1d4Vjsp96T/V3hWOyn3pP3bYPTZ9kek/dtg9Nn2R6T9bfTN3zpPpP1t9M3fOk+k/8hAKexOd6T/yEAp7E53pP0uIelyNoOk/MC1wnd6i6T9096kb3uvpP1qcn1wv7uk/ZALxAJ346T9kAvEAnfjpP0qn5kHu+uk/L0zcgj/96T/0BmCODhnqP/QGYI4OGeo/jXEgwO1D6j+NcSDA7UPqP8X+HmzlYOo/q6MUrTZj6j+AU1HTRnLqP4BTUdNGcuo/8yXMc29z6j/YysG0wHXqP6QUrTZjeuo/pBStNmN66j80GRzE1JrqPzQZHMTUmuo/NvAF8m686j828AXybrzqP/uqif092Oo/4U9/Po/a6j9gXzWxvwfrP2BfNbG/B+s/327rI/A06z/FE+FkQTfrPzQu3rwwces/NC7evDBx6z+NpU6eqnTrP2JVi8S6g+s/YlWLxLqD6z8tn3ZGXYjrPy2fdkZdiOs/hhbnJ9eL6z8CT7NsbZfrP+jzqK2+mes/TahUYUDJ6z8zTUqikcvrPwj9hsih2us/CP2GyKHa6z/TRnJKRN/rP7nrZ4uV4es/xiijXZ0N7D+rzZie7g/sPzvSByxgMOw/O9IHLGAw7D+4CtRw9jvsP7gK1HD2O+w/K91OER897D8r3U4RHz3sPy20OD+5Xuw/+f0jwVtj7D9b2+VGQ3HsP0GA24eUc+w/8Y0oMOnU7D9JBZkRY9jsP9Cjtvpm7uw/0KO2+mbu7D8oGyfc4PHsPygbJ9zg8ew/v6793yX77D+/rv3fJfvsPzKBeIBO/Ow//cpjAvEA7T8HMbWmXgvtP+3VquevDe0/nsSLqqMU7T/2O/yLHRjtP6gq3U4RH+0/jc/Sj2Ih7T/mRkNx3CTtP+ZGQ3HcJO0/Yn8PtnIw7T9IJAX3wzLtP2VW+eMMUu0/S/vuJF5U7T++zWnFhlXtP77NacWGVe0//OnP51Fb7T9VYUDJy17tP0Rsh66Ka+0/neP3jwRv7T+d4/ePBG/tP+Vlr1Y9f+0/5WWvVj1/7T9hnnub04rtP0dDcdwkje0/n7rhvZ6Q7T+fuuG9npDtP97WR+Bplu0/w3s9IbuY7T+zhoQGeqXtPwv+9OfzqO0/vezVquev7T+ikcvrOLLtP+GtMQ4EuO0/xlInT1W67T8fypcwz73tP3dBCBJJwe0/pWi1GdPT7T+LDataJNbtP0Zi3cGF5+0/KwfTAtfp7T/CmqkGHPPtPxsSGuiV9u0/zAD7qon97T+ypfDr2v/tP8/X5NgjH+4/tHzaGXUh7j+Tkmjk8jruP3k3XiVEPe4/eFbKCqWX7j94VsoKpZfuP9ozjJCMpe4/pX13Ei+q7j/Wew5IU97uP7wgBImk4O4/TCVzFhYB7z9MJXMWFgHvPyHVrzwmEO8/B3qlfXcS7z9YYq7oHS3vPz4HpClvL+8/E7fgT38+7z8Tt+BPfz7vP1s5mBa4Tu8/Qd6NVwlR7z8mg4OYWlPvPwwoedmrVe8//gmq7ASE7z9XgRrOfofvP5WdgPBJje8/e0J2MZuP7z8AAAAAAADwPw==",
          "dtype": "f8"
         },
         "y": {
          "bdata": "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",
          "dtype": "f8"
         }
        },
        {
         "line": {
          "dash": "dash"
         },
         "mode": "lines",
         "name": "Random",
         "type": "scatter",
         "x": [
          0,
          1
         ],
         "y": [
          0,
          1
         ]
        }
       ],
       "layout": {
        "showlegend": true,
        "template": {
         "data": {
          "bar": [
           {
            "error_x": {
             "color": "#2a3f5f"
            },
            "error_y": {
             "color": "#2a3f5f"
            },
            "marker": {
             "line": {
              "color": "#E5ECF6",
              "width": 0.5
             },
             "pattern": {
              "fillmode": "overlay",
              "size": 10,
              "solidity": 0.2
             }
            },
            "type": "bar"
           }
          ],
          "barpolar": [
           {
            "marker": {
             "line": {
              "color": "#E5ECF6",
              "width": 0.5
             },
             "pattern": {
              "fillmode": "overlay",
              "size": 10,
              "solidity": 0.2
             }
            },
            "type": "barpolar"
           }
          ],
          "carpet": [
           {
            "aaxis": {
             "endlinecolor": "#2a3f5f",
             "gridcolor": "white",
             "linecolor": "white",
             "minorgridcolor": "white",
             "startlinecolor": "#2a3f5f"
            },
            "baxis": {
             "endlinecolor": "#2a3f5f",
             "gridcolor": "white",
             "linecolor": "white",
             "minorgridcolor": "white",
             "startlinecolor": "#2a3f5f"
            },
            "type": "carpet"
           }
          ],
          "choropleth": [
           {
            "colorbar": {
             "outlinewidth": 0,
             "ticks": ""
            },
            "type": "choropleth"
           }
          ],
          "contour": [
           {
            "colorbar": {
             "outlinewidth": 0,
             "ticks": ""
            },
            "colorscale": [
             [
              0,
              "#0d0887"
             ],
             [
              0.1111111111111111,
              "#46039f"
             ],
             [
              0.2222222222222222,
              "#7201a8"
             ],
             [
              0.3333333333333333,
              "#9c179e"
             ],
             [
              0.4444444444444444,
              "#bd3786"
             ],
             [
              0.5555555555555556,
              "#d8576b"
             ],
             [
              0.6666666666666666,
              "#ed7953"
             ],
             [
              0.7777777777777778,
              "#fb9f3a"
             ],
             [
              0.8888888888888888,
              "#fdca26"
             ],
             [
              1,
              "#f0f921"
             ]
            ],
            "type": "contour"
           }
          ],
          "contourcarpet": [
           {
            "colorbar": {
             "outlinewidth": 0,
             "ticks": ""
            },
            "type": "contourcarpet"
           }
          ],
          "heatmap": [
           {
            "colorbar": {
             "outlinewidth": 0,
             "ticks": ""
            },
            "colorscale": [
             [
              0,
              "#0d0887"
             ],
             [
              0.1111111111111111,
              "#46039f"
             ],
             [
              0.2222222222222222,
              "#7201a8"
             ],
             [
              0.3333333333333333,
              "#9c179e"
             ],
             [
              0.4444444444444444,
              "#bd3786"
             ],
             [
              0.5555555555555556,
              "#d8576b"
             ],
             [
              0.6666666666666666,
              "#ed7953"
             ],
             [
              0.7777777777777778,
              "#fb9f3a"
             ],
             [
              0.8888888888888888,
              "#fdca26"
             ],
             [
              1,
              "#f0f921"
             ]
            ],
            "type": "heatmap"
           }
          ],
          "histogram": [
           {
            "marker": {
             "pattern": {
              "fillmode": "overlay",
              "size": 10,
              "solidity": 0.2
             }
            },
            "type": "histogram"
           }
          ],
          "histogram2d": [
           {
            "colorbar": {
             "outlinewidth": 0,
             "ticks": ""
            },
            "colorscale": [
             [
              0,
              "#0d0887"
             ],
             [
              0.1111111111111111,
              "#46039f"
             ],
             [
              0.2222222222222222,
              "#7201a8"
             ],
             [
              0.3333333333333333,
              "#9c179e"
             ],
             [
              0.4444444444444444,
              "#bd3786"
             ],
             [
              0.5555555555555556,
              "#d8576b"
             ],
             [
              0.6666666666666666,
              "#ed7953"
             ],
             [
              0.7777777777777778,
              "#fb9f3a"
             ],
             [
              0.8888888888888888,
              "#fdca26"
             ],
             [
              1,
              "#f0f921"
             ]
            ],
            "type": "histogram2d"
           }
          ],
          "histogram2dcontour": [
           {
            "colorbar": {
             "outlinewidth": 0,
             "ticks": ""
            },
            "colorscale": [
             [
              0,
              "#0d0887"
             ],
             [
              0.1111111111111111,
              "#46039f"
             ],
             [
              0.2222222222222222,
              "#7201a8"
             ],
             [
              0.3333333333333333,
              "#9c179e"
             ],
             [
              0.4444444444444444,
              "#bd3786"
             ],
             [
              0.5555555555555556,
              "#d8576b"
             ],
             [
              0.6666666666666666,
              "#ed7953"
             ],
             [
              0.7777777777777778,
              "#fb9f3a"
             ],
             [
              0.8888888888888888,
              "#fdca26"
             ],
             [
              1,
              "#f0f921"
             ]
            ],
            "type": "histogram2dcontour"
           }
          ],
          "mesh3d": [
           {
            "colorbar": {
             "outlinewidth": 0,
             "ticks": ""
            },
            "type": "mesh3d"
           }
          ],
          "parcoords": [
           {
            "line": {
             "colorbar": {
              "outlinewidth": 0,
              "ticks": ""
             }
            },
            "type": "parcoords"
           }
          ],
          "pie": [
           {
            "automargin": true,
            "type": "pie"
           }
          ],
          "scatter": [
           {
            "fillpattern": {
             "fillmode": "overlay",
             "size": 10,
             "solidity": 0.2
            },
            "type": "scatter"
           }
          ],
          "scatter3d": [
           {
            "line": {
             "colorbar": {
              "outlinewidth": 0,
              "ticks": ""
             }
            },
            "marker": {
             "colorbar": {
              "outlinewidth": 0,
              "ticks": ""
             }
            },
            "type": "scatter3d"
           }
          ],
          "scattercarpet": [
           {
            "marker": {
             "colorbar": {
              "outlinewidth": 0,
              "ticks": ""
             }
            },
            "type": "scattercarpet"
           }
          ],
          "scattergeo": [
           {
            "marker": {
             "colorbar": {
              "outlinewidth": 0,
              "ticks": ""
             }
            },
            "type": "scattergeo"
           }
          ],
          "scattergl": [
           {
            "marker": {
             "colorbar": {
              "outlinewidth": 0,
              "ticks": ""
             }
            },
            "type": "scattergl"
           }
          ],
          "scattermap": [
           {
            "marker": {
             "colorbar": {
              "outlinewidth": 0,
              "ticks": ""
             }
            },
            "type": "scattermap"
           }
          ],
          "scattermapbox": [
           {
            "marker": {
             "colorbar": {
              "outlinewidth": 0,
              "ticks": ""
             }
            },
            "type": "scattermapbox"
           }
          ],
          "scatterpolar": [
           {
            "marker": {
             "colorbar": {
              "outlinewidth": 0,
              "ticks": ""
             }
            },
            "type": "scatterpolar"
           }
          ],
          "scatterpolargl": [
           {
            "marker": {
             "colorbar": {
              "outlinewidth": 0,
              "ticks": ""
             }
            },
            "type": "scatterpolargl"
           }
          ],
          "scatterternary": [
           {
            "marker": {
             "colorbar": {
              "outlinewidth": 0,
              "ticks": ""
             }
            },
            "type": "scatterternary"
           }
          ],
          "surface": [
           {
            "colorbar": {
             "outlinewidth": 0,
             "ticks": ""
            },
            "colorscale": [
             [
              0,
              "#0d0887"
             ],
             [
              0.1111111111111111,
              "#46039f"
             ],
             [
              0.2222222222222222,
              "#7201a8"
             ],
             [
              0.3333333333333333,
              "#9c179e"
             ],
             [
              0.4444444444444444,
              "#bd3786"
             ],
             [
              0.5555555555555556,
              "#d8576b"
             ],
             [
              0.6666666666666666,
              "#ed7953"
             ],
             [
              0.7777777777777778,
              "#fb9f3a"
             ],
             [
              0.8888888888888888,
              "#fdca26"
             ],
             [
              1,
              "#f0f921"
             ]
            ],
            "type": "surface"
           }
          ],
          "table": [
           {
            "cells": {
             "fill": {
              "color": "#EBF0F8"
             },
             "line": {
              "color": "white"
             }
            },
            "header": {
             "fill": {
              "color": "#C8D4E3"
             },
             "line": {
              "color": "white"
             }
            },
            "type": "table"
           }
          ]
         },
         "layout": {
          "annotationdefaults": {
           "arrowcolor": "#2a3f5f",
           "arrowhead": 0,
           "arrowwidth": 1
          },
          "autotypenumbers": "strict",
          "coloraxis": {
           "colorbar": {
            "outlinewidth": 0,
            "ticks": ""
           }
          },
          "colorscale": {
           "diverging": [
            [
             0,
             "#8e0152"
            ],
            [
             0.1,
             "#c51b7d"
            ],
            [
             0.2,
             "#de77ae"
            ],
            [
             0.3,
             "#f1b6da"
            ],
            [
             0.4,
             "#fde0ef"
            ],
            [
             0.5,
             "#f7f7f7"
            ],
            [
             0.6,
             "#e6f5d0"
            ],
            [
             0.7,
             "#b8e186"
            ],
            [
             0.8,
             "#7fbc41"
            ],
            [
             0.9,
             "#4d9221"
            ],
            [
             1,
             "#276419"
            ]
           ],
           "sequential": [
            [
             0,
             "#0d0887"
            ],
            [
             0.1111111111111111,
             "#46039f"
            ],
            [
             0.2222222222222222,
             "#7201a8"
            ],
            [
             0.3333333333333333,
             "#9c179e"
            ],
            [
             0.4444444444444444,
             "#bd3786"
            ],
            [
             0.5555555555555556,
             "#d8576b"
            ],
            [
             0.6666666666666666,
             "#ed7953"
            ],
            [
             0.7777777777777778,
             "#fb9f3a"
            ],
            [
             0.8888888888888888,
             "#fdca26"
            ],
            [
             1,
             "#f0f921"
            ]
           ],
           "sequentialminus": [
            [
             0,
             "#0d0887"
            ],
            [
             0.1111111111111111,
             "#46039f"
            ],
            [
             0.2222222222222222,
             "#7201a8"
            ],
            [
             0.3333333333333333,
             "#9c179e"
            ],
            [
             0.4444444444444444,
             "#bd3786"
            ],
            [
             0.5555555555555556,
             "#d8576b"
            ],
            [
             0.6666666666666666,
             "#ed7953"
            ],
            [
             0.7777777777777778,
             "#fb9f3a"
            ],
            [
             0.8888888888888888,
             "#fdca26"
            ],
            [
             1,
             "#f0f921"
            ]
           ]
          },
          "colorway": [
           "#636efa",
           "#EF553B",
           "#00cc96",
           "#ab63fa",
           "#FFA15A",
           "#19d3f3",
           "#FF6692",
           "#B6E880",
           "#FF97FF",
           "#FECB52"
          ],
          "font": {
           "color": "#2a3f5f"
          },
          "geo": {
           "bgcolor": "white",
           "lakecolor": "white",
           "landcolor": "#E5ECF6",
           "showlakes": true,
           "showland": true,
           "subunitcolor": "white"
          },
          "hoverlabel": {
           "align": "left"
          },
          "hovermode": "closest",
          "mapbox": {
           "style": "light"
          },
          "paper_bgcolor": "white",
          "plot_bgcolor": "#E5ECF6",
          "polar": {
           "angularaxis": {
            "gridcolor": "white",
            "linecolor": "white",
            "ticks": ""
           },
           "bgcolor": "#E5ECF6",
           "radialaxis": {
            "gridcolor": "white",
            "linecolor": "white",
            "ticks": ""
           }
          },
          "scene": {
           "xaxis": {
            "backgroundcolor": "#E5ECF6",
            "gridcolor": "white",
            "gridwidth": 2,
            "linecolor": "white",
            "showbackground": true,
            "ticks": "",
            "zerolinecolor": "white"
           },
           "yaxis": {
            "backgroundcolor": "#E5ECF6",
            "gridcolor": "white",
            "gridwidth": 2,
            "linecolor": "white",
            "showbackground": true,
            "ticks": "",
            "zerolinecolor": "white"
           },
           "zaxis": {
            "backgroundcolor": "#E5ECF6",
            "gridcolor": "white",
            "gridwidth": 2,
            "linecolor": "white",
            "showbackground": true,
            "ticks": "",
            "zerolinecolor": "white"
           }
          },
          "shapedefaults": {
           "line": {
            "color": "#2a3f5f"
           }
          },
          "ternary": {
           "aaxis": {
            "gridcolor": "white",
            "linecolor": "white",
            "ticks": ""
           },
           "baxis": {
            "gridcolor": "white",
            "linecolor": "white",
            "ticks": ""
           },
           "bgcolor": "#E5ECF6",
           "caxis": {
            "gridcolor": "white",
            "linecolor": "white",
            "ticks": ""
           }
          },
          "title": {
           "x": 0.05
          },
          "xaxis": {
           "automargin": true,
           "gridcolor": "white",
           "linecolor": "white",
           "ticks": "",
           "title": {
            "standoff": 15
           },
           "zerolinecolor": "white",
           "zerolinewidth": 2
          },
          "yaxis": {
           "automargin": true,
           "gridcolor": "white",
           "linecolor": "white",
           "ticks": "",
           "title": {
            "standoff": 15
           },
           "zerolinecolor": "white",
           "zerolinewidth": 2
          }
         }
        },
        "title": {
         "text": "Curva ROC"
        },
        "xaxis": {
         "title": {
          "text": "Tasa de Falsos Positivos (FPR)"
         }
        },
        "yaxis": {
         "title": {
          "text": "Tasa de Verdaderos Positivos (TPR)"
         }
        }
       }
      }
     },
     "metadata": {},
     "output_type": "display_data"
    },
    {
     "data": {
      "application/vnd.plotly.v1+json": {
       "config": {
        "plotlyServerURL": "https://plot.ly"
       },
       "data": [
        {
         "mode": "lines",
         "name": "AP = 0.797",
         "type": "scatter",
         "x": {
          "bdata": "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",
          "dtype": "f8"
         },
         "y": {
          "bdata": "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",
          "dtype": "f8"
         }
        },
        {
         "line": {
          "dash": "dash"
         },
         "mode": "lines",
         "name": "Referencia",
         "type": "scatter",
         "x": [
          0,
          1
         ],
         "y": [
          1,
          0
         ]
        }
       ],
       "layout": {
        "showlegend": true,
        "template": {
         "data": {
          "bar": [
           {
            "error_x": {
             "color": "#2a3f5f"
            },
            "error_y": {
             "color": "#2a3f5f"
            },
            "marker": {
             "line": {
              "color": "#E5ECF6",
              "width": 0.5
             },
             "pattern": {
              "fillmode": "overlay",
              "size": 10,
              "solidity": 0.2
             }
            },
            "type": "bar"
           }
          ],
          "barpolar": [
           {
            "marker": {
             "line": {
              "color": "#E5ECF6",
              "width": 0.5
             },
             "pattern": {
              "fillmode": "overlay",
              "size": 10,
              "solidity": 0.2
             }
            },
            "type": "barpolar"
           }
          ],
          "carpet": [
           {
            "aaxis": {
             "endlinecolor": "#2a3f5f",
             "gridcolor": "white",
             "linecolor": "white",
             "minorgridcolor": "white",
             "startlinecolor": "#2a3f5f"
            },
            "baxis": {
             "endlinecolor": "#2a3f5f",
             "gridcolor": "white",
             "linecolor": "white",
             "minorgridcolor": "white",
             "startlinecolor": "#2a3f5f"
            },
            "type": "carpet"
           }
          ],
          "choropleth": [
           {
            "colorbar": {
             "outlinewidth": 0,
             "ticks": ""
            },
            "type": "choropleth"
           }
          ],
          "contour": [
           {
            "colorbar": {
             "outlinewidth": 0,
             "ticks": ""
            },
            "colorscale": [
             [
              0,
              "#0d0887"
             ],
             [
              0.1111111111111111,
              "#46039f"
             ],
             [
              0.2222222222222222,
              "#7201a8"
             ],
             [
              0.3333333333333333,
              "#9c179e"
             ],
             [
              0.4444444444444444,
              "#bd3786"
             ],
             [
              0.5555555555555556,
              "#d8576b"
             ],
             [
              0.6666666666666666,
              "#ed7953"
             ],
             [
              0.7777777777777778,
              "#fb9f3a"
             ],
             [
              0.8888888888888888,
              "#fdca26"
             ],
             [
              1,
              "#f0f921"
             ]
            ],
            "type": "contour"
           }
          ],
          "contourcarpet": [
           {
            "colorbar": {
             "outlinewidth": 0,
             "ticks": ""
            },
            "type": "contourcarpet"
           }
          ],
          "heatmap": [
           {
            "colorbar": {
             "outlinewidth": 0,
             "ticks": ""
            },
            "colorscale": [
             [
              0,
              "#0d0887"
             ],
             [
              0.1111111111111111,
              "#46039f"
             ],
             [
              0.2222222222222222,
              "#7201a8"
             ],
             [
              0.3333333333333333,
              "#9c179e"
             ],
             [
              0.4444444444444444,
              "#bd3786"
             ],
             [
              0.5555555555555556,
              "#d8576b"
             ],
             [
              0.6666666666666666,
              "#ed7953"
             ],
             [
              0.7777777777777778,
              "#fb9f3a"
             ],
             [
              0.8888888888888888,
              "#fdca26"
             ],
             [
              1,
              "#f0f921"
             ]
            ],
            "type": "heatmap"
           }
          ],
          "histogram": [
           {
            "marker": {
             "pattern": {
              "fillmode": "overlay",
              "size": 10,
              "solidity": 0.2
             }
            },
            "type": "histogram"
           }
          ],
          "histogram2d": [
           {
            "colorbar": {
             "outlinewidth": 0,
             "ticks": ""
            },
            "colorscale": [
             [
              0,
              "#0d0887"
             ],
             [
              0.1111111111111111,
              "#46039f"
             ],
             [
              0.2222222222222222,
              "#7201a8"
             ],
             [
              0.3333333333333333,
              "#9c179e"
             ],
             [
              0.4444444444444444,
              "#bd3786"
             ],
             [
              0.5555555555555556,
              "#d8576b"
             ],
             [
              0.6666666666666666,
              "#ed7953"
             ],
             [
              0.7777777777777778,
              "#fb9f3a"
             ],
             [
              0.8888888888888888,
              "#fdca26"
             ],
             [
              1,
              "#f0f921"
             ]
            ],
            "type": "histogram2d"
           }
          ],
          "histogram2dcontour": [
           {
            "colorbar": {
             "outlinewidth": 0,
             "ticks": ""
            },
            "colorscale": [
             [
              0,
              "#0d0887"
             ],
             [
              0.1111111111111111,
              "#46039f"
             ],
             [
              0.2222222222222222,
              "#7201a8"
             ],
             [
              0.3333333333333333,
              "#9c179e"
             ],
             [
              0.4444444444444444,
              "#bd3786"
             ],
             [
              0.5555555555555556,
              "#d8576b"
             ],
             [
              0.6666666666666666,
              "#ed7953"
             ],
             [
              0.7777777777777778,
              "#fb9f3a"
             ],
             [
              0.8888888888888888,
              "#fdca26"
             ],
             [
              1,
              "#f0f921"
             ]
            ],
            "type": "histogram2dcontour"
           }
          ],
          "mesh3d": [
           {
            "colorbar": {
             "outlinewidth": 0,
             "ticks": ""
            },
            "type": "mesh3d"
           }
          ],
          "parcoords": [
           {
            "line": {
             "colorbar": {
              "outlinewidth": 0,
              "ticks": ""
             }
            },
            "type": "parcoords"
           }
          ],
          "pie": [
           {
            "automargin": true,
            "type": "pie"
           }
          ],
          "scatter": [
           {
            "fillpattern": {
             "fillmode": "overlay",
             "size": 10,
             "solidity": 0.2
            },
            "type": "scatter"
           }
          ],
          "scatter3d": [
           {
            "line": {
             "colorbar": {
              "outlinewidth": 0,
              "ticks": ""
             }
            },
            "marker": {
             "colorbar": {
              "outlinewidth": 0,
              "ticks": ""
             }
            },
            "type": "scatter3d"
           }
          ],
          "scattercarpet": [
           {
            "marker": {
             "colorbar": {
              "outlinewidth": 0,
              "ticks": ""
             }
            },
            "type": "scattercarpet"
           }
          ],
          "scattergeo": [
           {
            "marker": {
             "colorbar": {
              "outlinewidth": 0,
              "ticks": ""
             }
            },
            "type": "scattergeo"
           }
          ],
          "scattergl": [
           {
            "marker": {
             "colorbar": {
              "outlinewidth": 0,
              "ticks": ""
             }
            },
            "type": "scattergl"
           }
          ],
          "scattermap": [
           {
            "marker": {
             "colorbar": {
              "outlinewidth": 0,
              "ticks": ""
             }
            },
            "type": "scattermap"
           }
          ],
          "scattermapbox": [
           {
            "marker": {
             "colorbar": {
              "outlinewidth": 0,
              "ticks": ""
             }
            },
            "type": "scattermapbox"
           }
          ],
          "scatterpolar": [
           {
            "marker": {
             "colorbar": {
              "outlinewidth": 0,
              "ticks": ""
             }
            },
            "type": "scatterpolar"
           }
          ],
          "scatterpolargl": [
           {
            "marker": {
             "colorbar": {
              "outlinewidth": 0,
              "ticks": ""
             }
            },
            "type": "scatterpolargl"
           }
          ],
          "scatterternary": [
           {
            "marker": {
             "colorbar": {
              "outlinewidth": 0,
              "ticks": ""
             }
            },
            "type": "scatterternary"
           }
          ],
          "surface": [
           {
            "colorbar": {
             "outlinewidth": 0,
             "ticks": ""
            },
            "colorscale": [
             [
              0,
              "#0d0887"
             ],
             [
              0.1111111111111111,
              "#46039f"
             ],
             [
              0.2222222222222222,
              "#7201a8"
             ],
             [
              0.3333333333333333,
              "#9c179e"
             ],
             [
              0.4444444444444444,
              "#bd3786"
             ],
             [
              0.5555555555555556,
              "#d8576b"
             ],
             [
              0.6666666666666666,
              "#ed7953"
             ],
             [
              0.7777777777777778,
              "#fb9f3a"
             ],
             [
              0.8888888888888888,
              "#fdca26"
             ],
             [
              1,
              "#f0f921"
             ]
            ],
            "type": "surface"
           }
          ],
          "table": [
           {
            "cells": {
             "fill": {
              "color": "#EBF0F8"
             },
             "line": {
              "color": "white"
             }
            },
            "header": {
             "fill": {
              "color": "#C8D4E3"
             },
             "line": {
              "color": "white"
             }
            },
            "type": "table"
           }
          ]
         },
         "layout": {
          "annotationdefaults": {
           "arrowcolor": "#2a3f5f",
           "arrowhead": 0,
           "arrowwidth": 1
          },
          "autotypenumbers": "strict",
          "coloraxis": {
           "colorbar": {
            "outlinewidth": 0,
            "ticks": ""
           }
          },
          "colorscale": {
           "diverging": [
            [
             0,
             "#8e0152"
            ],
            [
             0.1,
             "#c51b7d"
            ],
            [
             0.2,
             "#de77ae"
            ],
            [
             0.3,
             "#f1b6da"
            ],
            [
             0.4,
             "#fde0ef"
            ],
            [
             0.5,
             "#f7f7f7"
            ],
            [
             0.6,
             "#e6f5d0"
            ],
            [
             0.7,
             "#b8e186"
            ],
            [
             0.8,
             "#7fbc41"
            ],
            [
             0.9,
             "#4d9221"
            ],
            [
             1,
             "#276419"
            ]
           ],
           "sequential": [
            [
             0,
             "#0d0887"
            ],
            [
             0.1111111111111111,
             "#46039f"
            ],
            [
             0.2222222222222222,
             "#7201a8"
            ],
            [
             0.3333333333333333,
             "#9c179e"
            ],
            [
             0.4444444444444444,
             "#bd3786"
            ],
            [
             0.5555555555555556,
             "#d8576b"
            ],
            [
             0.6666666666666666,
             "#ed7953"
            ],
            [
             0.7777777777777778,
             "#fb9f3a"
            ],
            [
             0.8888888888888888,
             "#fdca26"
            ],
            [
             1,
             "#f0f921"
            ]
           ],
           "sequentialminus": [
            [
             0,
             "#0d0887"
            ],
            [
             0.1111111111111111,
             "#46039f"
            ],
            [
             0.2222222222222222,
             "#7201a8"
            ],
            [
             0.3333333333333333,
             "#9c179e"
            ],
            [
             0.4444444444444444,
             "#bd3786"
            ],
            [
             0.5555555555555556,
             "#d8576b"
            ],
            [
             0.6666666666666666,
             "#ed7953"
            ],
            [
             0.7777777777777778,
             "#fb9f3a"
            ],
            [
             0.8888888888888888,
             "#fdca26"
            ],
            [
             1,
             "#f0f921"
            ]
           ]
          },
          "colorway": [
           "#636efa",
           "#EF553B",
           "#00cc96",
           "#ab63fa",
           "#FFA15A",
           "#19d3f3",
           "#FF6692",
           "#B6E880",
           "#FF97FF",
           "#FECB52"
          ],
          "font": {
           "color": "#2a3f5f"
          },
          "geo": {
           "bgcolor": "white",
           "lakecolor": "white",
           "landcolor": "#E5ECF6",
           "showlakes": true,
           "showland": true,
           "subunitcolor": "white"
          },
          "hoverlabel": {
           "align": "left"
          },
          "hovermode": "closest",
          "mapbox": {
           "style": "light"
          },
          "paper_bgcolor": "white",
          "plot_bgcolor": "#E5ECF6",
          "polar": {
           "angularaxis": {
            "gridcolor": "white",
            "linecolor": "white",
            "ticks": ""
           },
           "bgcolor": "#E5ECF6",
           "radialaxis": {
            "gridcolor": "white",
            "linecolor": "white",
            "ticks": ""
           }
          },
          "scene": {
           "xaxis": {
            "backgroundcolor": "#E5ECF6",
            "gridcolor": "white",
            "gridwidth": 2,
            "linecolor": "white",
            "showbackground": true,
            "ticks": "",
            "zerolinecolor": "white"
           },
           "yaxis": {
            "backgroundcolor": "#E5ECF6",
            "gridcolor": "white",
            "gridwidth": 2,
            "linecolor": "white",
            "showbackground": true,
            "ticks": "",
            "zerolinecolor": "white"
           },
           "zaxis": {
            "backgroundcolor": "#E5ECF6",
            "gridcolor": "white",
            "gridwidth": 2,
            "linecolor": "white",
            "showbackground": true,
            "ticks": "",
            "zerolinecolor": "white"
           }
          },
          "shapedefaults": {
           "line": {
            "color": "#2a3f5f"
           }
          },
          "ternary": {
           "aaxis": {
            "gridcolor": "white",
            "linecolor": "white",
            "ticks": ""
           },
           "baxis": {
            "gridcolor": "white",
            "linecolor": "white",
            "ticks": ""
           },
           "bgcolor": "#E5ECF6",
           "caxis": {
            "gridcolor": "white",
            "linecolor": "white",
            "ticks": ""
           }
          },
          "title": {
           "x": 0.05
          },
          "xaxis": {
           "automargin": true,
           "gridcolor": "white",
           "linecolor": "white",
           "ticks": "",
           "title": {
            "standoff": 15
           },
           "zerolinecolor": "white",
           "zerolinewidth": 2
          },
          "yaxis": {
           "automargin": true,
           "gridcolor": "white",
           "linecolor": "white",
           "ticks": "",
           "title": {
            "standoff": 15
           },
           "zerolinecolor": "white",
           "zerolinewidth": 2
          }
         }
        },
        "title": {
         "text": "Curva Precision-Recall"
        },
        "xaxis": {
         "title": {
          "text": "Recall"
         }
        },
        "yaxis": {
         "title": {
          "text": "Precision"
         }
        }
       }
      }
     },
     "metadata": {},
     "output_type": "display_data"
    }
   ],
   "source": [
    "y_proba = pipeline.predict_proba(X_test)[:, 1]\n",
    "graficar_metricas(y_test, y_pred, y_proba)"
   ]
  },
  {
   "cell_type": "code",
   "execution_count": 14,
   "id": "a397155f",
   "metadata": {},
   "outputs": [
    {
     "data": {
      "application/vnd.plotly.v1+json": {
       "config": {
        "plotlyServerURL": "https://plot.ly"
       },
       "data": [
        {
         "mode": "lines",
         "name": "Gain",
         "type": "scatter",
         "x": {
          "bdata": "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",
          "dtype": "f8"
         },
         "y": {
          "bdata": "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",
          "dtype": "f8"
         }
        },
        {
         "line": {
          "dash": "dash"
         },
         "mode": "lines",
         "name": "Aleatorio",
         "type": "scatter",
         "x": [
          0,
          1
         ],
         "y": [
          0,
          1
         ]
        }
       ],
       "layout": {
        "template": {
         "data": {
          "bar": [
           {
            "error_x": {
             "color": "#2a3f5f"
            },
            "error_y": {
             "color": "#2a3f5f"
            },
            "marker": {
             "line": {
              "color": "#E5ECF6",
              "width": 0.5
             },
             "pattern": {
              "fillmode": "overlay",
              "size": 10,
              "solidity": 0.2
             }
            },
            "type": "bar"
           }
          ],
          "barpolar": [
           {
            "marker": {
             "line": {
              "color": "#E5ECF6",
              "width": 0.5
             },
             "pattern": {
              "fillmode": "overlay",
              "size": 10,
              "solidity": 0.2
             }
            },
            "type": "barpolar"
           }
          ],
          "carpet": [
           {
            "aaxis": {
             "endlinecolor": "#2a3f5f",
             "gridcolor": "white",
             "linecolor": "white",
             "minorgridcolor": "white",
             "startlinecolor": "#2a3f5f"
            },
            "baxis": {
             "endlinecolor": "#2a3f5f",
             "gridcolor": "white",
             "linecolor": "white",
             "minorgridcolor": "white",
             "startlinecolor": "#2a3f5f"
            },
            "type": "carpet"
           }
          ],
          "choropleth": [
           {
            "colorbar": {
             "outlinewidth": 0,
             "ticks": ""
            },
            "type": "choropleth"
           }
          ],
          "contour": [
           {
            "colorbar": {
             "outlinewidth": 0,
             "ticks": ""
            },
            "colorscale": [
             [
              0,
              "#0d0887"
             ],
             [
              0.1111111111111111,
              "#46039f"
             ],
             [
              0.2222222222222222,
              "#7201a8"
             ],
             [
              0.3333333333333333,
              "#9c179e"
             ],
             [
              0.4444444444444444,
              "#bd3786"
             ],
             [
              0.5555555555555556,
              "#d8576b"
             ],
             [
              0.6666666666666666,
              "#ed7953"
             ],
             [
              0.7777777777777778,
              "#fb9f3a"
             ],
             [
              0.8888888888888888,
              "#fdca26"
             ],
             [
              1,
              "#f0f921"
             ]
            ],
            "type": "contour"
           }
          ],
          "contourcarpet": [
           {
            "colorbar": {
             "outlinewidth": 0,
             "ticks": ""
            },
            "type": "contourcarpet"
           }
          ],
          "heatmap": [
           {
            "colorbar": {
             "outlinewidth": 0,
             "ticks": ""
            },
            "colorscale": [
             [
              0,
              "#0d0887"
             ],
             [
              0.1111111111111111,
              "#46039f"
             ],
             [
              0.2222222222222222,
              "#7201a8"
             ],
             [
              0.3333333333333333,
              "#9c179e"
             ],
             [
              0.4444444444444444,
              "#bd3786"
             ],
             [
              0.5555555555555556,
              "#d8576b"
             ],
             [
              0.6666666666666666,
              "#ed7953"
             ],
             [
              0.7777777777777778,
              "#fb9f3a"
             ],
             [
              0.8888888888888888,
              "#fdca26"
             ],
             [
              1,
              "#f0f921"
             ]
            ],
            "type": "heatmap"
           }
          ],
          "histogram": [
           {
            "marker": {
             "pattern": {
              "fillmode": "overlay",
              "size": 10,
              "solidity": 0.2
             }
            },
            "type": "histogram"
           }
          ],
          "histogram2d": [
           {
            "colorbar": {
             "outlinewidth": 0,
             "ticks": ""
            },
            "colorscale": [
             [
              0,
              "#0d0887"
             ],
             [
              0.1111111111111111,
              "#46039f"
             ],
             [
              0.2222222222222222,
              "#7201a8"
             ],
             [
              0.3333333333333333,
              "#9c179e"
             ],
             [
              0.4444444444444444,
              "#bd3786"
             ],
             [
              0.5555555555555556,
              "#d8576b"
             ],
             [
              0.6666666666666666,
              "#ed7953"
             ],
             [
              0.7777777777777778,
              "#fb9f3a"
             ],
             [
              0.8888888888888888,
              "#fdca26"
             ],
             [
              1,
              "#f0f921"
             ]
            ],
            "type": "histogram2d"
           }
          ],
          "histogram2dcontour": [
           {
            "colorbar": {
             "outlinewidth": 0,
             "ticks": ""
            },
            "colorscale": [
             [
              0,
              "#0d0887"
             ],
             [
              0.1111111111111111,
              "#46039f"
             ],
             [
              0.2222222222222222,
              "#7201a8"
             ],
             [
              0.3333333333333333,
              "#9c179e"
             ],
             [
              0.4444444444444444,
              "#bd3786"
             ],
             [
              0.5555555555555556,
              "#d8576b"
             ],
             [
              0.6666666666666666,
              "#ed7953"
             ],
             [
              0.7777777777777778,
              "#fb9f3a"
             ],
             [
              0.8888888888888888,
              "#fdca26"
             ],
             [
              1,
              "#f0f921"
             ]
            ],
            "type": "histogram2dcontour"
           }
          ],
          "mesh3d": [
           {
            "colorbar": {
             "outlinewidth": 0,
             "ticks": ""
            },
            "type": "mesh3d"
           }
          ],
          "parcoords": [
           {
            "line": {
             "colorbar": {
              "outlinewidth": 0,
              "ticks": ""
             }
            },
            "type": "parcoords"
           }
          ],
          "pie": [
           {
            "automargin": true,
            "type": "pie"
           }
          ],
          "scatter": [
           {
            "fillpattern": {
             "fillmode": "overlay",
             "size": 10,
             "solidity": 0.2
            },
            "type": "scatter"
           }
          ],
          "scatter3d": [
           {
            "line": {
             "colorbar": {
              "outlinewidth": 0,
              "ticks": ""
             }
            },
            "marker": {
             "colorbar": {
              "outlinewidth": 0,
              "ticks": ""
             }
            },
            "type": "scatter3d"
           }
          ],
          "scattercarpet": [
           {
            "marker": {
             "colorbar": {
              "outlinewidth": 0,
              "ticks": ""
             }
            },
            "type": "scattercarpet"
           }
          ],
          "scattergeo": [
           {
            "marker": {
             "colorbar": {
              "outlinewidth": 0,
              "ticks": ""
             }
            },
            "type": "scattergeo"
           }
          ],
          "scattergl": [
           {
            "marker": {
             "colorbar": {
              "outlinewidth": 0,
              "ticks": ""
             }
            },
            "type": "scattergl"
           }
          ],
          "scattermap": [
           {
            "marker": {
             "colorbar": {
              "outlinewidth": 0,
              "ticks": ""
             }
            },
            "type": "scattermap"
           }
          ],
          "scattermapbox": [
           {
            "marker": {
             "colorbar": {
              "outlinewidth": 0,
              "ticks": ""
             }
            },
            "type": "scattermapbox"
           }
          ],
          "scatterpolar": [
           {
            "marker": {
             "colorbar": {
              "outlinewidth": 0,
              "ticks": ""
             }
            },
            "type": "scatterpolar"
           }
          ],
          "scatterpolargl": [
           {
            "marker": {
             "colorbar": {
              "outlinewidth": 0,
              "ticks": ""
             }
            },
            "type": "scatterpolargl"
           }
          ],
          "scatterternary": [
           {
            "marker": {
             "colorbar": {
              "outlinewidth": 0,
              "ticks": ""
             }
            },
            "type": "scatterternary"
           }
          ],
          "surface": [
           {
            "colorbar": {
             "outlinewidth": 0,
             "ticks": ""
            },
            "colorscale": [
             [
              0,
              "#0d0887"
             ],
             [
              0.1111111111111111,
              "#46039f"
             ],
             [
              0.2222222222222222,
              "#7201a8"
             ],
             [
              0.3333333333333333,
              "#9c179e"
             ],
             [
              0.4444444444444444,
              "#bd3786"
             ],
             [
              0.5555555555555556,
              "#d8576b"
             ],
             [
              0.6666666666666666,
              "#ed7953"
             ],
             [
              0.7777777777777778,
              "#fb9f3a"
             ],
             [
              0.8888888888888888,
              "#fdca26"
             ],
             [
              1,
              "#f0f921"
             ]
            ],
            "type": "surface"
           }
          ],
          "table": [
           {
            "cells": {
             "fill": {
              "color": "#EBF0F8"
             },
             "line": {
              "color": "white"
             }
            },
            "header": {
             "fill": {
              "color": "#C8D4E3"
             },
             "line": {
              "color": "white"
             }
            },
            "type": "table"
           }
          ]
         },
         "layout": {
          "annotationdefaults": {
           "arrowcolor": "#2a3f5f",
           "arrowhead": 0,
           "arrowwidth": 1
          },
          "autotypenumbers": "strict",
          "coloraxis": {
           "colorbar": {
            "outlinewidth": 0,
            "ticks": ""
           }
          },
          "colorscale": {
           "diverging": [
            [
             0,
             "#8e0152"
            ],
            [
             0.1,
             "#c51b7d"
            ],
            [
             0.2,
             "#de77ae"
            ],
            [
             0.3,
             "#f1b6da"
            ],
            [
             0.4,
             "#fde0ef"
            ],
            [
             0.5,
             "#f7f7f7"
            ],
            [
             0.6,
             "#e6f5d0"
            ],
            [
             0.7,
             "#b8e186"
            ],
            [
             0.8,
             "#7fbc41"
            ],
            [
             0.9,
             "#4d9221"
            ],
            [
             1,
             "#276419"
            ]
           ],
           "sequential": [
            [
             0,
             "#0d0887"
            ],
            [
             0.1111111111111111,
             "#46039f"
            ],
            [
             0.2222222222222222,
             "#7201a8"
            ],
            [
             0.3333333333333333,
             "#9c179e"
            ],
            [
             0.4444444444444444,
             "#bd3786"
            ],
            [
             0.5555555555555556,
             "#d8576b"
            ],
            [
             0.6666666666666666,
             "#ed7953"
            ],
            [
             0.7777777777777778,
             "#fb9f3a"
            ],
            [
             0.8888888888888888,
             "#fdca26"
            ],
            [
             1,
             "#f0f921"
            ]
           ],
           "sequentialminus": [
            [
             0,
             "#0d0887"
            ],
            [
             0.1111111111111111,
             "#46039f"
            ],
            [
             0.2222222222222222,
             "#7201a8"
            ],
            [
             0.3333333333333333,
             "#9c179e"
            ],
            [
             0.4444444444444444,
             "#bd3786"
            ],
            [
             0.5555555555555556,
             "#d8576b"
            ],
            [
             0.6666666666666666,
             "#ed7953"
            ],
            [
             0.7777777777777778,
             "#fb9f3a"
            ],
            [
             0.8888888888888888,
             "#fdca26"
            ],
            [
             1,
             "#f0f921"
            ]
           ]
          },
          "colorway": [
           "#636efa",
           "#EF553B",
           "#00cc96",
           "#ab63fa",
           "#FFA15A",
           "#19d3f3",
           "#FF6692",
           "#B6E880",
           "#FF97FF",
           "#FECB52"
          ],
          "font": {
           "color": "#2a3f5f"
          },
          "geo": {
           "bgcolor": "white",
           "lakecolor": "white",
           "landcolor": "#E5ECF6",
           "showlakes": true,
           "showland": true,
           "subunitcolor": "white"
          },
          "hoverlabel": {
           "align": "left"
          },
          "hovermode": "closest",
          "mapbox": {
           "style": "light"
          },
          "paper_bgcolor": "white",
          "plot_bgcolor": "#E5ECF6",
          "polar": {
           "angularaxis": {
            "gridcolor": "white",
            "linecolor": "white",
            "ticks": ""
           },
           "bgcolor": "#E5ECF6",
           "radialaxis": {
            "gridcolor": "white",
            "linecolor": "white",
            "ticks": ""
           }
          },
          "scene": {
           "xaxis": {
            "backgroundcolor": "#E5ECF6",
            "gridcolor": "white",
            "gridwidth": 2,
            "linecolor": "white",
            "showbackground": true,
            "ticks": "",
            "zerolinecolor": "white"
           },
           "yaxis": {
            "backgroundcolor": "#E5ECF6",
            "gridcolor": "white",
            "gridwidth": 2,
            "linecolor": "white",
            "showbackground": true,
            "ticks": "",
            "zerolinecolor": "white"
           },
           "zaxis": {
            "backgroundcolor": "#E5ECF6",
            "gridcolor": "white",
            "gridwidth": 2,
            "linecolor": "white",
            "showbackground": true,
            "ticks": "",
            "zerolinecolor": "white"
           }
          },
          "shapedefaults": {
           "line": {
            "color": "#2a3f5f"
           }
          },
          "ternary": {
           "aaxis": {
            "gridcolor": "white",
            "linecolor": "white",
            "ticks": ""
           },
           "baxis": {
            "gridcolor": "white",
            "linecolor": "white",
            "ticks": ""
           },
           "bgcolor": "#E5ECF6",
           "caxis": {
            "gridcolor": "white",
            "linecolor": "white",
            "ticks": ""
           }
          },
          "title": {
           "x": 0.05
          },
          "xaxis": {
           "automargin": true,
           "gridcolor": "white",
           "linecolor": "white",
           "ticks": "",
           "title": {
            "standoff": 15
           },
           "zerolinecolor": "white",
           "zerolinewidth": 2
          },
          "yaxis": {
           "automargin": true,
           "gridcolor": "white",
           "linecolor": "white",
           "ticks": "",
           "title": {
            "standoff": 15
           },
           "zerolinecolor": "white",
           "zerolinewidth": 2
          }
         }
        },
        "title": {
         "text": "Curva Gain"
        },
        "xaxis": {
         "title": {
          "text": "% datos ordenados por score"
         }
        },
        "yaxis": {
         "title": {
          "text": "% positivos capturados"
         }
        }
       }
      }
     },
     "metadata": {},
     "output_type": "display_data"
    },
    {
     "data": {
      "application/vnd.plotly.v1+json": {
       "config": {
        "plotlyServerURL": "https://plot.ly"
       },
       "data": [
        {
         "mode": "lines",
         "name": "Lift",
         "type": "scatter",
         "x": {
          "bdata": "/Knx0k1iUD/8qfHSTWJgP/p+arx0k2g//Knx0k1icD97FK5H4Xp0P/p+arx0k3g/eekmMQisfD/8qfHSTWKAPzvfT42XboI/exSuR+F6hD+6SQwCK4eGP/p+arx0k4g/ObTIdr6fij956SYxCKyMP7gehetRuI4//Knx0k1ikD+cxCCwcmiRPzvfT42XbpI/2/l+arx0kz97FK5H4XqUPxsv3SQGgZU/ukkMAiuHlj9aZDvfT42XP/p+arx0k5g/mpmZmZmZmT85tMh2vp+aP9nO91PjpZs/eekmMQisnD8ZBFYOLbKdP7gehetRuJ4/WDm0yHa+nz/8qfHSTWKgP0w3iUFg5aA/nMQgsHJooT/sUbgeheuhPzvfT42XbqI/i2zn+6nxoj/b+X5qvHSjPyuHFtnO96M/exSuR+F6pD/LoUW28/2kPxsv3SQGgaU/arx0kxgEpj+6SQwCK4emPwrXo3A9Cqc/WmQ730+Npz+q8dJNYhCoP/p+arx0k6g/SgwCK4cWqT+amZmZmZmpP+kmMQisHKo/ObTIdr6fqj+JQWDl0CKrP9nO91Pjpas/KVyPwvUorD956SYxCKysP8l2vp8aL60/GQRWDi2yrT9oke18PzWuP7gehetRuK4/CKwcWmQ7rz9YObTIdr6vP1TjpZvEILA//Knx0k1isD+kcD0K16OwP0w3iUFg5bA/9P3UeOkmsT+cxCCwcmixP0SLbOf7qbE/7FG4HoXrsT+TGARWDi2yPzvfT42XbrI/46WbxCCwsj+LbOf7qfGyPzMzMzMzM7M/2/l+arx0sz+DwMqhRbazPyuHFtnO97M/001iEFg5tD97FK5H4Xq0PyPb+X5qvLQ/y6FFtvP9tD9zaJHtfD+1Pxsv3SQGgbU/w/UoXI/CtT9qvHSTGAS2PxKDwMqhRbY/ukkMAiuHtj9iEFg5tMi2PwrXo3A9Crc/sp3vp8ZLtz9aZDvfT423PwIrhxbZzrc/qvHSTWIQuD9SuB6F61G4P/p+arx0k7g/okW28/3UuD9KDAIrhxa5P/LSTWIQWLk/mpmZmZmZuT9CYOXQItu5P+kmMQisHLo/ke18PzVeuj85tMh2vp+6P+F6FK5H4bo/iUFg5dAiuz8xCKwcWmS7P9nO91Pjpbs/gZVDi2znuz8pXI/C9Si8P9Ei2/l+arw/eekmMQisvD8hsHJoke28P8l2vp8aL70/cT0K16NwvT8ZBFYOLbK9P8HKoUW2870/aJHtfD81vj8QWDm0yHa+P7gehetRuL4/YOXQItv5vj8IrBxaZDu/P7ByaJHtfL8/WDm0yHa+vz8AAAAAAADAP1TjpZvEIMA/qMZLN4lBwD/8qfHSTWLAP1CNl24Sg8A/pHA9CtejwD/4U+Olm8TAP0w3iUFg5cA/oBov3SQGwT/0/dR46SbBP0jhehSuR8E/nMQgsHJowT/wp8ZLN4nBP0SLbOf7qcE/mG4Sg8DKwT/sUbgehevBPz81XrpJDMI/kxgEVg4twj/n+6nx0k3CPzvfT42XbsI/j8L1KFyPwj/jpZvEILDCPzeJQWDl0MI/i2zn+6nxwj/fT42XbhLDPzMzMzMzM8M/hxbZzvdTwz/b+X5qvHTDPy/dJAaBlcM/g8DKoUW2wz/Xo3A9CtfDPyuHFtnO98M/f2q8dJMYxD/TTWIQWDnEPycxCKwcWsQ/exSuR+F6xD/P91PjpZvEPyPb+X5qvMQ/d76fGi/dxD/LoUW28/3EPx+F61G4HsU/c2iR7Xw/xT/HSzeJQWDFPxsv3SQGgcU/bxKDwMqhxT/D9Shcj8LFPxfZzvdT48U/arx0kxgExj++nxov3STGPxKDwMqhRcY/ZmZmZmZmxj+6SQwCK4fGPw4tsp3vp8Y/YhBYObTIxj+28/3UeOnGPwrXo3A9Csc/XrpJDAIrxz+yne+nxkvHPwaBlUOLbMc/WmQ730+Nxz+uR+F6FK7HPwIrhxbZzsc/Vg4tsp3vxz+q8dJNYhDIP/7UeOkmMcg/UrgehetRyD+mm8QgsHLIP/p+arx0k8g/TmIQWDm0yD+iRbbz/dTIP/YoXI/C9cg/SgwCK4cWyT+e76fGSzfJP/LSTWIQWMk/Rrbz/dR4yT+amZmZmZnJP+58PzVeusk/QmDl0CLbyT+WQ4ts5/vJP+kmMQisHMo/PQrXo3A9yj+R7Xw/NV7KP+XQItv5fso/ObTIdr6fyj+Nl24Sg8DKP+F6FK5H4co/NV66SQwCyz+JQWDl0CLLP90kBoGVQ8s/MQisHFpkyz+F61G4HoXLP9nO91Pjpcs/LbKd76fGyz+BlUOLbOfLP9V46SYxCMw/KVyPwvUozD99PzVeuknMP9Ei2/l+asw/JQaBlUOLzD956SYxCKzMP83MzMzMzMw/IbByaJHtzD91kxgEVg7NP8l2vp8aL80/HVpkO99PzT9xPQrXo3DNP8UgsHJokc0/GQRWDi2yzT9t5/up8dLNP8HKoUW2880/FK5H4XoUzj9oke18PzXOP7x0kxgEVs4/EFg5tMh2zj9kO99PjZfOP7gehetRuM4/DAIrhxbZzj9g5dAi2/nOP7TIdr6fGs8/CKwcWmQ7zz9cj8L1KFzPP7ByaJHtfM8/BFYOLbKdzz9YObTIdr7PP6wcWmQ7388/AAAAAAAA0D+q8dJNYhDQP1TjpZvEINA//tR46SYx0D+oxks3iUHQP1K4HoXrUdA//Knx0k1i0D+mm8QgsHLQP1CNl24Sg9A/+n5qvHST0D+kcD0K16PQP05iEFg5tNA/+FPjpZvE0D+iRbbz/dTQP0w3iUFg5dA/9ihcj8L10D+gGi/dJAbRP0oMAiuHFtE/9P3UeOkm0T+e76fGSzfRP0jhehSuR9E/8tJNYhBY0T+cxCCwcmjRP0a28/3UeNE/8KfGSzeJ0T+amZmZmZnRP0SLbOf7qdE/7nw/NV660T+YbhKDwMrRP0Jg5dAi29E/7FG4HoXr0T+WQ4ts5/vRPz81XrpJDNI/6SYxCKwc0j+TGARWDi3SPz0K16NwPdI/5/up8dJN0j+R7Xw/NV7SPzvfT42XbtI/5dAi2/l+0j+PwvUoXI/SPzm0yHa+n9I/46WbxCCw0j+Nl24Sg8DSPzeJQWDl0NI/4XoUrkfh0j+LbOf7qfHSPzVeukkMAtM/30+Nl24S0z+JQWDl0CLTPzMzMzMzM9M/3SQGgZVD0z+HFtnO91PTPzEIrBxaZNM/2/l+arx00z+F61G4HoXTPy/dJAaBldM/2c73U+Ol0z+DwMqhRbbTPy2yne+nxtM/16NwPQrX0z+BlUOLbOfTPyuHFtnO99M/1XjpJjEI1D9/arx0kxjUPylcj8L1KNQ/001iEFg51D99PzVeuknUPycxCKwcWtQ/0SLb+X5q1D97FK5H4XrUPyUGgZVDi9Q/z/dT46Wb1D956SYxCKzUPyPb+X5qvNQ/zczMzMzM1D93vp8aL93UPyGwcmiR7dQ/y6FFtvP91D91kxgEVg7VPx+F61G4HtU/yXa+nxov1T9zaJHtfD/VPx1aZDvfT9U/x0s3iUFg1T9xPQrXo3DVPxsv3SQGgdU/xSCwcmiR1T9vEoPAyqHVPxkEVg4tstU/w/UoXI/C1T9t5/up8dLVPxfZzvdT49U/wcqhRbbz1T9qvHSTGATWPxSuR+F6FNY/vp8aL90k1j9oke18PzXWPxKDwMqhRdY/vHSTGARW1j9mZmZmZmbWPxBYObTIdtY/ukkMAiuH1j9kO99PjZfWPw4tsp3vp9Y/uB6F61G41j9iEFg5tMjWPwwCK4cW2dY/tvP91Hjp1j9g5dAi2/nWPwrXo3A9Ctc/tMh2vp8a1z9eukkMAivXPwisHFpkO9c/sp3vp8ZL1z9cj8L1KFzXPwaBlUOLbNc/sHJoke181z9aZDvfT43XPwRWDi2yndc/rkfhehSu1z9YObTIdr7XPwIrhxbZztc/rBxaZDvf1z9WDi2yne/XPwAAAAAAANg/qvHSTWIQ2D9U46WbxCDYP/7UeOkmMdg/qMZLN4lB2D9SuB6F61HYP/yp8dJNYtg/ppvEILBy2D9QjZduEoPYP/p+arx0k9g/pHA9Ctej2D9OYhBYObTYP/hT46WbxNg/okW28/3U2D9MN4lBYOXYP/YoXI/C9dg/oBov3SQG2T9KDAIrhxbZP/T91HjpJtk/nu+nxks32T9I4XoUrkfZP/LSTWIQWNk/nMQgsHJo2T9GtvP91HjZP/Cnxks3idk/mpmZmZmZ2T9Ei2zn+6nZP+58PzVeutk/mG4Sg8DK2T9CYOXQItvZP+xRuB6F69k/lkOLbOf72T8/NV66SQzaP+kmMQisHNo/kxgEVg4t2j89CtejcD3aP+f7qfHSTdo/ke18PzVe2j8730+Nl27aP+XQItv5fto/j8L1KFyP2j85tMh2vp/aP+Olm8QgsNo/jZduEoPA2j83iUFg5dDaP+F6FK5H4do/i2zn+6nx2j81XrpJDALbP99PjZduEts/iUFg5dAi2z8zMzMzMzPbP90kBoGVQ9s/hxbZzvdT2z8xCKwcWmTbP9v5fmq8dNs/hetRuB6F2z8v3SQGgZXbP9nO91Pjpds/g8DKoUW22z8tsp3vp8bbP9ejcD0K19s/gZVDi2zn2z8rhxbZzvfbP9V46SYxCNw/f2q8dJMY3D8pXI/C9SjcP9NNYhBYOdw/fT81XrpJ3D8nMQisHFrcP9Ei2/l+atw/exSuR+F63D8lBoGVQ4vcP8/3U+Olm9w/eekmMQis3D8j2/l+arzcP83MzMzMzNw/d76fGi/d3D8hsHJoke3cP8uhRbbz/dw/dZMYBFYO3T8fhetRuB7dP8l2vp8aL90/c2iR7Xw/3T8dWmQ730/dP8dLN4lBYN0/cT0K16Nw3T8bL90kBoHdP8UgsHJokd0/bxKDwMqh3T8ZBFYOLbLdP8P1KFyPwt0/bef7qfHS3T8X2c73U+PdP8HKoUW2890/arx0kxgE3j8UrkfhehTeP76fGi/dJN4/aJHtfD813j8Sg8DKoUXeP7x0kxgEVt4/ZmZmZmZm3j8QWDm0yHbeP7pJDAIrh94/ZDvfT42X3j8OLbKd76feP7gehetRuN4/YhBYObTI3j8MAiuHFtneP7bz/dR46d4/YOXQItv53j8K16NwPQrfP7TIdr6fGt8/XrpJDAIr3z8IrBxaZDvfP7Kd76fGS98/XI/C9Shc3z8GgZVDi2zfP7ByaJHtfN8/WmQ730+N3z8EVg4tsp3fP65H4XoUrt8/WDm0yHa+3z8CK4cW2c7fP6wcWmQ7398/Vg4tsp3v3z8AAAAAAADgP9V46SYxCOA/qvHSTWIQ4D9/arx0kxjgP1TjpZvEIOA/KVyPwvUo4D/+1HjpJjHgP9NNYhBYOeA/qMZLN4lB4D99PzVeukngP1K4HoXrUeA/JzEIrBxa4D/8qfHSTWLgP9Ei2/l+auA/ppvEILBy4D97FK5H4XrgP1CNl24Sg+A/JQaBlUOL4D/6fmq8dJPgP8/3U+Olm+A/pHA9Ctej4D956SYxCKzgP05iEFg5tOA/I9v5fmq84D/4U+Olm8TgP83MzMzMzOA/okW28/3U4D93vp8aL93gP0w3iUFg5eA/IbByaJHt4D/2KFyPwvXgP8uhRbbz/eA/oBov3SQG4T91kxgEVg7hP0oMAiuHFuE/H4XrUbge4T/0/dR46SbhP8l2vp8aL+E/nu+nxks34T9zaJHtfD/hP0jhehSuR+E/HVpkO99P4T/y0k1iEFjhP8dLN4lBYOE/nMQgsHJo4T9xPQrXo3DhP0a28/3UeOE/Gy/dJAaB4T/wp8ZLN4nhP8UgsHJokeE/mpmZmZmZ4T9vEoPAyqHhP0SLbOf7qeE/GQRWDi2y4T/ufD81XrrhP8P1KFyPwuE/mG4Sg8DK4T9t5/up8dLhP0Jg5dAi2+E/F9nO91Pj4T/sUbgehevhP8HKoUW28+E/lkOLbOf74T9qvHSTGATiPz81XrpJDOI/FK5H4XoU4j/pJjEIrBziP76fGi/dJOI/kxgEVg4t4j9oke18PzXiPz0K16NwPeI/EoPAyqFF4j/n+6nx0k3iP7x0kxgEVuI/ke18PzVe4j9mZmZmZmbiPzvfT42XbuI/EFg5tMh24j/l0CLb+X7iP7pJDAIrh+I/j8L1KFyP4j9kO99PjZfiPzm0yHa+n+I/Di2yne+n4j/jpZvEILDiP7gehetRuOI/jZduEoPA4j9iEFg5tMjiPzeJQWDl0OI/DAIrhxbZ4j/hehSuR+HiP7bz/dR46eI/i2zn+6nx4j9g5dAi2/niPzVeukkMAuM/CtejcD0K4z/fT42XbhLjP7TIdr6fGuM/iUFg5dAi4z9eukkMAivjPzMzMzMzM+M/CKwcWmQ74z/dJAaBlUPjP7Kd76fGS+M/hxbZzvdT4z9cj8L1KFzjPzEIrBxaZOM/BoGVQ4ts4z/b+X5qvHTjP7ByaJHtfOM/hetRuB6F4z9aZDvfT43jPy/dJAaBleM/BFYOLbKd4z/ZzvdT46XjP65H4XoUruM/g8DKoUW24z9YObTIdr7jPy2yne+nxuM/AiuHFtnO4z/Xo3A9CtfjP6wcWmQ73+M/gZVDi2zn4z9WDi2yne/jPyuHFtnO9+M/AAAAAAAA5D/VeOkmMQjkP6rx0k1iEOQ/f2q8dJMY5D9U46WbxCDkPylcj8L1KOQ//tR46SYx5D/TTWIQWDnkP6jGSzeJQeQ/fT81XrpJ5D9SuB6F61HkPycxCKwcWuQ//Knx0k1i5D/RItv5fmrkP6abxCCwcuQ/exSuR+F65D9QjZduEoPkPyUGgZVDi+Q/+n5qvHST5D/P91PjpZvkP6RwPQrXo+Q/eekmMQis5D9OYhBYObTkPyPb+X5qvOQ/+FPjpZvE5D/NzMzMzMzkP6JFtvP91OQ/d76fGi/d5D9MN4lBYOXkPyGwcmiR7eQ/9ihcj8L15D/LoUW28/3kP6AaL90kBuU/dZMYBFYO5T9KDAIrhxblPx+F61G4HuU/9P3UeOkm5T/Jdr6fGi/lP57vp8ZLN+U/c2iR7Xw/5T9I4XoUrkflPx1aZDvfT+U/8tJNYhBY5T/HSzeJQWDlP5zEILByaOU/cT0K16Nw5T9GtvP91HjlPxsv3SQGgeU/8KfGSzeJ5T/FILByaJHlP5qZmZmZmeU/bxKDwMqh5T9Ei2zn+6nlPxkEVg4tsuU/7nw/NV665T/D9Shcj8LlP5huEoPAyuU/bef7qfHS5T9CYOXQItvlPxfZzvdT4+U/7FG4HoXr5T/ByqFFtvPlP5ZDi2zn++U/arx0kxgE5j8/NV66SQzmPxSuR+F6FOY/6SYxCKwc5j++nxov3STmP5MYBFYOLeY/aJHtfD815j89CtejcD3mPxKDwMqhReY/5/up8dJN5j+8dJMYBFbmP5HtfD81XuY/ZmZmZmZm5j8730+Nl27mPxBYObTIduY/5dAi2/l+5j+6SQwCK4fmP4/C9Shcj+Y/ZDvfT42X5j85tMh2vp/mPw4tsp3vp+Y/46WbxCCw5j+4HoXrUbjmP42XbhKDwOY/YhBYObTI5j83iUFg5dDmPwwCK4cW2eY/4XoUrkfh5j+28/3UeOnmP4ts5/up8eY/YOXQItv55j81XrpJDALnPwrXo3A9Cuc/30+Nl24S5z+0yHa+nxrnP4lBYOXQIuc/XrpJDAIr5z8zMzMzMzPnPwisHFpkO+c/3SQGgZVD5z+yne+nxkvnP4cW2c73U+c/XI/C9Shc5z8xCKwcWmTnPwaBlUOLbOc/2/l+arx05z+wcmiR7XznP4XrUbgehec/WmQ730+N5z8v3SQGgZXnPwRWDi2ynec/2c73U+Ol5z+uR+F6FK7nP4PAyqFFtuc/WDm0yHa+5z8tsp3vp8bnPwIrhxbZzuc/16NwPQrX5z+sHFpkO9/nP4GVQ4ts5+c/Vg4tsp3v5z8rhxbZzvfnPwAAAAAAAOg/1XjpJjEI6D+q8dJNYhDoP39qvHSTGOg/VOOlm8Qg6D8pXI/C9SjoP/7UeOkmMeg/001iEFg56D+oxks3iUHoP30/NV66Seg/UrgehetR6D8nMQisHFroP/yp8dJNYug/0SLb+X5q6D+mm8QgsHLoP3sUrkfheug/UI2XbhKD6D8lBoGVQ4voP/p+arx0k+g/z/dT46Wb6D+kcD0K16PoP3npJjEIrOg/TmIQWDm06D8j2/l+arzoP/hT46WbxOg/zczMzMzM6D+iRbbz/dToP3e+nxov3eg/TDeJQWDl6D8hsHJoke3oP/YoXI/C9eg/y6FFtvP96D+gGi/dJAbpP3WTGARWDuk/SgwCK4cW6T8fhetRuB7pP/T91HjpJuk/yXa+nxov6T+e76fGSzfpP3Noke18P+k/SOF6FK5H6T8dWmQ730/pP/LSTWIQWOk/x0s3iUFg6T+cxCCwcmjpP3E9CtejcOk/Rrbz/dR46T8bL90kBoHpP/Cnxks3iek/xSCwcmiR6T+amZmZmZnpP28Sg8DKoek/RIts5/up6T8ZBFYOLbLpP+58PzVeuuk/w/UoXI/C6T+YbhKDwMrpP23n+6nx0uk/QmDl0CLb6T8X2c73U+PpP+xRuB6F6+k/wcqhRbbz6T+WQ4ts5/vpP2q8dJMYBOo/PzVeukkM6j8UrkfhehTqP+kmMQisHOo/vp8aL90k6j+TGARWDi3qP2iR7Xw/Neo/PQrXo3A96j8Sg8DKoUXqP+f7qfHSTeo/vHSTGARW6j+R7Xw/NV7qP2ZmZmZmZuo/O99PjZdu6j8QWDm0yHbqP+XQItv5fuo/ukkMAiuH6j+PwvUoXI/qP2Q730+Nl+o/ObTIdr6f6j8OLbKd76fqP+Olm8QgsOo/uB6F61G46j+Nl24Sg8DqP2IQWDm0yOo/N4lBYOXQ6j8MAiuHFtnqP+F6FK5H4eo/tvP91Hjp6j+LbOf7qfHqP2Dl0CLb+eo/NV66SQwC6z8K16NwPQrrP99PjZduEus/tMh2vp8a6z+JQWDl0CLrP166SQwCK+s/MzMzMzMz6z8IrBxaZDvrP90kBoGVQ+s/sp3vp8ZL6z+HFtnO91PrP1yPwvUoXOs/MQisHFpk6z8GgZVDi2zrP9v5fmq8dOs/sHJoke186z+F61G4HoXrP1pkO99Pjes/L90kBoGV6z8EVg4tsp3rP9nO91Pjpes/rkfhehSu6z+DwMqhRbbrP1g5tMh2vus/LbKd76fG6z8CK4cW2c7rP9ejcD0K1+s/rBxaZDvf6z+BlUOLbOfrP1YOLbKd7+s/K4cW2c736z8AAAAAAADsP9V46SYxCOw/qvHSTWIQ7D9/arx0kxjsP1TjpZvEIOw/KVyPwvUo7D/+1HjpJjHsP9NNYhBYOew/qMZLN4lB7D99PzVeuknsP1K4HoXrUew/JzEIrBxa7D/8qfHSTWLsP9Ei2/l+auw/ppvEILBy7D97FK5H4XrsP1CNl24Sg+w/JQaBlUOL7D/6fmq8dJPsP8/3U+Olm+w/pHA9Ctej7D956SYxCKzsP05iEFg5tOw/I9v5fmq87D/4U+Olm8TsP83MzMzMzOw/okW28/3U7D93vp8aL93sP0w3iUFg5ew/IbByaJHt7D/2KFyPwvXsP8uhRbbz/ew/oBov3SQG7T91kxgEVg7tP0oMAiuHFu0/H4XrUbge7T/0/dR46SbtP8l2vp8aL+0/nu+nxks37T9zaJHtfD/tP0jhehSuR+0/HVpkO99P7T/y0k1iEFjtP8dLN4lBYO0/nMQgsHJo7T9xPQrXo3DtP0a28/3UeO0/Gy/dJAaB7T/wp8ZLN4ntP8UgsHJoke0/mpmZmZmZ7T9vEoPAyqHtP0SLbOf7qe0/GQRWDi2y7T/ufD81XrrtP8P1KFyPwu0/mG4Sg8DK7T9t5/up8dLtP0Jg5dAi2+0/F9nO91Pj7T/sUbgehevtP8HKoUW28+0/lkOLbOf77T9qvHSTGATuPz81XrpJDO4/FK5H4XoU7j/pJjEIrBzuP76fGi/dJO4/kxgEVg4t7j9oke18PzXuPz0K16NwPe4/EoPAyqFF7j/n+6nx0k3uP7x0kxgEVu4/ke18PzVe7j9mZmZmZmbuPzvfT42Xbu4/EFg5tMh27j/l0CLb+X7uP7pJDAIrh+4/j8L1KFyP7j9kO99PjZfuPzm0yHa+n+4/Di2yne+n7j/jpZvEILDuP7gehetRuO4/jZduEoPA7j9iEFg5tMjuPzeJQWDl0O4/DAIrhxbZ7j/hehSuR+HuP7bz/dR46e4/i2zn+6nx7j9g5dAi2/nuPzVeukkMAu8/CtejcD0K7z/fT42XbhLvP7TIdr6fGu8/iUFg5dAi7z9eukkMAivvPzMzMzMzM+8/CKwcWmQ77z/dJAaBlUPvP7Kd76fGS+8/hxbZzvdT7z9cj8L1KFzvPzEIrBxaZO8/BoGVQ4ts7z/b+X5qvHTvP7ByaJHtfO8/hetRuB6F7z9aZDvfT43vPy/dJAaBle8/BFYOLbKd7z/ZzvdT46XvP65H4XoUru8/g8DKoUW27z9YObTIdr7vPy2yne+nxu8/AiuHFtnO7z/Xo3A9CtfvP6wcWmQ73+8/gZVDi2zn7z9WDi2yne/vPyuHFtnO9+8/AAAAAAAA8D8=",
          "dtype": "f8"
         },
         "y": {
          "bdata": "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",
          "dtype": "f8"
         }
        },
        {
         "line": {
          "dash": "dash"
         },
         "mode": "lines",
         "name": "Base",
         "type": "scatter",
         "x": [
          0,
          1
         ],
         "y": [
          1,
          1
         ]
        }
       ],
       "layout": {
        "template": {
         "data": {
          "bar": [
           {
            "error_x": {
             "color": "#2a3f5f"
            },
            "error_y": {
             "color": "#2a3f5f"
            },
            "marker": {
             "line": {
              "color": "#E5ECF6",
              "width": 0.5
             },
             "pattern": {
              "fillmode": "overlay",
              "size": 10,
              "solidity": 0.2
             }
            },
            "type": "bar"
           }
          ],
          "barpolar": [
           {
            "marker": {
             "line": {
              "color": "#E5ECF6",
              "width": 0.5
             },
             "pattern": {
              "fillmode": "overlay",
              "size": 10,
              "solidity": 0.2
             }
            },
            "type": "barpolar"
           }
          ],
          "carpet": [
           {
            "aaxis": {
             "endlinecolor": "#2a3f5f",
             "gridcolor": "white",
             "linecolor": "white",
             "minorgridcolor": "white",
             "startlinecolor": "#2a3f5f"
            },
            "baxis": {
             "endlinecolor": "#2a3f5f",
             "gridcolor": "white",
             "linecolor": "white",
             "minorgridcolor": "white",
             "startlinecolor": "#2a3f5f"
            },
            "type": "carpet"
           }
          ],
          "choropleth": [
           {
            "colorbar": {
             "outlinewidth": 0,
             "ticks": ""
            },
            "type": "choropleth"
           }
          ],
          "contour": [
           {
            "colorbar": {
             "outlinewidth": 0,
             "ticks": ""
            },
            "colorscale": [
             [
              0,
              "#0d0887"
             ],
             [
              0.1111111111111111,
              "#46039f"
             ],
             [
              0.2222222222222222,
              "#7201a8"
             ],
             [
              0.3333333333333333,
              "#9c179e"
             ],
             [
              0.4444444444444444,
              "#bd3786"
             ],
             [
              0.5555555555555556,
              "#d8576b"
             ],
             [
              0.6666666666666666,
              "#ed7953"
             ],
             [
              0.7777777777777778,
              "#fb9f3a"
             ],
             [
              0.8888888888888888,
              "#fdca26"
             ],
             [
              1,
              "#f0f921"
             ]
            ],
            "type": "contour"
           }
          ],
          "contourcarpet": [
           {
            "colorbar": {
             "outlinewidth": 0,
             "ticks": ""
            },
            "type": "contourcarpet"
           }
          ],
          "heatmap": [
           {
            "colorbar": {
             "outlinewidth": 0,
             "ticks": ""
            },
            "colorscale": [
             [
              0,
              "#0d0887"
             ],
             [
              0.1111111111111111,
              "#46039f"
             ],
             [
              0.2222222222222222,
              "#7201a8"
             ],
             [
              0.3333333333333333,
              "#9c179e"
             ],
             [
              0.4444444444444444,
              "#bd3786"
             ],
             [
              0.5555555555555556,
              "#d8576b"
             ],
             [
              0.6666666666666666,
              "#ed7953"
             ],
             [
              0.7777777777777778,
              "#fb9f3a"
             ],
             [
              0.8888888888888888,
              "#fdca26"
             ],
             [
              1,
              "#f0f921"
             ]
            ],
            "type": "heatmap"
           }
          ],
          "histogram": [
           {
            "marker": {
             "pattern": {
              "fillmode": "overlay",
              "size": 10,
              "solidity": 0.2
             }
            },
            "type": "histogram"
           }
          ],
          "histogram2d": [
           {
            "colorbar": {
             "outlinewidth": 0,
             "ticks": ""
            },
            "colorscale": [
             [
              0,
              "#0d0887"
             ],
             [
              0.1111111111111111,
              "#46039f"
             ],
             [
              0.2222222222222222,
              "#7201a8"
             ],
             [
              0.3333333333333333,
              "#9c179e"
             ],
             [
              0.4444444444444444,
              "#bd3786"
             ],
             [
              0.5555555555555556,
              "#d8576b"
             ],
             [
              0.6666666666666666,
              "#ed7953"
             ],
             [
              0.7777777777777778,
              "#fb9f3a"
             ],
             [
              0.8888888888888888,
              "#fdca26"
             ],
             [
              1,
              "#f0f921"
             ]
            ],
            "type": "histogram2d"
           }
          ],
          "histogram2dcontour": [
           {
            "colorbar": {
             "outlinewidth": 0,
             "ticks": ""
            },
            "colorscale": [
             [
              0,
              "#0d0887"
             ],
             [
              0.1111111111111111,
              "#46039f"
             ],
             [
              0.2222222222222222,
              "#7201a8"
             ],
             [
              0.3333333333333333,
              "#9c179e"
             ],
             [
              0.4444444444444444,
              "#bd3786"
             ],
             [
              0.5555555555555556,
              "#d8576b"
             ],
             [
              0.6666666666666666,
              "#ed7953"
             ],
             [
              0.7777777777777778,
              "#fb9f3a"
             ],
             [
              0.8888888888888888,
              "#fdca26"
             ],
             [
              1,
              "#f0f921"
             ]
            ],
            "type": "histogram2dcontour"
           }
          ],
          "mesh3d": [
           {
            "colorbar": {
             "outlinewidth": 0,
             "ticks": ""
            },
            "type": "mesh3d"
           }
          ],
          "parcoords": [
           {
            "line": {
             "colorbar": {
              "outlinewidth": 0,
              "ticks": ""
             }
            },
            "type": "parcoords"
           }
          ],
          "pie": [
           {
            "automargin": true,
            "type": "pie"
           }
          ],
          "scatter": [
           {
            "fillpattern": {
             "fillmode": "overlay",
             "size": 10,
             "solidity": 0.2
            },
            "type": "scatter"
           }
          ],
          "scatter3d": [
           {
            "line": {
             "colorbar": {
              "outlinewidth": 0,
              "ticks": ""
             }
            },
            "marker": {
             "colorbar": {
              "outlinewidth": 0,
              "ticks": ""
             }
            },
            "type": "scatter3d"
           }
          ],
          "scattercarpet": [
           {
            "marker": {
             "colorbar": {
              "outlinewidth": 0,
              "ticks": ""
             }
            },
            "type": "scattercarpet"
           }
          ],
          "scattergeo": [
           {
            "marker": {
             "colorbar": {
              "outlinewidth": 0,
              "ticks": ""
             }
            },
            "type": "scattergeo"
           }
          ],
          "scattergl": [
           {
            "marker": {
             "colorbar": {
              "outlinewidth": 0,
              "ticks": ""
             }
            },
            "type": "scattergl"
           }
          ],
          "scattermap": [
           {
            "marker": {
             "colorbar": {
              "outlinewidth": 0,
              "ticks": ""
             }
            },
            "type": "scattermap"
           }
          ],
          "scattermapbox": [
           {
            "marker": {
             "colorbar": {
              "outlinewidth": 0,
              "ticks": ""
             }
            },
            "type": "scattermapbox"
           }
          ],
          "scatterpolar": [
           {
            "marker": {
             "colorbar": {
              "outlinewidth": 0,
              "ticks": ""
             }
            },
            "type": "scatterpolar"
           }
          ],
          "scatterpolargl": [
           {
            "marker": {
             "colorbar": {
              "outlinewidth": 0,
              "ticks": ""
             }
            },
            "type": "scatterpolargl"
           }
          ],
          "scatterternary": [
           {
            "marker": {
             "colorbar": {
              "outlinewidth": 0,
              "ticks": ""
             }
            },
            "type": "scatterternary"
           }
          ],
          "surface": [
           {
            "colorbar": {
             "outlinewidth": 0,
             "ticks": ""
            },
            "colorscale": [
             [
              0,
              "#0d0887"
             ],
             [
              0.1111111111111111,
              "#46039f"
             ],
             [
              0.2222222222222222,
              "#7201a8"
             ],
             [
              0.3333333333333333,
              "#9c179e"
             ],
             [
              0.4444444444444444,
              "#bd3786"
             ],
             [
              0.5555555555555556,
              "#d8576b"
             ],
             [
              0.6666666666666666,
              "#ed7953"
             ],
             [
              0.7777777777777778,
              "#fb9f3a"
             ],
             [
              0.8888888888888888,
              "#fdca26"
             ],
             [
              1,
              "#f0f921"
             ]
            ],
            "type": "surface"
           }
          ],
          "table": [
           {
            "cells": {
             "fill": {
              "color": "#EBF0F8"
             },
             "line": {
              "color": "white"
             }
            },
            "header": {
             "fill": {
              "color": "#C8D4E3"
             },
             "line": {
              "color": "white"
             }
            },
            "type": "table"
           }
          ]
         },
         "layout": {
          "annotationdefaults": {
           "arrowcolor": "#2a3f5f",
           "arrowhead": 0,
           "arrowwidth": 1
          },
          "autotypenumbers": "strict",
          "coloraxis": {
           "colorbar": {
            "outlinewidth": 0,
            "ticks": ""
           }
          },
          "colorscale": {
           "diverging": [
            [
             0,
             "#8e0152"
            ],
            [
             0.1,
             "#c51b7d"
            ],
            [
             0.2,
             "#de77ae"
            ],
            [
             0.3,
             "#f1b6da"
            ],
            [
             0.4,
             "#fde0ef"
            ],
            [
             0.5,
             "#f7f7f7"
            ],
            [
             0.6,
             "#e6f5d0"
            ],
            [
             0.7,
             "#b8e186"
            ],
            [
             0.8,
             "#7fbc41"
            ],
            [
             0.9,
             "#4d9221"
            ],
            [
             1,
             "#276419"
            ]
           ],
           "sequential": [
            [
             0,
             "#0d0887"
            ],
            [
             0.1111111111111111,
             "#46039f"
            ],
            [
             0.2222222222222222,
             "#7201a8"
            ],
            [
             0.3333333333333333,
             "#9c179e"
            ],
            [
             0.4444444444444444,
             "#bd3786"
            ],
            [
             0.5555555555555556,
             "#d8576b"
            ],
            [
             0.6666666666666666,
             "#ed7953"
            ],
            [
             0.7777777777777778,
             "#fb9f3a"
            ],
            [
             0.8888888888888888,
             "#fdca26"
            ],
            [
             1,
             "#f0f921"
            ]
           ],
           "sequentialminus": [
            [
             0,
             "#0d0887"
            ],
            [
             0.1111111111111111,
             "#46039f"
            ],
            [
             0.2222222222222222,
             "#7201a8"
            ],
            [
             0.3333333333333333,
             "#9c179e"
            ],
            [
             0.4444444444444444,
             "#bd3786"
            ],
            [
             0.5555555555555556,
             "#d8576b"
            ],
            [
             0.6666666666666666,
             "#ed7953"
            ],
            [
             0.7777777777777778,
             "#fb9f3a"
            ],
            [
             0.8888888888888888,
             "#fdca26"
            ],
            [
             1,
             "#f0f921"
            ]
           ]
          },
          "colorway": [
           "#636efa",
           "#EF553B",
           "#00cc96",
           "#ab63fa",
           "#FFA15A",
           "#19d3f3",
           "#FF6692",
           "#B6E880",
           "#FF97FF",
           "#FECB52"
          ],
          "font": {
           "color": "#2a3f5f"
          },
          "geo": {
           "bgcolor": "white",
           "lakecolor": "white",
           "landcolor": "#E5ECF6",
           "showlakes": true,
           "showland": true,
           "subunitcolor": "white"
          },
          "hoverlabel": {
           "align": "left"
          },
          "hovermode": "closest",
          "mapbox": {
           "style": "light"
          },
          "paper_bgcolor": "white",
          "plot_bgcolor": "#E5ECF6",
          "polar": {
           "angularaxis": {
            "gridcolor": "white",
            "linecolor": "white",
            "ticks": ""
           },
           "bgcolor": "#E5ECF6",
           "radialaxis": {
            "gridcolor": "white",
            "linecolor": "white",
            "ticks": ""
           }
          },
          "scene": {
           "xaxis": {
            "backgroundcolor": "#E5ECF6",
            "gridcolor": "white",
            "gridwidth": 2,
            "linecolor": "white",
            "showbackground": true,
            "ticks": "",
            "zerolinecolor": "white"
           },
           "yaxis": {
            "backgroundcolor": "#E5ECF6",
            "gridcolor": "white",
            "gridwidth": 2,
            "linecolor": "white",
            "showbackground": true,
            "ticks": "",
            "zerolinecolor": "white"
           },
           "zaxis": {
            "backgroundcolor": "#E5ECF6",
            "gridcolor": "white",
            "gridwidth": 2,
            "linecolor": "white",
            "showbackground": true,
            "ticks": "",
            "zerolinecolor": "white"
           }
          },
          "shapedefaults": {
           "line": {
            "color": "#2a3f5f"
           }
          },
          "ternary": {
           "aaxis": {
            "gridcolor": "white",
            "linecolor": "white",
            "ticks": ""
           },
           "baxis": {
            "gridcolor": "white",
            "linecolor": "white",
            "ticks": ""
           },
           "bgcolor": "#E5ECF6",
           "caxis": {
            "gridcolor": "white",
            "linecolor": "white",
            "ticks": ""
           }
          },
          "title": {
           "x": 0.05
          },
          "xaxis": {
           "automargin": true,
           "gridcolor": "white",
           "linecolor": "white",
           "ticks": "",
           "title": {
            "standoff": 15
           },
           "zerolinecolor": "white",
           "zerolinewidth": 2
          },
          "yaxis": {
           "automargin": true,
           "gridcolor": "white",
           "linecolor": "white",
           "ticks": "",
           "title": {
            "standoff": 15
           },
           "zerolinecolor": "white",
           "zerolinewidth": 2
          }
         }
        },
        "title": {
         "text": "Curva Lift"
        },
        "xaxis": {
         "title": {
          "text": "% datos"
         }
        },
        "yaxis": {
         "title": {
          "text": "Lift"
         }
        }
       }
      }
     },
     "metadata": {},
     "output_type": "display_data"
    },
    {
     "data": {
      "application/vnd.plotly.v1+json": {
       "config": {
        "plotlyServerURL": "https://plot.ly"
       },
       "data": [
        {
         "mode": "lines",
         "name": "TPR",
         "type": "scatter",
         "x": {
          "bdata": "AAAAAAAA8H+zsxNnMPXvP6to7WPS9O8/0S+VHFvQ7z9VO2H9nsjvPz69wMyQuu8/NwDJw46u7z9Ot5s4KqTvPwfnjU2xn+8/52MkjPmU7z+HI05Ne5HvP1tlRzRkiO8/4bDiYaxy7z+FnGhH0l/vP+VLa59+Ve8/N56QroFK7z+TLeY6dy3vP/tYrbT8Ke8/xRpMrJEb7z+z2Ujv/A7vP1KMf12cDu8/+LPCQCbp7j/v44Q49+PuPzsUYI0X1e4/qVk80RDF7j+bFJKSfsPuPxn1EoQuwe4/bXtxK+OQ7j8Xor59tI7uP+fYSgiAhe4/ZWkSxwJp7j9YhiNuV1/uP8h7nhs+Ue4/zNDha6hQ7j+4BeBGR07uP9jBZfomNe4/Kw+3mikl7j/qscv+GwHuP784GZPJ/+0/J62sFm/b7T9sdc2EHdTtP9CcC4brqu0/MAcwqKqU7T/Ck8sFGZPtP+UZQvLNge0/9z5/HxY47T/TbNauXyPtP9/SA7z6/ew/+YtdbOX17D8cgSmMvPXsP0VRXznepuw/aRE6L7Ci7D8hW+QKhp/sP4j/r2Vzlew/09+ypkGM7D/ilAnUHH/sP9EefbBZd+w/OEOVd2dV7D9OpxNOVE3sP94eFRKOIuw/1tw8F10g7D+HvmsvAhPsP983wI02D+w/48VMDSUP7D883ToG4fzrP8ojtyhI9Os/yLhgBWbQ6z8JeiHVHrnrP2rvrEHqqOs/1poaeXKb6z+RTx1hy5jrP0Wz48tDmOs/ETQaxcGO6z/PwAeNHnbrP2OOAfjkbOs/wmzTC0xh6z++4z2iGE3rP01DEi9FQOs/gdSPv/o16z94sy5iWyHrP1+Za7pO8+o/8iSG/wDc6j+6A4XbSrHqP5KsNblJruo/1LxRFYal6j/ddycnTZ3qP/eM0EeClOo/JYqG2yiE6j+s/hjwY4LqPy1e5kppceo/QA8Ueoho6j/IN2Kk/GTqP5kTs9ahTeo/zPBwGQdF6j8C9loU4DvqP+QEm5PkHuo/zljxHZQL6j9HIMbTaQrqP94t308S+uk/Bq9f/KrQ6T/xjn4DisrpP+pBIKTrs+k/I4k/Jrii6T+PBd3NeqLpP5hhnWNCnOk/dmHFrPaW6T8tR1bIJIHpP8fOaWMbd+k/SiWke1dj6T+jJ/oLAVfpPwuCwnpsVek/7VkcPv5Q6T+JFKq9bVDpP16ontPuG+k/CKqSnlsL6T9o7Ccnqu3oP7IV2hbk5Og/mmKf/lPf6D/sEGoU09voP/lNfJkqzug/as4F79uu6D/O6isXdJ3oP2F6DLB7cOg/Y/zI1AJs6D+I6P3qdljoP8uyfuy7S+g/Cf8oEUxJ6D9cy+y8ez/oP8a+hvwpOug/NPBIGiUs6D95aKLyswToPwGx9bw70uc/t0wIbsW75z9anpIaLqbnPxytorprjOc/xrCwY3KE5z/KfcZ+L1HnP24JnDk4TOc/MI1z6i9K5z/q6HYaxDLnP3zvMIHGLec/1PBW1JIt5z/3+OBS1CznP+86O++KIuc/Rlg1ktQh5z+cTjACXh3nP0FQQvFiHOc/1qgkSC0E5z8+29ZPXdLmP8aZviO/zuY/1ifh7yi15j9whMrnObTmP234r4TOouY/NLQ6TKmT5j+YMq7RMVjmP16IolFEUOY/1H8H0hUj5j/JtBr82R7mPxBrdjdeDuY/2BotfXoA5j/hw55kuvzlP+fJw8qh+OU/l30cPVfl5T+LfpCcTLzlP43iuCJPrOU/rhSTscKj5T8rN3i0hozlP+5siV6PeuU/jDeynMdQ5T82UMQSwUnlPx7ru/gpPuU/JvqTtjMy5T8sekHWDSnlP2EVit4jBOU/dSV3UEnp5D/c9Umfat7kP31zQvY51OQ/ZOCVnijD5D+V3PX8+6vkP+sVxljUleQ/1+0A60F/5D/qIK/V3WfkP2fZjuQ4Y+Q/sAiSIH1V5D8OPJPXKTLkP6Sk6rFuJ+Q/c3oSYdYf5D+M3tSE0x3kP0fsY8GaFeQ/7zLKKgTV4z97j1TKfszjP+7gArI1u+M/6MgXlUCx4z/aELEZga7jP5OEoFzpjuM/hHunuE954z/CHlq+tVzjP+Cgdut/UeM/Ukq1q8Y04z8vuvHMux/jP50vv0LNHOM/KOSp0esO4z/FvD25vQrjP7zbqzd26eI/v1Nkwrng4j+VEpqZxq7iP8f1UJ2EqOI/Oni71Nyn4j/B4z5Dn6fiPwYw+0pdneI/V0DYd7aL4j/lWBfxSoviP3JekcAidOI/jg3NIjFx4j9etkIYDFniP+Gbo5lsVOI/kpeUcOdB4j9fnLLj5DriPw3IovtdOuI/3GOuMTQq4j+0iOJTeh3iPxWnNtxHB+I/kdvd9x4E4j/idxVBGP7hPzvhL7pz2+E/gXylySbN4T99iPredcDhP0z/DNtekeE/BWNsrRiN4T/XmbbKbnnhPxwVcLI0beE/f1cOUX5X4T+kKMJVhVThPwiTsiMkSeE/ZYzbSKZA4T/o/9TpFyvhP98bOPDU8+A/ZylzvJnw4D/Bw6IQvtDgPwfVYf5Js+A/NRgpbliS4D8UTIYxrZHgP4n6y5+8iOA/96IyXm1n4D/WVQKW41TgP9dUJQGcSeA/eQa5BYky4D9Ak+0vhjHgP7UutAORLuA/7hQmKT0N4D8b/Yz7eAjgP6zqQT6h1N8/LEZaddbG3z96x0mlUMPfP37jKMKgmN8/6qYHLHOJ3z98Ui9bBInfPxz4fQjkft8/DnjZSJN63z9w6DOYM2nfPyAAFxSlZd8/wjWZAJ1Z3z8AvwmgTUXfP9ZLKYEhOt8/hnoxNsIS3z8KsBUuRP3eP1iX2qfY394/gsFap6+Z3j+EKFBEvVfeP+5hs1C1U94/hrb7k71G3j9W1WAYyT/ePwjcGtNpKt4/8NLINzEG3j884C27L/zdP6J7NkQg290/go9+A5rZ3T862/J8jordP4zWnHe+gt0/IER9z4VV3T+wqjIRkTXdP1T+ssshJN0/aCuc29Ii3T+EhhSZMv3cPwihR6yc+Nw/PGv/Lwbv3D9W1XOIWr/cPzRfv5lSW9w/kOEIqb8q3D8UQ6D8mhbcP0w6ehca9ds/KMOLLi3p2z98nyG+u+jbPzoy3ww63ts/vIjD0abN2z8YdI3KYKvbPwZyGWt2qds/RNefrDB02z/g7UgtXzbbP7KxjEHxHds/5C6ZURT82j8UO2ihoq3aP1DdKpMjf9o/XOaYYl9z2j/MtxQMDEDaPyaPYAzfLto/Ngi9DKcR2j86AXdNEAXaP0YUGKF4d9k/qvqJZ0Fy2T+iBfwerm/ZPwp0Z4F8Xtk/Eqb9PmhR2T9oTUjxaC/ZP3YfCerFG9k/3jt6TaC72D8EgaSJZH3YP2T5ZOPHW9g/jJYE4vNS2D94s1kLI0HYP/oIAm4xP9g/OgCPPcww2D9U3X95YA/YP7S91gu+/9c/YJNo6eXx1z+OYaIJdOnXPy7ttLj72tc/BinwBI/Y1z+ER1EMHdDXP7wSeuWRx9c/PNwc9dbA1z9UItpU76zXP8ak2XXQqtc/JPnRkPA81z8ETtXHPjDXP5ofF7lMJ9c/WkjZuT0d1z9afM4hp77WPxwicgHSjtY/Mt5jZCWJ1j+oG1cLbXjWP6oErLzNatY/0jbQCQdR1j/ialn2hC/WP9be9GFV39U/KP+zda3d1T/qoM/c6dzVP1zixfbLjdU/mnTUhw5s1T9QJCA2dy3VP57dHG0S59Q/BqwAuo2b1D/wYC3qLJjUP6oeBpzHhNQ/8IdlfHhc1D8cJU9tjjnUP65THmcsK9Q/8O12LWwD1D8KwzEwvebTP0iBtgmS2dM/cjS0VUPP0z8Q4BvCEsrTP1bCdQRRsNM/5g9bT5Sv0z/KrUhj+I3TP7QHmPTLRNM/SM9HxVgJ0z9eQb44IfbSP44ScVL8xdI/GDg99tG10j8Kq2x2UJ7SPz4etpKzgdI/NOKXUSh60j+Aj8kLXmPSP9wxo6g4StI/+EnighQN0j/QDQL+igDSP3Alfmv+4dE/oqUQqJPd0T824aSr37/RP7yHUojvndE/uP7bf/OH0T+uVsFyYyzRP/CBsMAaHtE/tg7yOAPr0D+I9IBaUc7QP+778FbqzNA/yB9UKya20D9q1XgT/3bQP5SWqkXqUdA/CBhBrcMu0D+QLSfuhcrPP/C2ocl5kc8/VNfgQRJezz/4YVEaSV3PP8xLng4pos4/zNIqeRULzj90ndaiwNvNPyQ9fq1avc0/NKNGfh48zT+U0H909iLNP6x+7NRfG80/qPAGrBPpzD/IQ7+OV+HMPxD99qdc1Mw/MOMdulbzyz+UyRErbOPLP2D+jtaQ1ss/0E7RYf+Myz9klfzQFkDLPyDQEt4+Ecs/bO+VeTv6yT+kVpxt0ejJPxiW89OqZck/ELq5g3HNyD8g1ZY2ZqTIP1zKIuQC0Mc/vNb1ipGMxz+glPB1PijHP0iXyZTrHMc/8IWqSvAWxz+k05BX4NfGP+w5txi/tMY/WLQly62qxj+Un/4MWYnGPzgItbUjasY//HXX3OJYxj/4uJ5VJBPGP1hu9FSi6cU/kOMEgvzTxT/caz/bNVnEPwiCm6a2EMQ/eFyVVaUhwz+UPXDA+RrDP/zqgegwAMM/DGz6bHbxwj+4UeHOQ+rCPzACSaHTh8I/0PBmxPNQwj+IOrsJiybCP9zrB70pJcI/ZPQsVVvSwT/chzTLXyfBP8g7JPpWD8E/SP2aezrmwD/kvWp2O4rAP+jd6i3sgsA/3H2hQmhtwD8AT2Y+yVjAP6TzaJfKTsA/RPShtiVKwD9Ix4rGvGu+P+BfxZNvjLw/qLon/edkvD+wi2IkTT28P1Ao/5d9Lrw/8CxEmj0cvD/g3E/cae27PxiCGiBnXLs/uPU8ozs5uz/wpRH3yhm7PxhXt1iJ6ro/QIJBuVxTuj/YHmx0qii6P6DnYpgv4bk/eE2rmWRwuD8YulFfZiW4PwBOqemeCrc/IJxFAyectj+wCF8cLRm2PyizI1zL6rU/6OLARPLqtD+IK8zdV5e0P6iMholoa7Q/EJ6sVdvKsz+w1/tvkMqzPwh9FNZ8l7M/UBcpWnqJsz/oB3A+pBqyPwCM4c4cx7E/IGU4Uf+LsT9QT2UftyuxP/iP+0IQILE/SKehAktRsD/wcrh6v/GvP3Dtv3YLiK8/0Bp77tjprT+QqsOJfn2qP5AjjR4q66Y/QPWpYjnGpj/Q06ev9kykP1AyRSF2JaQ/oL3dxF00oz/QeJj6Au6hP7CkIfI5ZKE/AIoc6DVQoT+AHL4rlLmfPyD6trLhnJ8/wDQtcHH1nj9g3mw7WSucP0BUArqs7po/gN6XUeK4mD8gmY/VX/GWP2CxcRF0bJU/4ImquyfLlD9Al+GHIjmUPyDyTPYXUpM/gAXP89EDkT8g3DG98q6QP8CiNtiwk4w/wFWcBY2yij8AW5TOoMOHPwD+dupcSIQ/AJbIfiYAgT8AQRCyM6N+P4DQomnL4XM/gK9zj2bBcj8ActAhyPFZPwBQqXOnoFY/",
          "dtype": "f8"
         },
         "y": {
          "bdata": "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",
          "dtype": "f8"
         }
        },
        {
         "mode": "lines",
         "name": "FPR",
         "type": "scatter",
         "x": {
          "bdata": "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",
          "dtype": "f8"
         },
         "y": {
          "bdata": "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",
          "dtype": "f8"
         }
        },
        {
         "mode": "markers+text",
         "name": "KS Point",
         "text": [
          "KS = 0.056"
         ],
         "type": "scatter",
         "x": [
          0.5254812550466498
         ],
         "y": [
          0.48823529411764705
         ]
        }
       ],
       "layout": {
        "shapes": [
         {
          "line": {
           "color": "black",
           "dash": "dash"
          },
          "type": "line",
          "x0": 0.5254812550466498,
          "x1": 0.5254812550466498,
          "xref": "x",
          "y0": 0,
          "y1": 1,
          "yref": "y domain"
         }
        ],
        "template": {
         "data": {
          "bar": [
           {
            "error_x": {
             "color": "#2a3f5f"
            },
            "error_y": {
             "color": "#2a3f5f"
            },
            "marker": {
             "line": {
              "color": "#E5ECF6",
              "width": 0.5
             },
             "pattern": {
              "fillmode": "overlay",
              "size": 10,
              "solidity": 0.2
             }
            },
            "type": "bar"
           }
          ],
          "barpolar": [
           {
            "marker": {
             "line": {
              "color": "#E5ECF6",
              "width": 0.5
             },
             "pattern": {
              "fillmode": "overlay",
              "size": 10,
              "solidity": 0.2
             }
            },
            "type": "barpolar"
           }
          ],
          "carpet": [
           {
            "aaxis": {
             "endlinecolor": "#2a3f5f",
             "gridcolor": "white",
             "linecolor": "white",
             "minorgridcolor": "white",
             "startlinecolor": "#2a3f5f"
            },
            "baxis": {
             "endlinecolor": "#2a3f5f",
             "gridcolor": "white",
             "linecolor": "white",
             "minorgridcolor": "white",
             "startlinecolor": "#2a3f5f"
            },
            "type": "carpet"
           }
          ],
          "choropleth": [
           {
            "colorbar": {
             "outlinewidth": 0,
             "ticks": ""
            },
            "type": "choropleth"
           }
          ],
          "contour": [
           {
            "colorbar": {
             "outlinewidth": 0,
             "ticks": ""
            },
            "colorscale": [
             [
              0,
              "#0d0887"
             ],
             [
              0.1111111111111111,
              "#46039f"
             ],
             [
              0.2222222222222222,
              "#7201a8"
             ],
             [
              0.3333333333333333,
              "#9c179e"
             ],
             [
              0.4444444444444444,
              "#bd3786"
             ],
             [
              0.5555555555555556,
              "#d8576b"
             ],
             [
              0.6666666666666666,
              "#ed7953"
             ],
             [
              0.7777777777777778,
              "#fb9f3a"
             ],
             [
              0.8888888888888888,
              "#fdca26"
             ],
             [
              1,
              "#f0f921"
             ]
            ],
            "type": "contour"
           }
          ],
          "contourcarpet": [
           {
            "colorbar": {
             "outlinewidth": 0,
             "ticks": ""
            },
            "type": "contourcarpet"
           }
          ],
          "heatmap": [
           {
            "colorbar": {
             "outlinewidth": 0,
             "ticks": ""
            },
            "colorscale": [
             [
              0,
              "#0d0887"
             ],
             [
              0.1111111111111111,
              "#46039f"
             ],
             [
              0.2222222222222222,
              "#7201a8"
             ],
             [
              0.3333333333333333,
              "#9c179e"
             ],
             [
              0.4444444444444444,
              "#bd3786"
             ],
             [
              0.5555555555555556,
              "#d8576b"
             ],
             [
              0.6666666666666666,
              "#ed7953"
             ],
             [
              0.7777777777777778,
              "#fb9f3a"
             ],
             [
              0.8888888888888888,
              "#fdca26"
             ],
             [
              1,
              "#f0f921"
             ]
            ],
            "type": "heatmap"
           }
          ],
          "histogram": [
           {
            "marker": {
             "pattern": {
              "fillmode": "overlay",
              "size": 10,
              "solidity": 0.2
             }
            },
            "type": "histogram"
           }
          ],
          "histogram2d": [
           {
            "colorbar": {
             "outlinewidth": 0,
             "ticks": ""
            },
            "colorscale": [
             [
              0,
              "#0d0887"
             ],
             [
              0.1111111111111111,
              "#46039f"
             ],
             [
              0.2222222222222222,
              "#7201a8"
             ],
             [
              0.3333333333333333,
              "#9c179e"
             ],
             [
              0.4444444444444444,
              "#bd3786"
             ],
             [
              0.5555555555555556,
              "#d8576b"
             ],
             [
              0.6666666666666666,
              "#ed7953"
             ],
             [
              0.7777777777777778,
              "#fb9f3a"
             ],
             [
              0.8888888888888888,
              "#fdca26"
             ],
             [
              1,
              "#f0f921"
             ]
            ],
            "type": "histogram2d"
           }
          ],
          "histogram2dcontour": [
           {
            "colorbar": {
             "outlinewidth": 0,
             "ticks": ""
            },
            "colorscale": [
             [
              0,
              "#0d0887"
             ],
             [
              0.1111111111111111,
              "#46039f"
             ],
             [
              0.2222222222222222,
              "#7201a8"
             ],
             [
              0.3333333333333333,
              "#9c179e"
             ],
             [
              0.4444444444444444,
              "#bd3786"
             ],
             [
              0.5555555555555556,
              "#d8576b"
             ],
             [
              0.6666666666666666,
              "#ed7953"
             ],
             [
              0.7777777777777778,
              "#fb9f3a"
             ],
             [
              0.8888888888888888,
              "#fdca26"
             ],
             [
              1,
              "#f0f921"
             ]
            ],
            "type": "histogram2dcontour"
           }
          ],
          "mesh3d": [
           {
            "colorbar": {
             "outlinewidth": 0,
             "ticks": ""
            },
            "type": "mesh3d"
           }
          ],
          "parcoords": [
           {
            "line": {
             "colorbar": {
              "outlinewidth": 0,
              "ticks": ""
             }
            },
            "type": "parcoords"
           }
          ],
          "pie": [
           {
            "automargin": true,
            "type": "pie"
           }
          ],
          "scatter": [
           {
            "fillpattern": {
             "fillmode": "overlay",
             "size": 10,
             "solidity": 0.2
            },
            "type": "scatter"
           }
          ],
          "scatter3d": [
           {
            "line": {
             "colorbar": {
              "outlinewidth": 0,
              "ticks": ""
             }
            },
            "marker": {
             "colorbar": {
              "outlinewidth": 0,
              "ticks": ""
             }
            },
            "type": "scatter3d"
           }
          ],
          "scattercarpet": [
           {
            "marker": {
             "colorbar": {
              "outlinewidth": 0,
              "ticks": ""
             }
            },
            "type": "scattercarpet"
           }
          ],
          "scattergeo": [
           {
            "marker": {
             "colorbar": {
              "outlinewidth": 0,
              "ticks": ""
             }
            },
            "type": "scattergeo"
           }
          ],
          "scattergl": [
           {
            "marker": {
             "colorbar": {
              "outlinewidth": 0,
              "ticks": ""
             }
            },
            "type": "scattergl"
           }
          ],
          "scattermap": [
           {
            "marker": {
             "colorbar": {
              "outlinewidth": 0,
              "ticks": ""
             }
            },
            "type": "scattermap"
           }
          ],
          "scattermapbox": [
           {
            "marker": {
             "colorbar": {
              "outlinewidth": 0,
              "ticks": ""
             }
            },
            "type": "scattermapbox"
           }
          ],
          "scatterpolar": [
           {
            "marker": {
             "colorbar": {
              "outlinewidth": 0,
              "ticks": ""
             }
            },
            "type": "scatterpolar"
           }
          ],
          "scatterpolargl": [
           {
            "marker": {
             "colorbar": {
              "outlinewidth": 0,
              "ticks": ""
             }
            },
            "type": "scatterpolargl"
           }
          ],
          "scatterternary": [
           {
            "marker": {
             "colorbar": {
              "outlinewidth": 0,
              "ticks": ""
             }
            },
            "type": "scatterternary"
           }
          ],
          "surface": [
           {
            "colorbar": {
             "outlinewidth": 0,
             "ticks": ""
            },
            "colorscale": [
             [
              0,
              "#0d0887"
             ],
             [
              0.1111111111111111,
              "#46039f"
             ],
             [
              0.2222222222222222,
              "#7201a8"
             ],
             [
              0.3333333333333333,
              "#9c179e"
             ],
             [
              0.4444444444444444,
              "#bd3786"
             ],
             [
              0.5555555555555556,
              "#d8576b"
             ],
             [
              0.6666666666666666,
              "#ed7953"
             ],
             [
              0.7777777777777778,
              "#fb9f3a"
             ],
             [
              0.8888888888888888,
              "#fdca26"
             ],
             [
              1,
              "#f0f921"
             ]
            ],
            "type": "surface"
           }
          ],
          "table": [
           {
            "cells": {
             "fill": {
              "color": "#EBF0F8"
             },
             "line": {
              "color": "white"
             }
            },
            "header": {
             "fill": {
              "color": "#C8D4E3"
             },
             "line": {
              "color": "white"
             }
            },
            "type": "table"
           }
          ]
         },
         "layout": {
          "annotationdefaults": {
           "arrowcolor": "#2a3f5f",
           "arrowhead": 0,
           "arrowwidth": 1
          },
          "autotypenumbers": "strict",
          "coloraxis": {
           "colorbar": {
            "outlinewidth": 0,
            "ticks": ""
           }
          },
          "colorscale": {
           "diverging": [
            [
             0,
             "#8e0152"
            ],
            [
             0.1,
             "#c51b7d"
            ],
            [
             0.2,
             "#de77ae"
            ],
            [
             0.3,
             "#f1b6da"
            ],
            [
             0.4,
             "#fde0ef"
            ],
            [
             0.5,
             "#f7f7f7"
            ],
            [
             0.6,
             "#e6f5d0"
            ],
            [
             0.7,
             "#b8e186"
            ],
            [
             0.8,
             "#7fbc41"
            ],
            [
             0.9,
             "#4d9221"
            ],
            [
             1,
             "#276419"
            ]
           ],
           "sequential": [
            [
             0,
             "#0d0887"
            ],
            [
             0.1111111111111111,
             "#46039f"
            ],
            [
             0.2222222222222222,
             "#7201a8"
            ],
            [
             0.3333333333333333,
             "#9c179e"
            ],
            [
             0.4444444444444444,
             "#bd3786"
            ],
            [
             0.5555555555555556,
             "#d8576b"
            ],
            [
             0.6666666666666666,
             "#ed7953"
            ],
            [
             0.7777777777777778,
             "#fb9f3a"
            ],
            [
             0.8888888888888888,
             "#fdca26"
            ],
            [
             1,
             "#f0f921"
            ]
           ],
           "sequentialminus": [
            [
             0,
             "#0d0887"
            ],
            [
             0.1111111111111111,
             "#46039f"
            ],
            [
             0.2222222222222222,
             "#7201a8"
            ],
            [
             0.3333333333333333,
             "#9c179e"
            ],
            [
             0.4444444444444444,
             "#bd3786"
            ],
            [
             0.5555555555555556,
             "#d8576b"
            ],
            [
             0.6666666666666666,
             "#ed7953"
            ],
            [
             0.7777777777777778,
             "#fb9f3a"
            ],
            [
             0.8888888888888888,
             "#fdca26"
            ],
            [
             1,
             "#f0f921"
            ]
           ]
          },
          "colorway": [
           "#636efa",
           "#EF553B",
           "#00cc96",
           "#ab63fa",
           "#FFA15A",
           "#19d3f3",
           "#FF6692",
           "#B6E880",
           "#FF97FF",
           "#FECB52"
          ],
          "font": {
           "color": "#2a3f5f"
          },
          "geo": {
           "bgcolor": "white",
           "lakecolor": "white",
           "landcolor": "#E5ECF6",
           "showlakes": true,
           "showland": true,
           "subunitcolor": "white"
          },
          "hoverlabel": {
           "align": "left"
          },
          "hovermode": "closest",
          "mapbox": {
           "style": "light"
          },
          "paper_bgcolor": "white",
          "plot_bgcolor": "#E5ECF6",
          "polar": {
           "angularaxis": {
            "gridcolor": "white",
            "linecolor": "white",
            "ticks": ""
           },
           "bgcolor": "#E5ECF6",
           "radialaxis": {
            "gridcolor": "white",
            "linecolor": "white",
            "ticks": ""
           }
          },
          "scene": {
           "xaxis": {
            "backgroundcolor": "#E5ECF6",
            "gridcolor": "white",
            "gridwidth": 2,
            "linecolor": "white",
            "showbackground": true,
            "ticks": "",
            "zerolinecolor": "white"
           },
           "yaxis": {
            "backgroundcolor": "#E5ECF6",
            "gridcolor": "white",
            "gridwidth": 2,
            "linecolor": "white",
            "showbackground": true,
            "ticks": "",
            "zerolinecolor": "white"
           },
           "zaxis": {
            "backgroundcolor": "#E5ECF6",
            "gridcolor": "white",
            "gridwidth": 2,
            "linecolor": "white",
            "showbackground": true,
            "ticks": "",
            "zerolinecolor": "white"
           }
          },
          "shapedefaults": {
           "line": {
            "color": "#2a3f5f"
           }
          },
          "ternary": {
           "aaxis": {
            "gridcolor": "white",
            "linecolor": "white",
            "ticks": ""
           },
           "baxis": {
            "gridcolor": "white",
            "linecolor": "white",
            "ticks": ""
           },
           "bgcolor": "#E5ECF6",
           "caxis": {
            "gridcolor": "white",
            "linecolor": "white",
            "ticks": ""
           }
          },
          "title": {
           "x": 0.05
          },
          "xaxis": {
           "automargin": true,
           "gridcolor": "white",
           "linecolor": "white",
           "ticks": "",
           "title": {
            "standoff": 15
           },
           "zerolinecolor": "white",
           "zerolinewidth": 2
          },
          "yaxis": {
           "automargin": true,
           "gridcolor": "white",
           "linecolor": "white",
           "ticks": "",
           "title": {
            "standoff": 15
           },
           "zerolinecolor": "white",
           "zerolinewidth": 2
          }
         }
        },
        "title": {
         "text": "Curva KS"
        },
        "xaxis": {
         "title": {
          "text": "Umbral"
         }
        },
        "yaxis": {
         "title": {
          "text": "Rate"
         }
        }
       }
      }
     },
     "metadata": {},
     "output_type": "display_data"
    },
    {
     "data": {
      "application/vnd.plotly.v1+json": {
       "config": {
        "plotlyServerURL": "https://plot.ly"
       },
       "data": [
        {
         "mode": "lines+markers",
         "name": "Calibración",
         "type": "scatter",
         "x": {
          "bdata": "ItVn0+phqD9wv2aMjOzCP3yKgkV9C9A/bfToyQSm1j89EdvbrQzdP2X4eXutgeE/odT++Bnn5D+QYeElNP3nPz9GSONNHOs/GdD8VyuH7j8=",
          "dtype": "f8"
         },
         "y": {
          "bdata": "DYl5O0Ni3j96O0Ni3s7gPyIxb2dIzNs/Usl5WcQn4D8g+7Ef+7HfP7TFyvCNKOA/R9wRd8Qd4T+xEzuxEzvhP54S5ClBnuI/AAAAAAAA4D8=",
          "dtype": "f8"
         }
        },
        {
         "line": {
          "dash": "dash"
         },
         "mode": "lines",
         "name": "Perfecto",
         "type": "scatter",
         "x": [
          0,
          1
         ],
         "y": [
          0,
          1
         ]
        }
       ],
       "layout": {
        "template": {
         "data": {
          "bar": [
           {
            "error_x": {
             "color": "#2a3f5f"
            },
            "error_y": {
             "color": "#2a3f5f"
            },
            "marker": {
             "line": {
              "color": "#E5ECF6",
              "width": 0.5
             },
             "pattern": {
              "fillmode": "overlay",
              "size": 10,
              "solidity": 0.2
             }
            },
            "type": "bar"
           }
          ],
          "barpolar": [
           {
            "marker": {
             "line": {
              "color": "#E5ECF6",
              "width": 0.5
             },
             "pattern": {
              "fillmode": "overlay",
              "size": 10,
              "solidity": 0.2
             }
            },
            "type": "barpolar"
           }
          ],
          "carpet": [
           {
            "aaxis": {
             "endlinecolor": "#2a3f5f",
             "gridcolor": "white",
             "linecolor": "white",
             "minorgridcolor": "white",
             "startlinecolor": "#2a3f5f"
            },
            "baxis": {
             "endlinecolor": "#2a3f5f",
             "gridcolor": "white",
             "linecolor": "white",
             "minorgridcolor": "white",
             "startlinecolor": "#2a3f5f"
            },
            "type": "carpet"
           }
          ],
          "choropleth": [
           {
            "colorbar": {
             "outlinewidth": 0,
             "ticks": ""
            },
            "type": "choropleth"
           }
          ],
          "contour": [
           {
            "colorbar": {
             "outlinewidth": 0,
             "ticks": ""
            },
            "colorscale": [
             [
              0,
              "#0d0887"
             ],
             [
              0.1111111111111111,
              "#46039f"
             ],
             [
              0.2222222222222222,
              "#7201a8"
             ],
             [
              0.3333333333333333,
              "#9c179e"
             ],
             [
              0.4444444444444444,
              "#bd3786"
             ],
             [
              0.5555555555555556,
              "#d8576b"
             ],
             [
              0.6666666666666666,
              "#ed7953"
             ],
             [
              0.7777777777777778,
              "#fb9f3a"
             ],
             [
              0.8888888888888888,
              "#fdca26"
             ],
             [
              1,
              "#f0f921"
             ]
            ],
            "type": "contour"
           }
          ],
          "contourcarpet": [
           {
            "colorbar": {
             "outlinewidth": 0,
             "ticks": ""
            },
            "type": "contourcarpet"
           }
          ],
          "heatmap": [
           {
            "colorbar": {
             "outlinewidth": 0,
             "ticks": ""
            },
            "colorscale": [
             [
              0,
              "#0d0887"
             ],
             [
              0.1111111111111111,
              "#46039f"
             ],
             [
              0.2222222222222222,
              "#7201a8"
             ],
             [
              0.3333333333333333,
              "#9c179e"
             ],
             [
              0.4444444444444444,
              "#bd3786"
             ],
             [
              0.5555555555555556,
              "#d8576b"
             ],
             [
              0.6666666666666666,
              "#ed7953"
             ],
             [
              0.7777777777777778,
              "#fb9f3a"
             ],
             [
              0.8888888888888888,
              "#fdca26"
             ],
             [
              1,
              "#f0f921"
             ]
            ],
            "type": "heatmap"
           }
          ],
          "histogram": [
           {
            "marker": {
             "pattern": {
              "fillmode": "overlay",
              "size": 10,
              "solidity": 0.2
             }
            },
            "type": "histogram"
           }
          ],
          "histogram2d": [
           {
            "colorbar": {
             "outlinewidth": 0,
             "ticks": ""
            },
            "colorscale": [
             [
              0,
              "#0d0887"
             ],
             [
              0.1111111111111111,
              "#46039f"
             ],
             [
              0.2222222222222222,
              "#7201a8"
             ],
             [
              0.3333333333333333,
              "#9c179e"
             ],
             [
              0.4444444444444444,
              "#bd3786"
             ],
             [
              0.5555555555555556,
              "#d8576b"
             ],
             [
              0.6666666666666666,
              "#ed7953"
             ],
             [
              0.7777777777777778,
              "#fb9f3a"
             ],
             [
              0.8888888888888888,
              "#fdca26"
             ],
             [
              1,
              "#f0f921"
             ]
            ],
            "type": "histogram2d"
           }
          ],
          "histogram2dcontour": [
           {
            "colorbar": {
             "outlinewidth": 0,
             "ticks": ""
            },
            "colorscale": [
             [
              0,
              "#0d0887"
             ],
             [
              0.1111111111111111,
              "#46039f"
             ],
             [
              0.2222222222222222,
              "#7201a8"
             ],
             [
              0.3333333333333333,
              "#9c179e"
             ],
             [
              0.4444444444444444,
              "#bd3786"
             ],
             [
              0.5555555555555556,
              "#d8576b"
             ],
             [
              0.6666666666666666,
              "#ed7953"
             ],
             [
              0.7777777777777778,
              "#fb9f3a"
             ],
             [
              0.8888888888888888,
              "#fdca26"
             ],
             [
              1,
              "#f0f921"
             ]
            ],
            "type": "histogram2dcontour"
           }
          ],
          "mesh3d": [
           {
            "colorbar": {
             "outlinewidth": 0,
             "ticks": ""
            },
            "type": "mesh3d"
           }
          ],
          "parcoords": [
           {
            "line": {
             "colorbar": {
              "outlinewidth": 0,
              "ticks": ""
             }
            },
            "type": "parcoords"
           }
          ],
          "pie": [
           {
            "automargin": true,
            "type": "pie"
           }
          ],
          "scatter": [
           {
            "fillpattern": {
             "fillmode": "overlay",
             "size": 10,
             "solidity": 0.2
            },
            "type": "scatter"
           }
          ],
          "scatter3d": [
           {
            "line": {
             "colorbar": {
              "outlinewidth": 0,
              "ticks": ""
             }
            },
            "marker": {
             "colorbar": {
              "outlinewidth": 0,
              "ticks": ""
             }
            },
            "type": "scatter3d"
           }
          ],
          "scattercarpet": [
           {
            "marker": {
             "colorbar": {
              "outlinewidth": 0,
              "ticks": ""
             }
            },
            "type": "scattercarpet"
           }
          ],
          "scattergeo": [
           {
            "marker": {
             "colorbar": {
              "outlinewidth": 0,
              "ticks": ""
             }
            },
            "type": "scattergeo"
           }
          ],
          "scattergl": [
           {
            "marker": {
             "colorbar": {
              "outlinewidth": 0,
              "ticks": ""
             }
            },
            "type": "scattergl"
           }
          ],
          "scattermap": [
           {
            "marker": {
             "colorbar": {
              "outlinewidth": 0,
              "ticks": ""
             }
            },
            "type": "scattermap"
           }
          ],
          "scattermapbox": [
           {
            "marker": {
             "colorbar": {
              "outlinewidth": 0,
              "ticks": ""
             }
            },
            "type": "scattermapbox"
           }
          ],
          "scatterpolar": [
           {
            "marker": {
             "colorbar": {
              "outlinewidth": 0,
              "ticks": ""
             }
            },
            "type": "scatterpolar"
           }
          ],
          "scatterpolargl": [
           {
            "marker": {
             "colorbar": {
              "outlinewidth": 0,
              "ticks": ""
             }
            },
            "type": "scatterpolargl"
           }
          ],
          "scatterternary": [
           {
            "marker": {
             "colorbar": {
              "outlinewidth": 0,
              "ticks": ""
             }
            },
            "type": "scatterternary"
           }
          ],
          "surface": [
           {
            "colorbar": {
             "outlinewidth": 0,
             "ticks": ""
            },
            "colorscale": [
             [
              0,
              "#0d0887"
             ],
             [
              0.1111111111111111,
              "#46039f"
             ],
             [
              0.2222222222222222,
              "#7201a8"
             ],
             [
              0.3333333333333333,
              "#9c179e"
             ],
             [
              0.4444444444444444,
              "#bd3786"
             ],
             [
              0.5555555555555556,
              "#d8576b"
             ],
             [
              0.6666666666666666,
              "#ed7953"
             ],
             [
              0.7777777777777778,
              "#fb9f3a"
             ],
             [
              0.8888888888888888,
              "#fdca26"
             ],
             [
              1,
              "#f0f921"
             ]
            ],
            "type": "surface"
           }
          ],
          "table": [
           {
            "cells": {
             "fill": {
              "color": "#EBF0F8"
             },
             "line": {
              "color": "white"
             }
            },
            "header": {
             "fill": {
              "color": "#C8D4E3"
             },
             "line": {
              "color": "white"
             }
            },
            "type": "table"
           }
          ]
         },
         "layout": {
          "annotationdefaults": {
           "arrowcolor": "#2a3f5f",
           "arrowhead": 0,
           "arrowwidth": 1
          },
          "autotypenumbers": "strict",
          "coloraxis": {
           "colorbar": {
            "outlinewidth": 0,
            "ticks": ""
           }
          },
          "colorscale": {
           "diverging": [
            [
             0,
             "#8e0152"
            ],
            [
             0.1,
             "#c51b7d"
            ],
            [
             0.2,
             "#de77ae"
            ],
            [
             0.3,
             "#f1b6da"
            ],
            [
             0.4,
             "#fde0ef"
            ],
            [
             0.5,
             "#f7f7f7"
            ],
            [
             0.6,
             "#e6f5d0"
            ],
            [
             0.7,
             "#b8e186"
            ],
            [
             0.8,
             "#7fbc41"
            ],
            [
             0.9,
             "#4d9221"
            ],
            [
             1,
             "#276419"
            ]
           ],
           "sequential": [
            [
             0,
             "#0d0887"
            ],
            [
             0.1111111111111111,
             "#46039f"
            ],
            [
             0.2222222222222222,
             "#7201a8"
            ],
            [
             0.3333333333333333,
             "#9c179e"
            ],
            [
             0.4444444444444444,
             "#bd3786"
            ],
            [
             0.5555555555555556,
             "#d8576b"
            ],
            [
             0.6666666666666666,
             "#ed7953"
            ],
            [
             0.7777777777777778,
             "#fb9f3a"
            ],
            [
             0.8888888888888888,
             "#fdca26"
            ],
            [
             1,
             "#f0f921"
            ]
           ],
           "sequentialminus": [
            [
             0,
             "#0d0887"
            ],
            [
             0.1111111111111111,
             "#46039f"
            ],
            [
             0.2222222222222222,
             "#7201a8"
            ],
            [
             0.3333333333333333,
             "#9c179e"
            ],
            [
             0.4444444444444444,
             "#bd3786"
            ],
            [
             0.5555555555555556,
             "#d8576b"
            ],
            [
             0.6666666666666666,
             "#ed7953"
            ],
            [
             0.7777777777777778,
             "#fb9f3a"
            ],
            [
             0.8888888888888888,
             "#fdca26"
            ],
            [
             1,
             "#f0f921"
            ]
           ]
          },
          "colorway": [
           "#636efa",
           "#EF553B",
           "#00cc96",
           "#ab63fa",
           "#FFA15A",
           "#19d3f3",
           "#FF6692",
           "#B6E880",
           "#FF97FF",
           "#FECB52"
          ],
          "font": {
           "color": "#2a3f5f"
          },
          "geo": {
           "bgcolor": "white",
           "lakecolor": "white",
           "landcolor": "#E5ECF6",
           "showlakes": true,
           "showland": true,
           "subunitcolor": "white"
          },
          "hoverlabel": {
           "align": "left"
          },
          "hovermode": "closest",
          "mapbox": {
           "style": "light"
          },
          "paper_bgcolor": "white",
          "plot_bgcolor": "#E5ECF6",
          "polar": {
           "angularaxis": {
            "gridcolor": "white",
            "linecolor": "white",
            "ticks": ""
           },
           "bgcolor": "#E5ECF6",
           "radialaxis": {
            "gridcolor": "white",
            "linecolor": "white",
            "ticks": ""
           }
          },
          "scene": {
           "xaxis": {
            "backgroundcolor": "#E5ECF6",
            "gridcolor": "white",
            "gridwidth": 2,
            "linecolor": "white",
            "showbackground": true,
            "ticks": "",
            "zerolinecolor": "white"
           },
           "yaxis": {
            "backgroundcolor": "#E5ECF6",
            "gridcolor": "white",
            "gridwidth": 2,
            "linecolor": "white",
            "showbackground": true,
            "ticks": "",
            "zerolinecolor": "white"
           },
           "zaxis": {
            "backgroundcolor": "#E5ECF6",
            "gridcolor": "white",
            "gridwidth": 2,
            "linecolor": "white",
            "showbackground": true,
            "ticks": "",
            "zerolinecolor": "white"
           }
          },
          "shapedefaults": {
           "line": {
            "color": "#2a3f5f"
           }
          },
          "ternary": {
           "aaxis": {
            "gridcolor": "white",
            "linecolor": "white",
            "ticks": ""
           },
           "baxis": {
            "gridcolor": "white",
            "linecolor": "white",
            "ticks": ""
           },
           "bgcolor": "#E5ECF6",
           "caxis": {
            "gridcolor": "white",
            "linecolor": "white",
            "ticks": ""
           }
          },
          "title": {
           "x": 0.05
          },
          "xaxis": {
           "automargin": true,
           "gridcolor": "white",
           "linecolor": "white",
           "ticks": "",
           "title": {
            "standoff": 15
           },
           "zerolinecolor": "white",
           "zerolinewidth": 2
          },
          "yaxis": {
           "automargin": true,
           "gridcolor": "white",
           "linecolor": "white",
           "ticks": "",
           "title": {
            "standoff": 15
           },
           "zerolinecolor": "white",
           "zerolinewidth": 2
          }
         }
        },
        "title": {
         "text": "Curva de Calibración"
        },
        "xaxis": {
         "title": {
          "text": "Probabilidad media predicha"
         }
        },
        "yaxis": {
         "title": {
          "text": "Frecuencia real"
         }
        }
       }
      }
     },
     "metadata": {},
     "output_type": "display_data"
    }
   ],
   "source": [
    "def plot_gain_lift_plotly(y_true, y_score):\n",
    "    df_sort = pd.DataFrame({\"y\": y_true, \"score\": y_score}).sort_values(\"score\", ascending=False)\n",
    "    df_sort[\"cum_recall\"] = df_sort[\"y\"].cumsum() / df_sort[\"y\"].sum()\n",
    "    df_sort[\"perc_data\"] = np.arange(1, len(df_sort) + 1) / len(df_sort)\n",
    "    lift = df_sort[\"cum_recall\"] / df_sort[\"perc_data\"]\n",
    "\n",
    "    fig_gain = go.Figure()\n",
    "    fig_gain.add_trace(go.Scatter(x=df_sort[\"perc_data\"], y=df_sort[\"cum_recall\"], mode=\"lines\", name=\"Gain\"))\n",
    "    fig_gain.add_trace(go.Scatter(x=[0, 1], y=[0, 1], mode=\"lines\", name=\"Aleatorio\", line=dict(dash=\"dash\")))\n",
    "    fig_gain.update_layout(title=\"Curva Gain\", xaxis_title=\"% datos ordenados por score\", yaxis_title=\"% positivos capturados\")\n",
    "\n",
    "    fig_lift = go.Figure()\n",
    "    fig_lift.add_trace(go.Scatter(x=df_sort[\"perc_data\"], y=lift, mode=\"lines\", name=\"Lift\"))\n",
    "    fig_lift.add_trace(go.Scatter(x=[0, 1], y=[1, 1], mode=\"lines\", name=\"Base\", line=dict(dash=\"dash\")))\n",
    "    fig_lift.update_layout(title=\"Curva Lift\", xaxis_title=\"% datos\", yaxis_title=\"Lift\")\n",
    "\n",
    "    return fig_gain, fig_lift\n",
    "\n",
    "def plot_ks_curve_plotly(y_true, y_score):\n",
    "    fpr, tpr, thr = roc_curve(y_true, y_score)\n",
    "    ks_stat = max(tpr - fpr)\n",
    "    ks_thr = thr[np.argmax(tpr - fpr)]\n",
    "\n",
    "    fig_ks = go.Figure()\n",
    "    fig_ks.add_trace(go.Scatter(x=thr, y=tpr, mode='lines', name='TPR'))\n",
    "    fig_ks.add_trace(go.Scatter(x=thr, y=fpr, mode='lines', name='FPR'))\n",
    "    fig_ks.add_trace(go.Scatter(x=[ks_thr], y=[tpr[np.argmax(tpr - fpr)]], mode='markers+text',\n",
    "                                text=[f\"KS = {ks_stat:.3f}\"], name='KS Point'))\n",
    "    fig_ks.add_vline(x=ks_thr, line_dash=\"dash\", line_color=\"black\")\n",
    "    fig_ks.update_layout(title=\"Curva KS\", xaxis_title=\"Umbral\", yaxis_title=\"Rate\")\n",
    "    return fig_ks\n",
    "\n",
    "def plot_calibration_curve_plotly(y_true, y_score, n_bins=10):\n",
    "    prob_true, prob_pred = calibration_curve(y_true, y_score, n_bins=n_bins)\n",
    "    fig_calib = go.Figure()\n",
    "    fig_calib.add_trace(go.Scatter(x=prob_pred, y=prob_true, mode='lines+markers', name='Calibración'))\n",
    "    fig_calib.add_trace(go.Scatter(x=[0, 1], y=[0, 1], mode='lines', name='Perfecto', line=dict(dash='dash')))\n",
    "    fig_calib.update_layout(title=\"Curva de Calibración\", xaxis_title=\"Probabilidad media predicha\", yaxis_title=\"Frecuencia real\")\n",
    "    return fig_calib\n",
    "\n",
    "# Simula valores (o reemplaza con los reales)\n",
    "y_test = np.random.randint(0, 2, 1000)\n",
    "y_proba = np.random.rand(1000)\n",
    "\n",
    "# Mostrar\n",
    "fig_gain, fig_lift = plot_gain_lift_plotly(y_test, y_proba)\n",
    "fig_ks = plot_ks_curve_plotly(y_test, y_proba)\n",
    "fig_calib = plot_calibration_curve_plotly(y_test, y_proba)\n",
    "\n",
    "fig_gain.show()\n",
    "fig_lift.show()\n",
    "fig_ks.show()\n",
    "fig_calib.show()\n"
   ]
  }
 ],
 "metadata": {
  "kernelspec": {
   "display_name": "Python 3",
   "language": "python",
   "name": "python3"
  },
  "language_info": {
   "codemirror_mode": {
    "name": "ipython",
    "version": 3
   },
   "file_extension": ".py",
   "mimetype": "text/x-python",
   "name": "python",
   "nbconvert_exporter": "python",
   "pygments_lexer": "ipython3",
   "version": "3.13.2"
  }
 },
 "nbformat": 4,
 "nbformat_minor": 5
}
